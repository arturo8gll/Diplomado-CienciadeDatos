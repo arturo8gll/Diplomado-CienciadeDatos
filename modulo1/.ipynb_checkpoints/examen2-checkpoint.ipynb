{
 "cells": [
  {
   "cell_type": "code",
   "execution_count": 513,
   "metadata": {},
   "outputs": [],
   "source": [
    "import pygal\n",
    "import numpy as np\n",
    "import pandas as pd\n",
    "import math\n",
    "import os\n",
    "from scipy.stats import ks_2samp\n",
    "from scipy.stats import chisquare\n",
    "from IPython.display import display, HTML\n",
    "%matplotlib inline\n",
    "\n",
    "base_html = \"\"\"\n",
    "<!DOCTYPE html>\n",
    "<html>\n",
    "  <head>\n",
    "  <script type=\"text/javascript\" src=\"http://kozea.github.com/pygal.js/javascripts/svg.jquery.js\"></script>\n",
    "  <script type=\"text/javascript\" src=\"https://kozea.github.io/pygal.js/2.0.x/pygal-tooltips.min.js\"\"></script>\n",
    "  </head>\n",
    "  <body>\n",
    "    <figure>\n",
    "      {rendered_chart}\n",
    "    </figure>\n",
    "  </body>\n",
    "</html>\n",
    "\"\"\""
   ]
  },
  {
   "cell_type": "code",
   "execution_count": 467,
   "metadata": {},
   "outputs": [],
   "source": [
    "df=pd.read_csv('./csv/movies.csv')"
   ]
  },
  {
   "cell_type": "code",
   "execution_count": 468,
   "metadata": {},
   "outputs": [
    {
     "data": {
      "text/html": [
       "<div>\n",
       "<style scoped>\n",
       "    .dataframe tbody tr th:only-of-type {\n",
       "        vertical-align: middle;\n",
       "    }\n",
       "\n",
       "    .dataframe tbody tr th {\n",
       "        vertical-align: top;\n",
       "    }\n",
       "\n",
       "    .dataframe thead th {\n",
       "        text-align: right;\n",
       "    }\n",
       "</style>\n",
       "<table border=\"1\" class=\"dataframe\">\n",
       "  <thead>\n",
       "    <tr style=\"text-align: right;\">\n",
       "      <th></th>\n",
       "      <th>movie_title</th>\n",
       "      <th>movie_imdb_link</th>\n",
       "      <th>color</th>\n",
       "      <th>genre_4</th>\n",
       "      <th>duration</th>\n",
       "      <th>gross</th>\n",
       "      <th>genre_1</th>\n",
       "      <th>genre_2</th>\n",
       "      <th>genre_3</th>\n",
       "      <th>num_voted_users</th>\n",
       "      <th>facenumber_in_poster</th>\n",
       "      <th>language</th>\n",
       "      <th>country</th>\n",
       "      <th>content_rating</th>\n",
       "      <th>title_year</th>\n",
       "      <th>imdb_score</th>\n",
       "    </tr>\n",
       "  </thead>\n",
       "  <tbody>\n",
       "    <tr>\n",
       "      <td>0</td>\n",
       "      <td>Femme Fatale</td>\n",
       "      <td>http://www.imdb.com/title/tt0280665/?ref_=fn_t...</td>\n",
       "      <td>Color</td>\n",
       "      <td>Thriller</td>\n",
       "      <td>114.0</td>\n",
       "      <td>NaN</td>\n",
       "      <td>Crime</td>\n",
       "      <td>Drama</td>\n",
       "      <td>Mystery</td>\n",
       "      <td>28584</td>\n",
       "      <td>1</td>\n",
       "      <td>English</td>\n",
       "      <td>France</td>\n",
       "      <td>R</td>\n",
       "      <td>2002.0</td>\n",
       "      <td>6.3</td>\n",
       "    </tr>\n",
       "    <tr>\n",
       "      <td>1</td>\n",
       "      <td>An Unfinished Life</td>\n",
       "      <td>http://www.imdb.com/title/tt0350261/?ref_=fn_t...</td>\n",
       "      <td>Color</td>\n",
       "      <td>NaN</td>\n",
       "      <td>108.0</td>\n",
       "      <td>NaN</td>\n",
       "      <td>Drama</td>\n",
       "      <td>NaN</td>\n",
       "      <td>NaN</td>\n",
       "      <td>24033</td>\n",
       "      <td>3</td>\n",
       "      <td>English</td>\n",
       "      <td>USA</td>\n",
       "      <td>PG-13</td>\n",
       "      <td>2005.0</td>\n",
       "      <td>7.0</td>\n",
       "    </tr>\n",
       "    <tr>\n",
       "      <td>2</td>\n",
       "      <td>C.H.U.D.</td>\n",
       "      <td>http://www.imdb.com/title/tt0087015/?ref_=fn_t...</td>\n",
       "      <td>Color</td>\n",
       "      <td>NaN</td>\n",
       "      <td>96.0</td>\n",
       "      <td>NaN</td>\n",
       "      <td>Horror</td>\n",
       "      <td>Sci-Fi</td>\n",
       "      <td>NaN</td>\n",
       "      <td>7528</td>\n",
       "      <td>0</td>\n",
       "      <td>English</td>\n",
       "      <td>USA</td>\n",
       "      <td>R</td>\n",
       "      <td>1984.0</td>\n",
       "      <td>5.5</td>\n",
       "    </tr>\n",
       "    <tr>\n",
       "      <td>3</td>\n",
       "      <td>Just Wright</td>\n",
       "      <td>http://www.imdb.com/title/tt1407061/?ref_=fn_t...</td>\n",
       "      <td>Color</td>\n",
       "      <td>NaN</td>\n",
       "      <td>100.0</td>\n",
       "      <td>21520719.0</td>\n",
       "      <td>Comedy</td>\n",
       "      <td>Romance</td>\n",
       "      <td>Sport</td>\n",
       "      <td>10103</td>\n",
       "      <td>1</td>\n",
       "      <td>English</td>\n",
       "      <td>USA</td>\n",
       "      <td>PG</td>\n",
       "      <td>2010.0</td>\n",
       "      <td>5.8</td>\n",
       "    </tr>\n",
       "    <tr>\n",
       "      <td>4</td>\n",
       "      <td>Yentl</td>\n",
       "      <td>http://www.imdb.com/title/tt0086619/?ref_=fn_t...</td>\n",
       "      <td>Color</td>\n",
       "      <td>NaN</td>\n",
       "      <td>132.0</td>\n",
       "      <td>30400000.0</td>\n",
       "      <td>Drama</td>\n",
       "      <td>Musical</td>\n",
       "      <td>Romance</td>\n",
       "      <td>9503</td>\n",
       "      <td>1</td>\n",
       "      <td>English</td>\n",
       "      <td>UK</td>\n",
       "      <td>PG</td>\n",
       "      <td>1983.0</td>\n",
       "      <td>6.6</td>\n",
       "    </tr>\n",
       "  </tbody>\n",
       "</table>\n",
       "</div>"
      ],
      "text/plain": [
       "           movie_title                                    movie_imdb_link  \\\n",
       "0        Femme Fatale   http://www.imdb.com/title/tt0280665/?ref_=fn_t...   \n",
       "1  An Unfinished Life   http://www.imdb.com/title/tt0350261/?ref_=fn_t...   \n",
       "2            C.H.U.D.   http://www.imdb.com/title/tt0087015/?ref_=fn_t...   \n",
       "3         Just Wright   http://www.imdb.com/title/tt1407061/?ref_=fn_t...   \n",
       "4               Yentl   http://www.imdb.com/title/tt0086619/?ref_=fn_t...   \n",
       "\n",
       "   color   genre_4  duration       gross genre_1  genre_2  genre_3  \\\n",
       "0  Color  Thriller     114.0         NaN   Crime    Drama  Mystery   \n",
       "1  Color       NaN     108.0         NaN   Drama      NaN      NaN   \n",
       "2  Color       NaN      96.0         NaN  Horror   Sci-Fi      NaN   \n",
       "3  Color       NaN     100.0  21520719.0  Comedy  Romance    Sport   \n",
       "4  Color       NaN     132.0  30400000.0   Drama  Musical  Romance   \n",
       "\n",
       "  num_voted_users facenumber_in_poster language country content_rating  \\\n",
       "0           28584                    1  English  France              R   \n",
       "1           24033                    3  English     USA          PG-13   \n",
       "2            7528                    0  English     USA              R   \n",
       "3           10103                    1  English     USA             PG   \n",
       "4            9503                    1  English      UK             PG   \n",
       "\n",
       "   title_year  imdb_score  \n",
       "0      2002.0         6.3  \n",
       "1      2005.0         7.0  \n",
       "2      1984.0         5.5  \n",
       "3      2010.0         5.8  \n",
       "4      1983.0         6.6  "
      ]
     },
     "execution_count": 468,
     "metadata": {},
     "output_type": "execute_result"
    }
   ],
   "source": [
    "df.head()"
   ]
  },
  {
   "cell_type": "markdown",
   "metadata": {},
   "source": [
    "### Analisis Exploratorio de Datos"
   ]
  },
  {
   "cell_type": "markdown",
   "metadata": {},
   "source": [
    "### a) Indique cuales de las variables presentadas son discretas y cuales continuas."
   ]
  },
  {
   "cell_type": "markdown",
   "metadata": {},
   "source": [
    "| Variable      | Cont/Disc     |\n",
    "| ------------- |:-------------:|\n",
    "| movie_title   | Discreto |\n",
    "| movie_imdb_link| Discreto  |\n",
    "| color | Discreto|\n",
    "| duration | Continuo|\n",
    "| gross | Continuo|\n",
    "| genre_1 | Discreto|\n",
    "| genre_2 | Discreto|\n",
    "| genre_3 | Discreto|\n",
    "| genre_4 | Discreto|\n",
    "| num_voted_users | Continuo|\n",
    "| facenumber_in_poster | Continuo|\n",
    "| language | Discreto|\n",
    "| country | Discreto|\n",
    "| content_rating | Discreto|\n",
    "| title_year | Discreto|\n",
    "| imdb_score | Continuo|\n"
   ]
  },
  {
   "cell_type": "markdown",
   "metadata": {},
   "source": [
    "### b) Realice una exploración visual ligera de los datos. Independientemente de la herramienta (Tableau, Pygal), agregue imágenes que respalden la exploración"
   ]
  },
  {
   "cell_type": "code",
   "execution_count": 469,
   "metadata": {},
   "outputs": [],
   "source": [
    "# eliminamos este registro por que tiene esta cadena ' Quite a Conundrum\\xa0'\n",
    "df=df.drop([3319]).reset_index(drop=True)"
   ]
  },
  {
   "cell_type": "code",
   "execution_count": 470,
   "metadata": {},
   "outputs": [],
   "source": [
    "# ya que solo 12 registros presentan nan values los vamos a eliminar\n",
    "df=df.dropna(subset=['facenumber_in_poster'])"
   ]
  },
  {
   "cell_type": "code",
   "execution_count": 471,
   "metadata": {},
   "outputs": [],
   "source": [
    "#convertimos las columnos a tipo int\n",
    "df[\"num_voted_users\"]=df[\"num_voted_users\"].astype(int)\n",
    "df[\"facenumber_in_poster\"]=df[\"facenumber_in_poster\"].astype(int)\n",
    "df[\"title_year\"]=df[\"title_year\"].astype(str)"
   ]
  },
  {
   "cell_type": "code",
   "execution_count": 384,
   "metadata": {},
   "outputs": [],
   "source": [
    "def plot_histogram(df,var):\n",
    "    freq, bins = np.histogram(df[var])\n",
    "\n",
    "    hist = list(zip(freq, bins, bins[1:]))\n",
    "\n",
    "    hist_plot = pygal.Histogram()\n",
    "\n",
    "    hist_plot.add(var, hist)\n",
    "    display(HTML(base_html.format(rendered_chart=hist_plot.render(is_unicode=True))))"
   ]
  },
  {
   "cell_type": "code",
   "execution_count": 442,
   "metadata": {},
   "outputs": [],
   "source": [
    "def plot_stackbar(df,val,route=\"\"):\n",
    "    line_chart = pygal.StackedBar()\n",
    "    line_chart.title = val\n",
    "    line_chart.x_labels = [val]\n",
    "    aux = df[val].value_counts()\n",
    "    for i in range(len(aux.values)):\n",
    "            line_chart.add(str(aux.index[i]), aux.values[i])\n",
    "    if route!='':\n",
    "        return line_chart.render_to_png(route)\n",
    "    display(HTML(base_html.format(rendered_chart=line_chart.render(is_unicode=True))))"
   ]
  },
  {
   "cell_type": "code",
   "execution_count": 439,
   "metadata": {},
   "outputs": [],
   "source": [
    "def plot_bar(df,val,route=\"\"):    \n",
    "    line_chart = pygal.Bar()\n",
    "    line_chart.title = val\n",
    "    aux = df[val].value_counts()\n",
    "    for i in range(len(aux.values)):\n",
    "        line_chart.add(str(aux.index[i]), aux.values[i])\n",
    "    if route!='':\n",
    "        return line_chart.render_to_png(route)\n",
    "    display(HTML(base_html.format(rendered_chart=line_chart.render(is_unicode=True))))"
   ]
  },
  {
   "cell_type": "code",
   "execution_count": 406,
   "metadata": {},
   "outputs": [],
   "source": [
    "def plot_hist(df,value,route=''):\n",
    "    info=df[value].describe()\n",
    "    r=info[\"max\"]-info[\"min\"]\n",
    "    k=math.ceil(1+3.322*math.log10(info[\"count\"]))\n",
    "    a=int(round(r/k))\n",
    "    ranges=[]\n",
    "    for i in range(int(info[\"min\"]),int(info[\"max\"]+2),a):\n",
    "        ranges.append(i)\n",
    "    aux=np.histogram(df[value], bins=ranges)\n",
    "    histograma=[]\n",
    "    for i in range(len(aux[0])):\n",
    "        histograma.append([aux[0][i],aux[1][i],aux[1][i+1]])\n",
    "    hist = pygal.Histogram()\n",
    "    hist.add(value,histograma)\n",
    "    if route!='':\n",
    "        return hist.render_to_png(route)\n",
    "    display(HTML(base_html.format(rendered_chart=hist.render(is_unicode=True))))"
   ]
  },
  {
   "cell_type": "code",
   "execution_count": 407,
   "metadata": {},
   "outputs": [],
   "source": [
    "def split_variables(df):\n",
    "    ls_con=[]\n",
    "    ls_dis=[]\n",
    "    ls_date=[]\n",
    "    for i in range(len(df.columns)):\n",
    "        if df.dtypes[i] == 'object':\n",
    "            ls_dis.append(df.columns[i])\n",
    "        elif df.dtypes[i] == 'int64' or df.dtypes[i]=='float64':\n",
    "            ls_con.append(df.columns[i])\n",
    "        elif df.dtypes[i] == 'datetime64[ns]':\n",
    "            ls_date.append(df.columns[i])\n",
    "    return ls_con,ls_dis,ls_date"
   ]
  },
  {
   "cell_type": "code",
   "execution_count": 408,
   "metadata": {},
   "outputs": [],
   "source": [
    "ls_con,ls_dis,ls_date=split_variables(df)"
   ]
  },
  {
   "cell_type": "code",
   "execution_count": 508,
   "metadata": {},
   "outputs": [
    {
     "data": {
      "text/html": [
       "\n",
       "<!DOCTYPE html>\n",
       "<html>\n",
       "  <head>\n",
       "  <script type=\"text/javascript\" src=\"http://kozea.github.com/pygal.js/javascripts/svg.jquery.js\"></script>\n",
       "  <script type=\"text/javascript\" src=\"https://kozea.github.io/pygal.js/2.0.x/pygal-tooltips.min.js\"\"></script>\n",
       "  </head>\n",
       "  <body>\n",
       "    <figure>\n",
       "      <?xml version='1.0' encoding='utf-8'?>\n",
       "<svg xmlns:xlink=\"http://www.w3.org/1999/xlink\" class=\"pygal-chart\" id=\"chart-d4a8af39-b1a4-45c2-8a30-f5c9fa29cf3d\" viewBox=\"0 0 800 600\" xmlns=\"http://www.w3.org/2000/svg\"><!--Generated with pygal 2.4.0 (etree) ©Kozea 2012-2016 on 2019-09-29--><!--http://pygal.org--><!--http://github.com/Kozea/pygal--><defs><style type=\"text/css\">#chart-d4a8af39-b1a4-45c2-8a30-f5c9fa29cf3d{-webkit-user-select:none;-webkit-font-smoothing:antialiased;font-family:Consolas,\"Liberation Mono\",Menlo,Courier,monospace}#chart-d4a8af39-b1a4-45c2-8a30-f5c9fa29cf3d .title{font-family:Consolas,\"Liberation Mono\",Menlo,Courier,monospace;font-size:16px}#chart-d4a8af39-b1a4-45c2-8a30-f5c9fa29cf3d .legends .legend text{font-family:Consolas,\"Liberation Mono\",Menlo,Courier,monospace;font-size:14px}#chart-d4a8af39-b1a4-45c2-8a30-f5c9fa29cf3d .axis text{font-family:Consolas,\"Liberation Mono\",Menlo,Courier,monospace;font-size:10px}#chart-d4a8af39-b1a4-45c2-8a30-f5c9fa29cf3d .axis text.major{font-family:Consolas,\"Liberation Mono\",Menlo,Courier,monospace;font-size:10px}#chart-d4a8af39-b1a4-45c2-8a30-f5c9fa29cf3d .text-overlay text.value{font-family:Consolas,\"Liberation Mono\",Menlo,Courier,monospace;font-size:16px}#chart-d4a8af39-b1a4-45c2-8a30-f5c9fa29cf3d .text-overlay text.label{font-family:Consolas,\"Liberation Mono\",Menlo,Courier,monospace;font-size:10px}#chart-d4a8af39-b1a4-45c2-8a30-f5c9fa29cf3d .tooltip{font-family:Consolas,\"Liberation Mono\",Menlo,Courier,monospace;font-size:14px}#chart-d4a8af39-b1a4-45c2-8a30-f5c9fa29cf3d text.no_data{font-family:Consolas,\"Liberation Mono\",Menlo,Courier,monospace;font-size:64px}\n",
       "#chart-d4a8af39-b1a4-45c2-8a30-f5c9fa29cf3d{background-color:rgba(249,249,249,1)}#chart-d4a8af39-b1a4-45c2-8a30-f5c9fa29cf3d path,#chart-d4a8af39-b1a4-45c2-8a30-f5c9fa29cf3d line,#chart-d4a8af39-b1a4-45c2-8a30-f5c9fa29cf3d rect,#chart-d4a8af39-b1a4-45c2-8a30-f5c9fa29cf3d circle{-webkit-transition:150ms;-moz-transition:150ms;transition:150ms}#chart-d4a8af39-b1a4-45c2-8a30-f5c9fa29cf3d .graph &gt; .background{fill:rgba(249,249,249,1)}#chart-d4a8af39-b1a4-45c2-8a30-f5c9fa29cf3d .plot &gt; .background{fill:rgba(255,255,255,1)}#chart-d4a8af39-b1a4-45c2-8a30-f5c9fa29cf3d .graph{fill:rgba(0,0,0,.87)}#chart-d4a8af39-b1a4-45c2-8a30-f5c9fa29cf3d text.no_data{fill:rgba(0,0,0,1)}#chart-d4a8af39-b1a4-45c2-8a30-f5c9fa29cf3d .title{fill:rgba(0,0,0,1)}#chart-d4a8af39-b1a4-45c2-8a30-f5c9fa29cf3d .legends .legend text{fill:rgba(0,0,0,.87)}#chart-d4a8af39-b1a4-45c2-8a30-f5c9fa29cf3d .legends .legend:hover text{fill:rgba(0,0,0,1)}#chart-d4a8af39-b1a4-45c2-8a30-f5c9fa29cf3d .axis .line{stroke:rgba(0,0,0,1)}#chart-d4a8af39-b1a4-45c2-8a30-f5c9fa29cf3d .axis .guide.line{stroke:rgba(0,0,0,.54)}#chart-d4a8af39-b1a4-45c2-8a30-f5c9fa29cf3d .axis .major.line{stroke:rgba(0,0,0,.87)}#chart-d4a8af39-b1a4-45c2-8a30-f5c9fa29cf3d .axis text.major{fill:rgba(0,0,0,1)}#chart-d4a8af39-b1a4-45c2-8a30-f5c9fa29cf3d .axis.y .guides:hover .guide.line,#chart-d4a8af39-b1a4-45c2-8a30-f5c9fa29cf3d .line-graph .axis.x .guides:hover .guide.line,#chart-d4a8af39-b1a4-45c2-8a30-f5c9fa29cf3d .stackedline-graph .axis.x .guides:hover .guide.line,#chart-d4a8af39-b1a4-45c2-8a30-f5c9fa29cf3d .xy-graph .axis.x .guides:hover .guide.line{stroke:rgba(0,0,0,1)}#chart-d4a8af39-b1a4-45c2-8a30-f5c9fa29cf3d .axis .guides:hover text{fill:rgba(0,0,0,1)}#chart-d4a8af39-b1a4-45c2-8a30-f5c9fa29cf3d .reactive{fill-opacity:.7;stroke-opacity:.8}#chart-d4a8af39-b1a4-45c2-8a30-f5c9fa29cf3d .ci{stroke:rgba(0,0,0,.87)}#chart-d4a8af39-b1a4-45c2-8a30-f5c9fa29cf3d .reactive.active,#chart-d4a8af39-b1a4-45c2-8a30-f5c9fa29cf3d .active .reactive{fill-opacity:.8;stroke-opacity:.9;stroke-width:4}#chart-d4a8af39-b1a4-45c2-8a30-f5c9fa29cf3d .ci .reactive.active{stroke-width:1.5}#chart-d4a8af39-b1a4-45c2-8a30-f5c9fa29cf3d .series text{fill:rgba(0,0,0,1)}#chart-d4a8af39-b1a4-45c2-8a30-f5c9fa29cf3d .tooltip rect{fill:rgba(255,255,255,1);stroke:rgba(0,0,0,1);-webkit-transition:opacity 150ms;-moz-transition:opacity 150ms;transition:opacity 150ms}#chart-d4a8af39-b1a4-45c2-8a30-f5c9fa29cf3d .tooltip .label{fill:rgba(0,0,0,.87)}#chart-d4a8af39-b1a4-45c2-8a30-f5c9fa29cf3d .tooltip .label{fill:rgba(0,0,0,.87)}#chart-d4a8af39-b1a4-45c2-8a30-f5c9fa29cf3d .tooltip .legend{font-size:.8em;fill:rgba(0,0,0,.54)}#chart-d4a8af39-b1a4-45c2-8a30-f5c9fa29cf3d .tooltip .x_label{font-size:.6em;fill:rgba(0,0,0,1)}#chart-d4a8af39-b1a4-45c2-8a30-f5c9fa29cf3d .tooltip .xlink{font-size:.5em;text-decoration:underline}#chart-d4a8af39-b1a4-45c2-8a30-f5c9fa29cf3d .tooltip .value{font-size:1.5em}#chart-d4a8af39-b1a4-45c2-8a30-f5c9fa29cf3d .bound{font-size:.5em}#chart-d4a8af39-b1a4-45c2-8a30-f5c9fa29cf3d .max-value{font-size:.75em;fill:rgba(0,0,0,.54)}#chart-d4a8af39-b1a4-45c2-8a30-f5c9fa29cf3d .map-element{fill:rgba(255,255,255,1);stroke:rgba(0,0,0,.54) !important}#chart-d4a8af39-b1a4-45c2-8a30-f5c9fa29cf3d .map-element .reactive{fill-opacity:inherit;stroke-opacity:inherit}#chart-d4a8af39-b1a4-45c2-8a30-f5c9fa29cf3d .color-0,#chart-d4a8af39-b1a4-45c2-8a30-f5c9fa29cf3d .color-0 a:visited{stroke:#F44336;fill:#F44336}#chart-d4a8af39-b1a4-45c2-8a30-f5c9fa29cf3d .text-overlay .color-0 text{fill:black}\n",
       "#chart-d4a8af39-b1a4-45c2-8a30-f5c9fa29cf3d text.no_data{text-anchor:middle}#chart-d4a8af39-b1a4-45c2-8a30-f5c9fa29cf3d .guide.line{fill:none}#chart-d4a8af39-b1a4-45c2-8a30-f5c9fa29cf3d .centered{text-anchor:middle}#chart-d4a8af39-b1a4-45c2-8a30-f5c9fa29cf3d .title{text-anchor:middle}#chart-d4a8af39-b1a4-45c2-8a30-f5c9fa29cf3d .legends .legend text{fill-opacity:1}#chart-d4a8af39-b1a4-45c2-8a30-f5c9fa29cf3d .axis.x text{text-anchor:middle}#chart-d4a8af39-b1a4-45c2-8a30-f5c9fa29cf3d .axis.x:not(.web) text[transform]{text-anchor:start}#chart-d4a8af39-b1a4-45c2-8a30-f5c9fa29cf3d .axis.x:not(.web) text[transform].backwards{text-anchor:end}#chart-d4a8af39-b1a4-45c2-8a30-f5c9fa29cf3d .axis.y text{text-anchor:end}#chart-d4a8af39-b1a4-45c2-8a30-f5c9fa29cf3d .axis.y text[transform].backwards{text-anchor:start}#chart-d4a8af39-b1a4-45c2-8a30-f5c9fa29cf3d .axis.y2 text{text-anchor:start}#chart-d4a8af39-b1a4-45c2-8a30-f5c9fa29cf3d .axis.y2 text[transform].backwards{text-anchor:end}#chart-d4a8af39-b1a4-45c2-8a30-f5c9fa29cf3d .axis .guide.line{stroke-dasharray:4,4}#chart-d4a8af39-b1a4-45c2-8a30-f5c9fa29cf3d .axis .major.guide.line{stroke-dasharray:6,6}#chart-d4a8af39-b1a4-45c2-8a30-f5c9fa29cf3d .horizontal .axis.y .guide.line,#chart-d4a8af39-b1a4-45c2-8a30-f5c9fa29cf3d .horizontal .axis.y2 .guide.line,#chart-d4a8af39-b1a4-45c2-8a30-f5c9fa29cf3d .vertical .axis.x .guide.line{opacity:0}#chart-d4a8af39-b1a4-45c2-8a30-f5c9fa29cf3d .horizontal .axis.always_show .guide.line,#chart-d4a8af39-b1a4-45c2-8a30-f5c9fa29cf3d .vertical .axis.always_show .guide.line{opacity:1 !important}#chart-d4a8af39-b1a4-45c2-8a30-f5c9fa29cf3d .axis.y .guides:hover .guide.line,#chart-d4a8af39-b1a4-45c2-8a30-f5c9fa29cf3d .axis.y2 .guides:hover .guide.line,#chart-d4a8af39-b1a4-45c2-8a30-f5c9fa29cf3d .axis.x .guides:hover .guide.line{opacity:1}#chart-d4a8af39-b1a4-45c2-8a30-f5c9fa29cf3d .axis .guides:hover text{opacity:1}#chart-d4a8af39-b1a4-45c2-8a30-f5c9fa29cf3d .nofill{fill:none}#chart-d4a8af39-b1a4-45c2-8a30-f5c9fa29cf3d .subtle-fill{fill-opacity:.2}#chart-d4a8af39-b1a4-45c2-8a30-f5c9fa29cf3d .dot{stroke-width:1px;fill-opacity:1}#chart-d4a8af39-b1a4-45c2-8a30-f5c9fa29cf3d .dot.active{stroke-width:5px}#chart-d4a8af39-b1a4-45c2-8a30-f5c9fa29cf3d .dot.negative{fill:transparent}#chart-d4a8af39-b1a4-45c2-8a30-f5c9fa29cf3d text,#chart-d4a8af39-b1a4-45c2-8a30-f5c9fa29cf3d tspan{stroke:none !important}#chart-d4a8af39-b1a4-45c2-8a30-f5c9fa29cf3d .series text.active{opacity:1}#chart-d4a8af39-b1a4-45c2-8a30-f5c9fa29cf3d .tooltip rect{fill-opacity:.95;stroke-width:.5}#chart-d4a8af39-b1a4-45c2-8a30-f5c9fa29cf3d .tooltip text{fill-opacity:1}#chart-d4a8af39-b1a4-45c2-8a30-f5c9fa29cf3d .showable{visibility:hidden}#chart-d4a8af39-b1a4-45c2-8a30-f5c9fa29cf3d .showable.shown{visibility:visible}#chart-d4a8af39-b1a4-45c2-8a30-f5c9fa29cf3d .gauge-background{fill:rgba(229,229,229,1);stroke:none}#chart-d4a8af39-b1a4-45c2-8a30-f5c9fa29cf3d .bg-lines{stroke:rgba(249,249,249,1);stroke-width:2px}</style><script type=\"text/javascript\">window.pygal = window.pygal || {};window.pygal.config = window.pygal.config || {};window.pygal.config['d4a8af39-b1a4-45c2-8a30-f5c9fa29cf3d'] = {\"allow_interruptions\": false, \"box_mode\": \"extremes\", \"classes\": [\"pygal-chart\"], \"css\": [\"file://style.css\", \"file://graph.css\"], \"defs\": [], \"disable_xml_declaration\": false, \"dots_size\": 2.5, \"dynamic_print_values\": false, \"explicit_size\": false, \"fill\": false, \"force_uri_protocol\": \"https\", \"formatter\": null, \"half_pie\": false, \"height\": 600, \"include_x_axis\": false, \"inner_radius\": 0, \"interpolate\": null, \"interpolation_parameters\": {}, \"interpolation_precision\": 250, \"inverse_y_axis\": false, \"js\": [\"//kozea.github.io/pygal.js/2.0.x/pygal-tooltips.min.js\"], \"legend_at_bottom\": false, \"legend_at_bottom_columns\": null, \"legend_box_size\": 12, \"logarithmic\": false, \"margin\": 20, \"margin_bottom\": null, \"margin_left\": null, \"margin_right\": null, \"margin_top\": null, \"max_scale\": 16, \"min_scale\": 4, \"missing_value_fill_truncation\": \"x\", \"no_data_text\": \"No data\", \"no_prefix\": false, \"order_min\": null, \"pretty_print\": false, \"print_labels\": false, \"print_values\": false, \"print_values_position\": \"center\", \"print_zeroes\": true, \"range\": null, \"rounded_bars\": null, \"secondary_range\": null, \"show_dots\": true, \"show_legend\": true, \"show_minor_x_labels\": true, \"show_minor_y_labels\": true, \"show_only_major_dots\": false, \"show_x_guides\": false, \"show_x_labels\": true, \"show_y_guides\": true, \"show_y_labels\": true, \"spacing\": 10, \"stack_from_top\": false, \"strict\": false, \"stroke\": true, \"stroke_style\": null, \"style\": {\"background\": \"rgba(249, 249, 249, 1)\", \"ci_colors\": [], \"colors\": [\"#F44336\", \"#3F51B5\", \"#009688\", \"#FFC107\", \"#FF5722\", \"#9C27B0\", \"#03A9F4\", \"#8BC34A\", \"#FF9800\", \"#E91E63\", \"#2196F3\", \"#4CAF50\", \"#FFEB3B\", \"#673AB7\", \"#00BCD4\", \"#CDDC39\", \"#9E9E9E\", \"#607D8B\"], \"font_family\": \"Consolas, \\\"Liberation Mono\\\", Menlo, Courier, monospace\", \"foreground\": \"rgba(0, 0, 0, .87)\", \"foreground_strong\": \"rgba(0, 0, 0, 1)\", \"foreground_subtle\": \"rgba(0, 0, 0, .54)\", \"guide_stroke_dasharray\": \"4,4\", \"label_font_family\": \"Consolas, \\\"Liberation Mono\\\", Menlo, Courier, monospace\", \"label_font_size\": 10, \"legend_font_family\": \"Consolas, \\\"Liberation Mono\\\", Menlo, Courier, monospace\", \"legend_font_size\": 14, \"major_guide_stroke_dasharray\": \"6,6\", \"major_label_font_family\": \"Consolas, \\\"Liberation Mono\\\", Menlo, Courier, monospace\", \"major_label_font_size\": 10, \"no_data_font_family\": \"Consolas, \\\"Liberation Mono\\\", Menlo, Courier, monospace\", \"no_data_font_size\": 64, \"opacity\": \".7\", \"opacity_hover\": \".8\", \"plot_background\": \"rgba(255, 255, 255, 1)\", \"stroke_opacity\": \".8\", \"stroke_opacity_hover\": \".9\", \"title_font_family\": \"Consolas, \\\"Liberation Mono\\\", Menlo, Courier, monospace\", \"title_font_size\": 16, \"tooltip_font_family\": \"Consolas, \\\"Liberation Mono\\\", Menlo, Courier, monospace\", \"tooltip_font_size\": 14, \"transition\": \"150ms\", \"value_background\": \"rgba(229, 229, 229, 1)\", \"value_colors\": [], \"value_font_family\": \"Consolas, \\\"Liberation Mono\\\", Menlo, Courier, monospace\", \"value_font_size\": 16, \"value_label_font_family\": \"Consolas, \\\"Liberation Mono\\\", Menlo, Courier, monospace\", \"value_label_font_size\": 10}, \"title\": null, \"tooltip_border_radius\": 0, \"tooltip_fancy_mode\": true, \"truncate_label\": null, \"truncate_legend\": null, \"width\": 800, \"x_label_rotation\": 0, \"x_labels\": null, \"x_labels_major\": null, \"x_labels_major_count\": null, \"x_labels_major_every\": null, \"x_title\": null, \"xrange\": null, \"y_label_rotation\": 0, \"y_labels\": null, \"y_labels_major\": null, \"y_labels_major_count\": null, \"y_labels_major_every\": null, \"y_title\": null, \"zero\": 0, \"legends\": [\"duration\"]}</script><script type=\"text/javascript\" xlink:href=\"https://kozea.github.io/pygal.js/2.0.x/pygal-tooltips.min.js\" /></defs><title>Pygal</title><g class=\"graph histogram-graph vertical\"><rect class=\"background\" height=\"600\" width=\"800\" x=\"0\" y=\"0\" /><g class=\"plot\" transform=\"translate(143, 20)\"><rect class=\"background\" height=\"540\" width=\"636.8\" x=\"0\" y=\"0\" /><g class=\"axis y always_show\"><g class=\"guides\"><path class=\"axis major line\" d=\"M0.000000 529.615385 h636.800000\" /><text class=\"major\" x=\"-5\" y=\"533.1153846153846\">0</text><title>0</title></g><g class=\"guides\"><path class=\"guide line\" d=\"M0.000000 487.504211 h636.800000\" /><text class=\"\" x=\"-5\" y=\"491.0042111173498\">100</text><title>100</title></g><g class=\"guides\"><path class=\"guide line\" d=\"M0.000000 445.393038 h636.800000\" /><text class=\"\" x=\"-5\" y=\"448.893037619315\">200</text><title>200</title></g><g class=\"guides\"><path class=\"guide line\" d=\"M0.000000 403.281864 h636.800000\" /><text class=\"\" x=\"-5\" y=\"406.78186412128014\">300</text><title>300</title></g><g class=\"guides\"><path class=\"guide line\" d=\"M0.000000 361.170691 h636.800000\" /><text class=\"\" x=\"-5\" y=\"364.6706906232454\">400</text><title>400</title></g><g class=\"guides\"><path class=\"major guide line\" d=\"M0.000000 319.059517 h636.800000\" /><text class=\"major\" x=\"-5\" y=\"322.5595171252106\">500</text><title>500</title></g><g class=\"guides\"><path class=\"guide line\" d=\"M0.000000 276.948344 h636.800000\" /><text class=\"\" x=\"-5\" y=\"280.4483436271758\">600</text><title>600</title></g><g class=\"guides\"><path class=\"guide line\" d=\"M0.000000 234.837170 h636.800000\" /><text class=\"\" x=\"-5\" y=\"238.337170129141\">700</text><title>700</title></g><g class=\"guides\"><path class=\"guide line\" d=\"M0.000000 192.725997 h636.800000\" /><text class=\"\" x=\"-5\" y=\"196.22599663110617\">800</text><title>800</title></g><g class=\"guides\"><path class=\"guide line\" d=\"M0.000000 150.614823 h636.800000\" /><text class=\"\" x=\"-5\" y=\"154.1148231330714\">900</text><title>900</title></g><g class=\"guides\"><path class=\"major guide line\" d=\"M0.000000 108.503650 h636.800000\" /><text class=\"major\" x=\"-5\" y=\"112.00364963503654\">1000</text><title>1000</title></g><g class=\"guides\"><path class=\"guide line\" d=\"M0.000000 66.392476 h636.800000\" /><text class=\"\" x=\"-5\" y=\"69.89247613700172\">1100</text><title>1100</title></g><g class=\"guides\"><path class=\"guide line\" d=\"M0.000000 24.281303 h636.800000\" /><text class=\"\" x=\"-5\" y=\"27.781302638966963\">1200</text><title>1200</title></g></g><g class=\"axis x\"><path class=\"line\" d=\"M0.000000 0.000000 v540.000000\" /><g class=\"guides\"><path class=\"guide line\" d=\"M38.487912 0.000000 v540.000000\" /><text class=\"\" x=\"38.487912087912065\" y=\"555.0\">50</text><title>50</title></g><g class=\"guides\"><path class=\"guide line\" d=\"M82.224176 0.000000 v540.000000\" /><text class=\"\" x=\"82.22417582417579\" y=\"555.0\">60</text><title>60</title></g><g class=\"guides\"><path class=\"guide line\" d=\"M125.960440 0.000000 v540.000000\" /><text class=\"\" x=\"125.96043956043951\" y=\"555.0\">70</text><title>70</title></g><g class=\"guides\"><path class=\"guide line\" d=\"M169.696703 0.000000 v540.000000\" /><text class=\"\" x=\"169.69670329670325\" y=\"555.0\">80</text><title>80</title></g><g class=\"guides\"><path class=\"guide line\" d=\"M213.432967 0.000000 v540.000000\" /><text class=\"\" x=\"213.43296703296699\" y=\"555.0\">90</text><title>90</title></g><g class=\"guides\"><path class=\"guide line\" d=\"M257.169231 0.000000 v540.000000\" /><text class=\"\" x=\"257.1692307692307\" y=\"555.0\">100</text><title>100</title></g><g class=\"guides\"><path class=\"guide line\" d=\"M300.905495 0.000000 v540.000000\" /><text class=\"\" x=\"300.90549450549446\" y=\"555.0\">110</text><title>110</title></g><g class=\"guides\"><path class=\"guide line\" d=\"M344.641758 0.000000 v540.000000\" /><text class=\"\" x=\"344.64175824175817\" y=\"555.0\">120</text><title>120</title></g><g class=\"guides\"><path class=\"guide line\" d=\"M388.378022 0.000000 v540.000000\" /><text class=\"\" x=\"388.3780219780219\" y=\"555.0\">130</text><title>130</title></g><g class=\"guides\"><path class=\"guide line\" d=\"M432.114286 0.000000 v540.000000\" /><text class=\"\" x=\"432.11428571428564\" y=\"555.0\">140</text><title>140</title></g><g class=\"guides\"><path class=\"guide line\" d=\"M475.850549 0.000000 v540.000000\" /><text class=\"\" x=\"475.85054945054935\" y=\"555.0\">150</text><title>150</title></g><g class=\"guides\"><path class=\"guide line\" d=\"M519.586813 0.000000 v540.000000\" /><text class=\"\" x=\"519.5868131868131\" y=\"555.0\">160</text><title>160</title></g><g class=\"guides\"><path class=\"guide line\" d=\"M563.323077 0.000000 v540.000000\" /><text class=\"\" x=\"563.3230769230768\" y=\"555.0\">170</text><title>170</title></g><g class=\"guides\"><path class=\"guide line\" d=\"M607.059341 0.000000 v540.000000\" /><text class=\"\" x=\"607.0593406593406\" y=\"555.0\">180</text><title>180</title></g></g><g class=\"series serie-0 color-0\"><g class=\"histbars\"><g class=\"histbar\"><rect class=\"rect reactive tooltip-trigger\" height=\"9.68556990454806\" rx=\"0\" ry=\"0\" width=\"43.73626373626372\" x=\"12.246153846153831\" y=\"519.9298147108366\" /><desc class=\"value\">23: 44</desc><desc class=\"x centered\">34.11428571428569</desc><desc class=\"y centered\">524.7725996631107</desc></g><g class=\"histbar\"><rect class=\"rect reactive tooltip-trigger\" height=\"15.160022459292577\" rx=\"0\" ry=\"0\" width=\"43.73626373626372\" x=\"55.982417582417554\" y=\"514.4553621560921\" /><desc class=\"value\">36: 54</desc><desc class=\"x centered\">77.85054945054941</desc><desc class=\"y centered\">522.0353733857384</desc></g><g class=\"histbar\"><rect class=\"rect reactive tooltip-trigger\" height=\"10.106681639528347\" rx=\"0\" ry=\"0\" width=\"43.73626373626372\" x=\"99.71868131868128\" y=\"519.5087029758563\" /><desc class=\"value\">24: 64</desc><desc class=\"x centered\">121.58681318681315</desc><desc class=\"y centered\">524.5620437956204</desc></g><g class=\"histbar\"><rect class=\"rect reactive tooltip-trigger\" height=\"90.96013475575523\" rx=\"0\" ry=\"0\" width=\"43.73626373626374\" x=\"143.454945054945\" y=\"438.6552498596294\" /><desc class=\"value\">216: 74</desc><desc class=\"x centered\">165.32307692307688</desc><desc class=\"y centered\">484.135317237507</desc></g><g class=\"histbar\"><rect class=\"rect reactive tooltip-trigger\" height=\"392.8972487366647\" rx=\"0\" ry=\"0\" width=\"43.73626373626371\" x=\"187.19120879120874\" y=\"136.71813587871992\" /><desc class=\"value\">933: 84</desc><desc class=\"x centered\">209.0593406593406</desc><desc class=\"y centered\">333.16676024705225</desc></g><g class=\"histbar\"><rect class=\"rect reactive tooltip-trigger\" height=\"519.2307692307692\" rx=\"0\" ry=\"0\" width=\"43.73626373626371\" x=\"230.92747252747245\" y=\"10.384615384615472\" /><desc class=\"value\">1233: 94</desc><desc class=\"x centered\">252.7956043956043</desc><desc class=\"y centered\">270.00000000000006</desc></g><g class=\"histbar\"><rect class=\"rect reactive tooltip-trigger\" height=\"398.3717012914093\" rx=\"0\" ry=\"0\" width=\"43.736263736263766\" x=\"274.66373626373615\" y=\"131.24368332397535\" /><desc class=\"value\">946: 104</desc><desc class=\"x centered\">296.531868131868</desc><desc class=\"y centered\">330.42953396968</desc></g><g class=\"histbar\"><rect class=\"rect reactive tooltip-trigger\" height=\"278.35485682201005\" rx=\"0\" ry=\"0\" width=\"43.73626373626371\" x=\"318.3999999999999\" y=\"251.2605277933746\" /><desc class=\"value\">661: 114</desc><desc class=\"x centered\">340.2681318681318</desc><desc class=\"y centered\">390.4379562043796</desc></g><g class=\"histbar\"><rect class=\"rect reactive tooltip-trigger\" height=\"162.12801796743406\" rx=\"0\" ry=\"0\" width=\"43.73626373626371\" x=\"362.13626373626363\" y=\"367.4873666479506\" /><desc class=\"value\">385: 124</desc><desc class=\"x centered\">384.0043956043955</desc><desc class=\"y centered\">448.5513756316676</desc></g><g class=\"histbar\"><rect class=\"rect reactive tooltip-trigger\" height=\"92.6445816956766\" rx=\"0\" ry=\"0\" width=\"43.736263736263766\" x=\"405.87252747252734\" y=\"436.97080291970804\" /><desc class=\"value\">220: 134</desc><desc class=\"x centered\">427.74065934065925</desc><desc class=\"y centered\">483.29309376754634</desc></g><g class=\"histbar\"><rect class=\"rect reactive tooltip-trigger\" height=\"45.90117911285796\" rx=\"0\" ry=\"0\" width=\"43.73626373626371\" x=\"449.6087912087911\" y=\"483.7142055025267\" /><desc class=\"value\">109: 144</desc><desc class=\"x centered\">471.47692307692296</desc><desc class=\"y centered\">506.66479505895563</desc></g><g class=\"histbar\"><rect class=\"rect reactive tooltip-trigger\" height=\"21.897810218978123\" rx=\"0\" ry=\"0\" width=\"43.73626373626371\" x=\"493.3450549450548\" y=\"507.7175743964065\" /><desc class=\"value\">52: 154</desc><desc class=\"x centered\">515.2131868131867</desc><desc class=\"y centered\">518.6664795058956</desc></g><g class=\"histbar\"><rect class=\"rect reactive tooltip-trigger\" height=\"16.42335766423355\" rx=\"0\" ry=\"0\" width=\"43.73626373626382\" x=\"537.0813186813185\" y=\"513.1920269511511\" /><desc class=\"value\">39: 164</desc><desc class=\"x centered\">558.9494505494504</desc><desc class=\"y centered\">521.4037057832679</desc></g><g class=\"histbar\"><rect class=\"rect reactive tooltip-trigger\" height=\"11.370016844469433\" rx=\"0\" ry=\"0\" width=\"43.73626373626371\" x=\"580.8175824175823\" y=\"518.2453677709152\" /><desc class=\"value\">27: 174</desc><desc class=\"x centered\">602.6857142857142</desc><desc class=\"y centered\">523.9303761931499</desc></g></g></g></g><g class=\"titles\" /><g class=\"plot overlay\" transform=\"translate(143, 20)\"><g class=\"series serie-0 color-0\" /></g><g class=\"plot text-overlay\" transform=\"translate(143, 20)\"><g class=\"series serie-0 color-0\" /></g><g class=\"plot tooltip-overlay\" transform=\"translate(143, 20)\"><g class=\"tooltip\" style=\"opacity: 0\" transform=\"translate(0 0)\"><rect class=\"tooltip-box\" height=\"0\" rx=\"0\" ry=\"0\" width=\"0\" /><g class=\"text\" /></g></g><g class=\"legends\" transform=\"translate(10, 30)\"><g class=\"legend reactive activate-serie\" id=\"activate-serie-0\"><rect class=\"color-0 reactive\" height=\"12\" width=\"12\" x=\"0.0\" y=\"1.0\" /><text x=\"17.0\" y=\"11.2\">duration</text></g></g><g class=\"legends\" transform=\"translate(790, 30)\" /></g></svg>\n",
       "    </figure>\n",
       "  </body>\n",
       "</html>\n"
      ],
      "text/plain": [
       "<IPython.core.display.HTML object>"
      ]
     },
     "metadata": {},
     "output_type": "display_data"
    }
   ],
   "source": [
    "plot_hist(per_df,ls_con[0])"
   ]
  },
  {
   "cell_type": "code",
   "execution_count": 515,
   "metadata": {},
   "outputs": [],
   "source": [
    "os.mkdir('./img/antes')"
   ]
  },
  {
   "cell_type": "code",
   "execution_count": 516,
   "metadata": {},
   "outputs": [],
   "source": [
    "for i in ls_con:\n",
    "    plot_hist(df,i,\"./img/antes/cont_{}.png\".format(i))"
   ]
  },
  {
   "cell_type": "code",
   "execution_count": 517,
   "metadata": {},
   "outputs": [],
   "source": [
    "for i in ls_dis[2:]:\n",
    "    plot_stackbar(df,i,\"./img/antes/disc_{}.png\".format(i))"
   ]
  },
  {
   "cell_type": "markdown",
   "metadata": {},
   "source": [
    "### c) Remueva outliers de aquellas variables que los presenten. Utilice cualquier método para ello. Muestre un cuadro con el número de registros antes y despúes de los tratamientos"
   ]
  },
  {
   "cell_type": "code",
   "execution_count": 392,
   "metadata": {},
   "outputs": [],
   "source": [
    "def iqr(df,variable):\n",
    "    desc = df[variable].describe()\n",
    "    iqr_value= desc[\"75%\"]- desc[\"25%\"]\n",
    "    bandaIzq = desc[\"25%\"] - (1.5*iqr_value)\n",
    "    bandaDer = desc[\"75%\"] + (1.5*iqr_value)\n",
    "    aux = df.copy()\n",
    "    return aux[(aux[variable]>bandaIzq) & (aux[variable]<bandaDer)]"
   ]
  },
  {
   "cell_type": "code",
   "execution_count": 489,
   "metadata": {},
   "outputs": [],
   "source": [
    "def percentiles(df,variable,percent):\n",
    "    desc = df[variable].describe(percentiles=percent)\n",
    "    aux = df.copy()\n",
    "    return aux[(aux[variable]>desc[\"{}%\".format(str(int(percent[0]*100)))]) & (aux[variable]<desc[\"{}%\".format(str(int(percent[1]*100)))])]"
   ]
  },
  {
   "cell_type": "code",
   "execution_count": 394,
   "metadata": {},
   "outputs": [],
   "source": [
    "def media(df,variable,n_sigma):\n",
    "    media = df[variable].mean()\n",
    "    sigma = df[variable].std()\n",
    "    aux = df.copy()\n",
    "    return aux[(media-n_sigma*sigma <= aux[variable])  & (aux[variable] <= media + n_sigma*sigma )]"
   ]
  },
  {
   "cell_type": "code",
   "execution_count": 495,
   "metadata": {},
   "outputs": [
    {
     "data": {
      "text/plain": [
       "count    5030.000000\n",
       "mean        1.371173\n",
       "std         2.013576\n",
       "min         0.000000\n",
       "0%          0.000000\n",
       "1%          0.000000\n",
       "5%          0.000000\n",
       "10%         0.000000\n",
       "20%         0.000000\n",
       "30%         0.000000\n",
       "40%         0.000000\n",
       "50%         1.000000\n",
       "60%         1.000000\n",
       "70%         2.000000\n",
       "80%         2.000000\n",
       "90%         4.000000\n",
       "95%         5.000000\n",
       "99%         8.000000\n",
       "max        43.000000\n",
       "Name: facenumber_in_poster, dtype: float64"
      ]
     },
     "execution_count": 495,
     "metadata": {},
     "output_type": "execute_result"
    }
   ],
   "source": [
    "df[ls_con[3]].describe(percentiles = [x/10 for x in range(10)]+[0.01, 0.05, 0.95, 0.99],)"
   ]
  },
  {
   "cell_type": "code",
   "execution_count": 510,
   "metadata": {},
   "outputs": [],
   "source": [
    "per_df=df.copy()\n",
    "\n",
    "per_df=percentiles(per_df,ls_con[0],[0.01,0.99])"
   ]
  },
  {
   "cell_type": "markdown",
   "metadata": {},
   "source": [
    "| Antes  | Despues|\n",
    "| -------|:----:|\n",
    "| 5030   | 4911 |"
   ]
  },
  {
   "cell_type": "markdown",
   "metadata": {},
   "source": [
    "### d) Normalice las variables discretas que lo requieran. Muestre un cuadro con lasc ategorías resultantes por cada variable"
   ]
  },
  {
   "cell_type": "markdown",
   "metadata": {},
   "source": [
    "### e) Realice una nueva exploraci´on visual, esta vez con el objetivo de ver los efectos de los tratamientos realizados. De igual modo, agregue las im´agenes correspondientes."
   ]
  },
  {
   "cell_type": "code",
   "execution_count": 518,
   "metadata": {},
   "outputs": [],
   "source": [
    "os.mkdir('./img/despues')\n",
    "\n",
    "for i in ls_con:\n",
    "    plot_hist(df,i,\"./img/despues/cont_{}.png\".format(i))\n",
    "\n",
    "for i in ls_dis[2:]:\n",
    "    plot_stackbar(df,i,\"./img/despues/disc_{}.png\".format(i))"
   ]
  },
  {
   "cell_type": "markdown",
   "metadata": {},
   "source": [
    "# Ingeniería de datos"
   ]
  },
  {
   "cell_type": "code",
   "execution_count": null,
   "metadata": {},
   "outputs": [],
   "source": []
  }
 ],
 "metadata": {
  "kernelspec": {
   "display_name": "unam",
   "language": "python",
   "name": "unam"
  },
  "language_info": {
   "codemirror_mode": {
    "name": "ipython",
    "version": 3
   },
   "file_extension": ".py",
   "mimetype": "text/x-python",
   "name": "python",
   "nbconvert_exporter": "python",
   "pygments_lexer": "ipython3",
   "version": "3.7.4"
  }
 },
 "nbformat": 4,
 "nbformat_minor": 2
}
