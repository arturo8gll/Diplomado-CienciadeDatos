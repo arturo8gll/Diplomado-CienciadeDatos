{
 "cells": [
  {
   "cell_type": "code",
   "execution_count": 14,
   "metadata": {},
   "outputs": [],
   "source": [
    "import pandas as pd"
   ]
  },
  {
   "cell_type": "code",
   "execution_count": 15,
   "metadata": {},
   "outputs": [],
   "source": [
    "df = pd.read_csv(\"/home/oscar/Documents/Diplomado Ciencia de Datos/Módulo 1/Normalización de variables/churn_train.csv\")"
   ]
  },
  {
   "cell_type": "code",
   "execution_count": 16,
   "metadata": {
    "collapsed": true
   },
   "outputs": [
    {
     "data": {
      "text/plain": [
       "WV    0.032013\n",
       "MN    0.027611\n",
       "OH    0.027211\n",
       "WY    0.024410\n",
       "VT    0.024010\n",
       "OR    0.024010\n",
       "AL    0.023609\n",
       "WI    0.023209\n",
       "NY    0.023209\n",
       "ID    0.022809\n",
       "CT    0.022009\n",
       "NJ    0.022009\n",
       "VA    0.021609\n",
       "TX    0.021208\n",
       "IN    0.021208\n",
       "UT    0.021208\n",
       "NV    0.021208\n",
       "MI    0.021208\n",
       "MA    0.021208\n",
       "ND    0.020808\n",
       "MT    0.020808\n",
       "AZ    0.020008\n",
       "KY    0.019608\n",
       "IL    0.019208\n",
       "WA    0.019208\n",
       "FL    0.019208\n",
       "SD    0.019208\n",
       "CO    0.018407\n",
       "NC    0.018407\n",
       "NM    0.018407\n",
       "MS    0.018407\n",
       "RI    0.018007\n",
       "ME    0.018007\n",
       "KS    0.018007\n",
       "SC    0.018007\n",
       "MD    0.017607\n",
       "NH    0.017207\n",
       "MO    0.016807\n",
       "GA    0.016807\n",
       "NE    0.016807\n",
       "LA    0.016807\n",
       "AR    0.016407\n",
       "OK    0.016407\n",
       "TN    0.016006\n",
       "DE    0.016006\n",
       "HI    0.016006\n",
       "IA    0.015206\n",
       "AK    0.015206\n",
       "DC    0.014406\n",
       "PA    0.012005\n",
       "CA    0.011605\n",
       "Name: state, dtype: float64"
      ]
     },
     "execution_count": 16,
     "metadata": {},
     "output_type": "execute_result"
    }
   ],
   "source": [
    "df[\"state\"].value_counts(True)"
   ]
  },
  {
   "cell_type": "code",
   "execution_count": null,
   "metadata": {},
   "outputs": [],
   "source": []
  },
  {
   "cell_type": "code",
   "execution_count": 17,
   "metadata": {},
   "outputs": [
    {
     "data": {
      "text/plain": [
       "array(['OR', 'RI', 'IN', 'MI', 'OK', 'WV', 'ID', 'NV', 'PA', 'LA', 'KY',\n",
       "       'NE', 'SD', 'NJ', 'WI', 'AZ', 'KS', 'UT', 'DC', 'MS', 'TN', 'CT',\n",
       "       'CO', 'MT', 'VT', 'FL', 'NC', 'NY', 'OH', 'NM', 'DE', 'ND', 'IA',\n",
       "       'CA', 'GA', 'MO', 'ME', 'IL', 'WA', 'WY', 'AK', 'VA', 'AL', 'MN',\n",
       "       'SC', 'NH', 'MD', 'AR', 'TX', 'HI', 'MA'], dtype=object)"
      ]
     },
     "execution_count": 17,
     "metadata": {},
     "output_type": "execute_result"
    }
   ],
   "source": [
    "df[\"state\"].unique()"
   ]
  },
  {
   "cell_type": "code",
   "execution_count": 20,
   "metadata": {},
   "outputs": [],
   "source": [
    "def normalize_state(texto):\n",
    "    if texto in ['OR', 'RI', 'IN', 'MI', 'OK']:\n",
    "        return \"Bloque 1\"\n",
    "    if texto in ['WV', 'ID', 'NV', 'PA', 'LA']:\n",
    "        return \"Bloque 2\"\n",
    "    if texto in ['KY', 'NE', 'SD', 'NJ', 'WI'] :\n",
    "        return \"Bloque 3\"\n",
    "    if texto in ['AZ', 'KS', 'UT', 'DC', 'MS']:\n",
    "        return \"Bloque 4\"\n",
    "    if texto in ['TN', 'CT', 'CO', 'MT', 'VT']:\n",
    "        return \"Bloque 5\"\n",
    "    if texto in ['FL', 'NC', 'NY', 'OH', 'NM']:\n",
    "        return \"Bloque 6\"\n",
    "    if texto in ['DE', 'ND', 'IA', 'CA', 'GA']:\n",
    "        return \"Bloque 7\"\n",
    "    if texto in ['MO', 'ME', 'IL', 'WA', 'WY']:\n",
    "        return \"Bloque 8\"\n",
    "    if texto in ['AK', 'VA', 'AL', 'MN', 'SC']:\n",
    "        return \"Bloque 9\"\n",
    "    if texto in ['NH', 'MD', 'AR', 'TX', 'HI', 'MA']:\n",
    "        return \"Bloque 10\"\n",
    "#     for letra in [\"Q\", \"W\", \"E\", \"R\", \"T\", \"Y\", \"U\", \"I\", \"O\", \"P\", \"A\", \"S\", \"D\", \"F\", \"G\", \"H\", \"J\", \"K\", \"L\", \"Z\", \"X\", \"C\", \"V\", \"B\", \"N\", \"M\"]:\n",
    "#         if text[0] == letra:\n",
    "#             return f\"Estados {letra}\"\n",
    "#         else:\n",
    "#             continue"
   ]
  },
  {
   "cell_type": "code",
   "execution_count": null,
   "metadata": {},
   "outputs": [],
   "source": [
    "if state in ('OR', 'RI', 'IN', 'MI', 'OK') Then state_2=\"Bloque 1\";\n",
    "if state in ('WV', 'ID', 'NV', 'PA', 'LA') Then state_2=\"Bloque 2\";\n",
    "if state in ('KY', 'NE', 'SD', 'NJ', 'WI')  Then state_2=\"Bloque 3\";\n",
    "if state in ('AZ', 'KS', 'UT', 'DC', 'MS') Then state_2=\"Bloque 4\";\n",
    "if state in ('TN', 'CT', 'CO', 'MT', 'VT') Then state_2=\"Bloque 5\";\n",
    "if state in ('FL', 'NC', 'NY', 'OH', 'NM') Then state_2=\"Bloque 6\";\n",
    "if state in ('DE', 'ND', 'IA', 'CA', 'GA') Then state_2=\"Bloque 7\";\n",
    "if state in ('MO', 'ME', 'IL', 'WA', 'WY') Then state_2=\"Bloque 8\";\n",
    "if state in ('AK', 'VA', 'AL', 'MN', 'SC') Then state_2=\"Bloque 9\";\n",
    "if state in ('NH', 'MD', 'AR', 'TX', 'HI', 'MA') Then state_2=\"Bloque 10\";"
   ]
  },
  {
   "cell_type": "code",
   "execution_count": 21,
   "metadata": {},
   "outputs": [],
   "source": [
    "df[\"state\"] = df[\"state\"].map(normalize_state)"
   ]
  },
  {
   "cell_type": "code",
   "execution_count": 22,
   "metadata": {},
   "outputs": [
    {
     "data": {
      "text/plain": [
       "Bloque 10    0.109644\n",
       "Bloque 6     0.106443\n",
       "Bloque 9     0.106042\n",
       "Bloque 2     0.104842\n",
       "Bloque 5     0.101240\n",
       "Bloque 3     0.100840\n",
       "Bloque 1     0.100840\n",
       "Bloque 8     0.097639\n",
       "Bloque 4     0.092037\n",
       "Bloque 7     0.080432\n",
       "Name: state, dtype: float64"
      ]
     },
     "execution_count": 22,
     "metadata": {},
     "output_type": "execute_result"
    }
   ],
   "source": [
    "df[\"state\"].value_counts(True)"
   ]
  },
  {
   "cell_type": "code",
   "execution_count": null,
   "metadata": {},
   "outputs": [],
   "source": []
  }
 ],
 "metadata": {
  "kernelspec": {
   "display_name": "Python 3",
   "language": "python",
   "name": "python3"
  },
  "language_info": {
   "codemirror_mode": {
    "name": "ipython",
    "version": 3
   },
   "file_extension": ".py",
   "mimetype": "text/x-python",
   "name": "python",
   "nbconvert_exporter": "python",
   "pygments_lexer": "ipython3",
   "version": "3.7.4"
  }
 },
 "nbformat": 4,
 "nbformat_minor": 2
}
