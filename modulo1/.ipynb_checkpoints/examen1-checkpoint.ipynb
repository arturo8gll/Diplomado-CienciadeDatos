{
 "cells": [
  {
   "cell_type": "code",
   "execution_count": 3,
   "metadata": {},
   "outputs": [
    {
     "ename": "ModuleNotFoundError",
     "evalue": "No module named 'pygal'",
     "output_type": "error",
     "traceback": [
      "\u001b[0;31m---------------------------------------------------------------------------\u001b[0m",
      "\u001b[0;31mModuleNotFoundError\u001b[0m                       Traceback (most recent call last)",
      "\u001b[0;32m<ipython-input-3-7c032bc9f602>\u001b[0m in \u001b[0;36m<module>\u001b[0;34m\u001b[0m\n\u001b[1;32m      1\u001b[0m \u001b[0;32mimport\u001b[0m \u001b[0mos\u001b[0m\u001b[0;34m\u001b[0m\u001b[0;34m\u001b[0m\u001b[0m\n\u001b[0;32m----> 2\u001b[0;31m \u001b[0;32mimport\u001b[0m \u001b[0mpygal\u001b[0m\u001b[0;34m\u001b[0m\u001b[0;34m\u001b[0m\u001b[0m\n\u001b[0m\u001b[1;32m      3\u001b[0m \u001b[0;32mimport\u001b[0m \u001b[0mnumpy\u001b[0m \u001b[0;32mas\u001b[0m \u001b[0mnp\u001b[0m\u001b[0;34m\u001b[0m\u001b[0;34m\u001b[0m\u001b[0m\n\u001b[1;32m      4\u001b[0m \u001b[0;32mimport\u001b[0m \u001b[0mpandas\u001b[0m \u001b[0;32mas\u001b[0m \u001b[0mpd\u001b[0m\u001b[0;34m\u001b[0m\u001b[0;34m\u001b[0m\u001b[0m\n\u001b[1;32m      5\u001b[0m \u001b[0;32mfrom\u001b[0m \u001b[0mscipy\u001b[0m\u001b[0;34m.\u001b[0m\u001b[0mstats\u001b[0m \u001b[0;32mimport\u001b[0m \u001b[0mks_2samp\u001b[0m\u001b[0;34m\u001b[0m\u001b[0;34m\u001b[0m\u001b[0m\n",
      "\u001b[0;31mModuleNotFoundError\u001b[0m: No module named 'pygal'"
     ]
    }
   ],
   "source": [
    "import os\n",
    "import pygal\n",
    "import numpy as np\n",
    "import pandas as pd\n",
    "from scipy.stats import ks_2samp\n",
    "from scipy.stats import chisquare\n",
    "from datetime import datetime, timedelta\n",
    "%matplotlib inline\n",
    "pd.set_option('display.float_format', lambda x: '%.2f' % x)"
   ]
  },
  {
   "cell_type": "code",
   "execution_count": 32,
   "metadata": {},
   "outputs": [],
   "source": [
    "def plot_barstack(data):\n",
    "    values = data.value_counts(True).sort_index().reset_index().values\n",
    "    barstack_chart = pygal.StackedBar()\n",
    "    barstack_chart.title = 'Categorical variable distribution'\n",
    "    for category, freq in values:\n",
    "        barstack_chart.add(category, freq)\n",
    "    return barstack_chart\n",
    "\n",
    "def plot_spc(df, date_col, cont_col, freq=\"month\", n_sigmas = 3):\n",
    "    aux = df[[date_col, cont_col]].copy()\n",
    "    if freq == \"month\":\n",
    "        date_format = \"%Y-%m-01\"\n",
    "    elif freq == \"day\":\n",
    "        date_format = \"%Y-%m-%d\"\n",
    "    elif freq == \"year\":\n",
    "        date_format = \"%Y-01-01\"\n",
    "    aux[freq] = aux[date_col].dt.strftime(date_format)\n",
    "    aux = aux[[freq, cont_col]].groupby(freq).mean()\n",
    "    aux[u\"μ\"] = aux[cont_col].mean()\n",
    "    aux[f\"μ-{n_sigmas}σ\"] = aux[cont_col].mean() - n_sigmas*aux[cont_col].std()\n",
    "    aux[f\"μ+{n_sigmas}σ\"] = aux[cont_col].mean() + n_sigmas*aux[cont_col].std()\n",
    "    line_chart = pygal.Line()\n",
    "    line_chart.title = 'Statistical Control Process'\n",
    "    line_chart.x_labels = aux.index\n",
    "    for col in aux.columns:\n",
    "        line_chart.add(col, aux[col])\n",
    "    return line_chart, aux[u\"μ\"].min(), aux[f\"μ-{n_sigmas}σ\"].min(), aux[f\"μ+{n_sigmas}σ\"].min()\n",
    "\n",
    "def plot_histogram(data, n_bins = 10):\n",
    "    freq, bins = np.histogram(data, bins=n_bins)\n",
    "    hist = pygal.Histogram()\n",
    "    hist.add('Wide bars', list(zip(freq, bins, bins[1:])))\n",
    "    return hist"
   ]
  },
  {
   "cell_type": "code",
   "execution_count": 3,
   "metadata": {},
   "outputs": [],
   "source": [
    "train = pd.read_csv(\"/home/oscar/Desktop/Examen 1/FB_data_train.csv\")\n",
    "test = pd.read_csv(\"/home/oscar/Desktop/Examen 1/FB_data_test.csv\")"
   ]
  },
  {
   "cell_type": "code",
   "execution_count": 4,
   "metadata": {},
   "outputs": [],
   "source": [
    "train[\"Fecha\"] = pd.to_datetime(train[\"Fecha\"])\n",
    "test[\"Fecha\"] = pd.to_datetime(test[\"Fecha\"])"
   ]
  },
  {
   "cell_type": "code",
   "execution_count": 5,
   "metadata": {},
   "outputs": [],
   "source": [
    "ls_cont = [\"Cierre\", \"Apertura\", \"Máximo\", \"Mínimo\"]\n",
    "ls_disc = [\"Quarter\", \"Weekday\"]"
   ]
  },
  {
   "cell_type": "code",
   "execution_count": 6,
   "metadata": {},
   "outputs": [],
   "source": [
    "def feature_building(df):\n",
    "    df[\"Rango\"] = df[\"Máximo\"] - df[\"Mínimo\"]\n",
    "    df[\"Intervalo\"] = df[\"Cierre\"] - df[\"Apertura\"]\n",
    "    df[\"RatioCA\"] = df[\"Cierre\"] / df[\"Apertura\"]\n",
    "    return df"
   ]
  },
  {
   "cell_type": "code",
   "execution_count": 7,
   "metadata": {},
   "outputs": [],
   "source": [
    "train = feature_building(train)"
   ]
  },
  {
   "cell_type": "code",
   "execution_count": 8,
   "metadata": {},
   "outputs": [],
   "source": [
    "test = feature_building(test)"
   ]
  },
  {
   "cell_type": "code",
   "execution_count": 9,
   "metadata": {},
   "outputs": [],
   "source": [
    "def build_temporal_features(df):\n",
    "    df[\"dia\"] = df[\"Fecha\"].dt.strftime(\"%Y-%m-%d\")\n",
    "    df[\"mes\"] = df[\"Fecha\"].dt.strftime(\"%Y-%m-01\")\n",
    "    df[\"anio\"] = df[\"Fecha\"].dt.strftime(\"%Y-01-01\")\n",
    "    return df"
   ]
  },
  {
   "cell_type": "code",
   "execution_count": 10,
   "metadata": {},
   "outputs": [],
   "source": [
    "train = build_temporal_features(train)"
   ]
  },
  {
   "cell_type": "code",
   "execution_count": 11,
   "metadata": {},
   "outputs": [],
   "source": [
    "test = build_temporal_features(test)"
   ]
  },
  {
   "cell_type": "code",
   "execution_count": 12,
   "metadata": {},
   "outputs": [],
   "source": [
    "ls_disc += [\"dia\", \"mes\", \"anio\"]"
   ]
  },
  {
   "cell_type": "code",
   "execution_count": 39,
   "metadata": {},
   "outputs": [],
   "source": [
    "for feat in ls_disc:\n",
    "    train[feat] = train[feat].astype(str)\n",
    "    test[feat] = test[feat].astype(str)"
   ]
  },
  {
   "cell_type": "code",
   "execution_count": 13,
   "metadata": {},
   "outputs": [],
   "source": [
    "def generate_agg(df):\n",
    "    agg1 = df[[\"dia\", \"Cierre\"]].groupby(\"dia\").agg([\"min\", \"max\", \"mean\"]).reset_index()\n",
    "    agg2 = df[[\"mes\", \"Apertura\"]].groupby(\"mes\").agg([\"min\", \"max\", \"mean\"]).reset_index()\n",
    "    return agg1, agg2"
   ]
  },
  {
   "cell_type": "code",
   "execution_count": 14,
   "metadata": {
    "scrolled": true
   },
   "outputs": [],
   "source": [
    "agg1, agg2 = generate_agg(train)\n",
    "agg1_test, agg2_test = generate_agg(test)"
   ]
  },
  {
   "cell_type": "code",
   "execution_count": 15,
   "metadata": {},
   "outputs": [],
   "source": [
    "cs = pd.DataFrame(columns=[\"p-value\", \"¿Son iguales?\"])\n",
    "for x in ls_cont:\n",
    "    cs.loc[x, \"p-value\"] = ks_2samp(train[x], test[x]).pvalue\n",
    "cs[\"¿Son iguales?\"] = cs[\"p-value\"].map(lambda x: \"No\" if x<0.05 else \"Si\")"
   ]
  },
  {
   "cell_type": "code",
   "execution_count": 16,
   "metadata": {},
   "outputs": [
    {
     "data": {
      "text/html": [
       "<div>\n",
       "<style scoped>\n",
       "    .dataframe tbody tr th:only-of-type {\n",
       "        vertical-align: middle;\n",
       "    }\n",
       "\n",
       "    .dataframe tbody tr th {\n",
       "        vertical-align: top;\n",
       "    }\n",
       "\n",
       "    .dataframe thead th {\n",
       "        text-align: right;\n",
       "    }\n",
       "</style>\n",
       "<table border=\"1\" class=\"dataframe\">\n",
       "  <thead>\n",
       "    <tr style=\"text-align: right;\">\n",
       "      <th></th>\n",
       "      <th>p-value</th>\n",
       "      <th>¿Son iguales?</th>\n",
       "    </tr>\n",
       "  </thead>\n",
       "  <tbody>\n",
       "    <tr>\n",
       "      <th>Cierre</th>\n",
       "      <td>0.00</td>\n",
       "      <td>No</td>\n",
       "    </tr>\n",
       "    <tr>\n",
       "      <th>Apertura</th>\n",
       "      <td>0.00</td>\n",
       "      <td>No</td>\n",
       "    </tr>\n",
       "    <tr>\n",
       "      <th>Máximo</th>\n",
       "      <td>0.00</td>\n",
       "      <td>No</td>\n",
       "    </tr>\n",
       "    <tr>\n",
       "      <th>Mínimo</th>\n",
       "      <td>0.00</td>\n",
       "      <td>No</td>\n",
       "    </tr>\n",
       "  </tbody>\n",
       "</table>\n",
       "</div>"
      ],
      "text/plain": [
       "         p-value ¿Son iguales?\n",
       "Cierre      0.00            No\n",
       "Apertura    0.00            No\n",
       "Máximo      0.00            No\n",
       "Mínimo      0.00            No"
      ]
     },
     "execution_count": 16,
     "metadata": {},
     "output_type": "execute_result"
    }
   ],
   "source": [
    "cs"
   ]
  },
  {
   "cell_type": "code",
   "execution_count": 17,
   "metadata": {},
   "outputs": [],
   "source": [
    "cs[\"sets\"] = \"train/test\""
   ]
  },
  {
   "cell_type": "code",
   "execution_count": 20,
   "metadata": {},
   "outputs": [
    {
     "name": "stdout",
     "output_type": "stream",
     "text": [
      "Error en la prueba de la variable dia\n",
      "Error en la prueba de la variable mes\n",
      "Error en la prueba de la variable anio\n"
     ]
    }
   ],
   "source": [
    "ds = pd.DataFrame(columns=[\"p-value\", \"¿Son iguales?\"])\n",
    "for x in ls_disc:\n",
    "    try:\n",
    "        ds.loc[x, \"p-value\"] = chisquare(f_obs=test[x].value_counts(True).sort_index().values, f_exp=train[x].value_counts(True).sort_index().values).pvalue\n",
    "    except:\n",
    "        print(f\"Error en la prueba de la variable {x}\")\n",
    "        continue\n",
    "ds[\"¿Son iguales?\"] = ds[\"p-value\"].map(lambda x: \"Si\" if 1-x<0.05 else \"No\")"
   ]
  },
  {
   "cell_type": "code",
   "execution_count": 19,
   "metadata": {},
   "outputs": [
    {
     "data": {
      "text/html": [
       "<div>\n",
       "<style scoped>\n",
       "    .dataframe tbody tr th:only-of-type {\n",
       "        vertical-align: middle;\n",
       "    }\n",
       "\n",
       "    .dataframe tbody tr th {\n",
       "        vertical-align: top;\n",
       "    }\n",
       "\n",
       "    .dataframe thead th {\n",
       "        text-align: right;\n",
       "    }\n",
       "</style>\n",
       "<table border=\"1\" class=\"dataframe\">\n",
       "  <thead>\n",
       "    <tr style=\"text-align: right;\">\n",
       "      <th></th>\n",
       "      <th>p-value</th>\n",
       "      <th>¿Son iguales?</th>\n",
       "    </tr>\n",
       "  </thead>\n",
       "  <tbody>\n",
       "    <tr>\n",
       "      <th>Quarter</th>\n",
       "      <td>1.00</td>\n",
       "      <td>NaN</td>\n",
       "    </tr>\n",
       "    <tr>\n",
       "      <th>Weekday</th>\n",
       "      <td>1.00</td>\n",
       "      <td>NaN</td>\n",
       "    </tr>\n",
       "  </tbody>\n",
       "</table>\n",
       "</div>"
      ],
      "text/plain": [
       "        p-value ¿Son iguales?\n",
       "Quarter    1.00           NaN\n",
       "Weekday    1.00           NaN"
      ]
     },
     "execution_count": 19,
     "metadata": {},
     "output_type": "execute_result"
    }
   ],
   "source": [
    "ds"
   ]
  },
  {
   "cell_type": "code",
   "execution_count": 27,
   "metadata": {},
   "outputs": [],
   "source": [
    "path_to_save = \"/home/oscar/Documents/Diplomado Ciencia de Datos/Módulo 1/Examen 1/Oscar Acosta\""
   ]
  },
  {
   "cell_type": "code",
   "execution_count": 58,
   "metadata": {},
   "outputs": [
    {
     "name": "stdout",
     "output_type": "stream",
     "text": [
      "Datos anómalos por encima del límite definido en la variable Cierre\n",
      "Datos anómalos por encima del límite definido en la variable Apertura\n",
      "Datos anómalos por encima del límite definido en la variable Máximo\n",
      "Datos anómalos por encima del límite definido en la variable Mínimo\n"
     ]
    }
   ],
   "source": [
    "for feat in ls_cont:\n",
    "    plot_histogram(train[feat]).render_to_png(os.path.join(path_to_save, f\"continuas/histogramas/{feat}_histograma_train.png\"))\n",
    "    plot_histogram(test[feat]).render_to_png(os.path.join(path_to_save, f\"continuas/histogramas/{feat}_histograma_test.png\"))\n",
    "    plot, mean, mmstd, mpstd = plot_spc(cont_col=feat, date_col=\"Fecha\", df=train, freq=\"month\", n_sigmas=1)\n",
    "    plot.render_to_png(os.path.join(path_to_save, f\"continuas/SPC/{feat}_spc_train.png\"))\n",
    "    agg = test[[feat, \"mes\"]].groupby(\"mes\").mean()\n",
    "    if sum(agg[feat] > mpstd) > 1:\n",
    "        print(f\"Datos anómalos por encima del límite definido en la variable {feat}\")\n",
    "    if sum(agg[feat] < mmstd) > 1:\n",
    "        print(f\"Datos anómalos por debajo del límite definido en la variable {feat}\")"
   ]
  },
  {
   "cell_type": "code",
   "execution_count": 40,
   "metadata": {},
   "outputs": [],
   "source": [
    "for feat in ls_disc:\n",
    "    plot_barstack(train[feat]).render_to_png(os.path.join(path_to_save, f\"discretas/{feat}_barstack_train.png\"))\n",
    "    plot_barstack(test[feat]).render_to_png(os.path.join(path_to_save, f\"discretas/{feat}_barstack_test.png\"))"
   ]
  },
  {
   "cell_type": "code",
   "execution_count": null,
   "metadata": {},
   "outputs": [],
   "source": []
  }
 ],
 "metadata": {
  "kernelspec": {
   "display_name": "Python 3",
   "language": "python",
   "name": "python3"
  },
  "language_info": {
   "codemirror_mode": {
    "name": "ipython",
    "version": 3
   },
   "file_extension": ".py",
   "mimetype": "text/x-python",
   "name": "python",
   "nbconvert_exporter": "python",
   "pygments_lexer": "ipython3",
   "version": "3.7.4"
  }
 },
 "nbformat": 4,
 "nbformat_minor": 2
}
