{
 "cells": [
  {
   "cell_type": "code",
   "execution_count": 33,
   "metadata": {},
   "outputs": [],
   "source": [
    "import pygal\n",
    "import numpy as np\n",
    "import pandas as pd\n",
    "import math\n",
    "import os\n",
    "from scipy.stats import ks_2samp\n",
    "from scipy.stats import chisquare\n",
    "from IPython.display import display, HTML\n",
    "%matplotlib inline\n",
    "\n",
    "base_html = \"\"\"\n",
    "<!DOCTYPE html>\n",
    "<html>\n",
    "  <head>\n",
    "  <script type=\"text/javascript\" src=\"http://kozea.github.com/pygal.js/javascripts/svg.jquery.js\"></script>\n",
    "  <script type=\"text/javascript\" src=\"https://kozea.github.io/pygal.js/2.0.x/pygal-tooltips.min.js\"\"></script>\n",
    "  </head>\n",
    "  <body>\n",
    "    <figure>\n",
    "      {rendered_chart}\n",
    "    </figure>\n",
    "  </body>\n",
    "</html>\n",
    "\"\"\""
   ]
  },
  {
   "cell_type": "code",
   "execution_count": 34,
   "metadata": {},
   "outputs": [],
   "source": [
    "df=pd.read_csv('./csv/movies.csv')"
   ]
  },
  {
   "cell_type": "code",
   "execution_count": 35,
   "metadata": {},
   "outputs": [
    {
     "data": {
      "text/html": [
       "<div>\n",
       "<style scoped>\n",
       "    .dataframe tbody tr th:only-of-type {\n",
       "        vertical-align: middle;\n",
       "    }\n",
       "\n",
       "    .dataframe tbody tr th {\n",
       "        vertical-align: top;\n",
       "    }\n",
       "\n",
       "    .dataframe thead th {\n",
       "        text-align: right;\n",
       "    }\n",
       "</style>\n",
       "<table border=\"1\" class=\"dataframe\">\n",
       "  <thead>\n",
       "    <tr style=\"text-align: right;\">\n",
       "      <th></th>\n",
       "      <th>movie_title</th>\n",
       "      <th>movie_imdb_link</th>\n",
       "      <th>color</th>\n",
       "      <th>genre_4</th>\n",
       "      <th>duration</th>\n",
       "      <th>gross</th>\n",
       "      <th>genre_1</th>\n",
       "      <th>genre_2</th>\n",
       "      <th>genre_3</th>\n",
       "      <th>num_voted_users</th>\n",
       "      <th>facenumber_in_poster</th>\n",
       "      <th>language</th>\n",
       "      <th>country</th>\n",
       "      <th>content_rating</th>\n",
       "      <th>title_year</th>\n",
       "      <th>imdb_score</th>\n",
       "    </tr>\n",
       "  </thead>\n",
       "  <tbody>\n",
       "    <tr>\n",
       "      <td>0</td>\n",
       "      <td>Femme Fatale</td>\n",
       "      <td>http://www.imdb.com/title/tt0280665/?ref_=fn_t...</td>\n",
       "      <td>Color</td>\n",
       "      <td>Thriller</td>\n",
       "      <td>114.0</td>\n",
       "      <td>NaN</td>\n",
       "      <td>Crime</td>\n",
       "      <td>Drama</td>\n",
       "      <td>Mystery</td>\n",
       "      <td>28584</td>\n",
       "      <td>1</td>\n",
       "      <td>English</td>\n",
       "      <td>France</td>\n",
       "      <td>R</td>\n",
       "      <td>2002.0</td>\n",
       "      <td>6.3</td>\n",
       "    </tr>\n",
       "    <tr>\n",
       "      <td>1</td>\n",
       "      <td>An Unfinished Life</td>\n",
       "      <td>http://www.imdb.com/title/tt0350261/?ref_=fn_t...</td>\n",
       "      <td>Color</td>\n",
       "      <td>NaN</td>\n",
       "      <td>108.0</td>\n",
       "      <td>NaN</td>\n",
       "      <td>Drama</td>\n",
       "      <td>NaN</td>\n",
       "      <td>NaN</td>\n",
       "      <td>24033</td>\n",
       "      <td>3</td>\n",
       "      <td>English</td>\n",
       "      <td>USA</td>\n",
       "      <td>PG-13</td>\n",
       "      <td>2005.0</td>\n",
       "      <td>7.0</td>\n",
       "    </tr>\n",
       "    <tr>\n",
       "      <td>2</td>\n",
       "      <td>C.H.U.D.</td>\n",
       "      <td>http://www.imdb.com/title/tt0087015/?ref_=fn_t...</td>\n",
       "      <td>Color</td>\n",
       "      <td>NaN</td>\n",
       "      <td>96.0</td>\n",
       "      <td>NaN</td>\n",
       "      <td>Horror</td>\n",
       "      <td>Sci-Fi</td>\n",
       "      <td>NaN</td>\n",
       "      <td>7528</td>\n",
       "      <td>0</td>\n",
       "      <td>English</td>\n",
       "      <td>USA</td>\n",
       "      <td>R</td>\n",
       "      <td>1984.0</td>\n",
       "      <td>5.5</td>\n",
       "    </tr>\n",
       "    <tr>\n",
       "      <td>3</td>\n",
       "      <td>Just Wright</td>\n",
       "      <td>http://www.imdb.com/title/tt1407061/?ref_=fn_t...</td>\n",
       "      <td>Color</td>\n",
       "      <td>NaN</td>\n",
       "      <td>100.0</td>\n",
       "      <td>21520719.0</td>\n",
       "      <td>Comedy</td>\n",
       "      <td>Romance</td>\n",
       "      <td>Sport</td>\n",
       "      <td>10103</td>\n",
       "      <td>1</td>\n",
       "      <td>English</td>\n",
       "      <td>USA</td>\n",
       "      <td>PG</td>\n",
       "      <td>2010.0</td>\n",
       "      <td>5.8</td>\n",
       "    </tr>\n",
       "    <tr>\n",
       "      <td>4</td>\n",
       "      <td>Yentl</td>\n",
       "      <td>http://www.imdb.com/title/tt0086619/?ref_=fn_t...</td>\n",
       "      <td>Color</td>\n",
       "      <td>NaN</td>\n",
       "      <td>132.0</td>\n",
       "      <td>30400000.0</td>\n",
       "      <td>Drama</td>\n",
       "      <td>Musical</td>\n",
       "      <td>Romance</td>\n",
       "      <td>9503</td>\n",
       "      <td>1</td>\n",
       "      <td>English</td>\n",
       "      <td>UK</td>\n",
       "      <td>PG</td>\n",
       "      <td>1983.0</td>\n",
       "      <td>6.6</td>\n",
       "    </tr>\n",
       "  </tbody>\n",
       "</table>\n",
       "</div>"
      ],
      "text/plain": [
       "           movie_title                                    movie_imdb_link  \\\n",
       "0        Femme Fatale   http://www.imdb.com/title/tt0280665/?ref_=fn_t...   \n",
       "1  An Unfinished Life   http://www.imdb.com/title/tt0350261/?ref_=fn_t...   \n",
       "2            C.H.U.D.   http://www.imdb.com/title/tt0087015/?ref_=fn_t...   \n",
       "3         Just Wright   http://www.imdb.com/title/tt1407061/?ref_=fn_t...   \n",
       "4               Yentl   http://www.imdb.com/title/tt0086619/?ref_=fn_t...   \n",
       "\n",
       "   color   genre_4  duration       gross genre_1  genre_2  genre_3  \\\n",
       "0  Color  Thriller     114.0         NaN   Crime    Drama  Mystery   \n",
       "1  Color       NaN     108.0         NaN   Drama      NaN      NaN   \n",
       "2  Color       NaN      96.0         NaN  Horror   Sci-Fi      NaN   \n",
       "3  Color       NaN     100.0  21520719.0  Comedy  Romance    Sport   \n",
       "4  Color       NaN     132.0  30400000.0   Drama  Musical  Romance   \n",
       "\n",
       "  num_voted_users facenumber_in_poster language country content_rating  \\\n",
       "0           28584                    1  English  France              R   \n",
       "1           24033                    3  English     USA          PG-13   \n",
       "2            7528                    0  English     USA              R   \n",
       "3           10103                    1  English     USA             PG   \n",
       "4            9503                    1  English      UK             PG   \n",
       "\n",
       "   title_year  imdb_score  \n",
       "0      2002.0         6.3  \n",
       "1      2005.0         7.0  \n",
       "2      1984.0         5.5  \n",
       "3      2010.0         5.8  \n",
       "4      1983.0         6.6  "
      ]
     },
     "execution_count": 35,
     "metadata": {},
     "output_type": "execute_result"
    }
   ],
   "source": [
    "df.head()"
   ]
  },
  {
   "cell_type": "markdown",
   "metadata": {},
   "source": [
    "### Analisis Exploratorio de Datos"
   ]
  },
  {
   "cell_type": "markdown",
   "metadata": {},
   "source": [
    "### a) Indique cuales de las variables presentadas son discretas y cuales continuas."
   ]
  },
  {
   "cell_type": "markdown",
   "metadata": {},
   "source": [
    "| Variable      | Cont/Disc     |\n",
    "| ------------- |:-------------:|\n",
    "| movie_title   | Discreto |\n",
    "| movie_imdb_link| Discreto  |\n",
    "| color | Discreto|\n",
    "| duration | Continuo|\n",
    "| gross | Continuo|\n",
    "| genre_1 | Discreto|\n",
    "| genre_2 | Discreto|\n",
    "| genre_3 | Discreto|\n",
    "| genre_4 | Discreto|\n",
    "| num_voted_users | Continuo|\n",
    "| facenumber_in_poster | Continuo|\n",
    "| language | Discreto|\n",
    "| country | Discreto|\n",
    "| content_rating | Discreto|\n",
    "| title_year | Discreto|\n",
    "| imdb_score | Continuo|\n"
   ]
  },
  {
   "cell_type": "markdown",
   "metadata": {},
   "source": [
    "### b) Realice una exploración visual ligera de los datos. Independientemente de la herramienta (Tableau, Pygal), agregue imágenes que respalden la exploración"
   ]
  },
  {
   "cell_type": "code",
   "execution_count": 36,
   "metadata": {},
   "outputs": [],
   "source": [
    "# eliminamos este registro por que tiene esta cadena ' Quite a Conundrum\\xa0'\n",
    "df=df.drop([3319]).reset_index(drop=True)"
   ]
  },
  {
   "cell_type": "code",
   "execution_count": 37,
   "metadata": {},
   "outputs": [],
   "source": [
    "# ya que solo 12 registros presentan nan values los vamos a eliminar\n",
    "df=df.dropna(subset=['facenumber_in_poster'])"
   ]
  },
  {
   "cell_type": "code",
   "execution_count": 38,
   "metadata": {},
   "outputs": [],
   "source": [
    "#convertimos las columnos a tipo int\n",
    "df[\"num_voted_users\"]=df[\"num_voted_users\"].astype(int)\n",
    "df[\"facenumber_in_poster\"]=df[\"facenumber_in_poster\"].astype(int)\n",
    "df[\"title_year\"]=df[\"title_year\"].astype(str)"
   ]
  },
  {
   "cell_type": "code",
   "execution_count": 39,
   "metadata": {},
   "outputs": [],
   "source": [
    "def plot_histogram(df,var):\n",
    "    freq, bins = np.histogram(df[var])\n",
    "\n",
    "    hist = list(zip(freq, bins, bins[1:]))\n",
    "\n",
    "    hist_plot = pygal.Histogram()\n",
    "\n",
    "    hist_plot.add(var, hist)\n",
    "    display(HTML(base_html.format(rendered_chart=hist_plot.render(is_unicode=True))))"
   ]
  },
  {
   "cell_type": "code",
   "execution_count": 40,
   "metadata": {},
   "outputs": [],
   "source": [
    "def plot_stackbar(df,val,route=\"\"):\n",
    "    line_chart = pygal.StackedBar()\n",
    "    line_chart.title = val\n",
    "    line_chart.x_labels = [val]\n",
    "    aux = df[val].value_counts()\n",
    "    for i in range(len(aux.values)):\n",
    "            line_chart.add(str(aux.index[i]), aux.values[i])\n",
    "    if route!='':\n",
    "        return line_chart.render_to_png(route)\n",
    "    display(HTML(base_html.format(rendered_chart=line_chart.render(is_unicode=True))))"
   ]
  },
  {
   "cell_type": "code",
   "execution_count": 41,
   "metadata": {},
   "outputs": [],
   "source": [
    "def plot_bar(df,val,route=\"\"):    \n",
    "    line_chart = pygal.Bar()\n",
    "    line_chart.title = val\n",
    "    aux = df[val].value_counts()\n",
    "    for i in range(len(aux.values)):\n",
    "        line_chart.add(str(aux.index[i]), aux.values[i])\n",
    "    if route!='':\n",
    "        return line_chart.render_to_png(route)\n",
    "    display(HTML(base_html.format(rendered_chart=line_chart.render(is_unicode=True))))"
   ]
  },
  {
   "cell_type": "code",
   "execution_count": 42,
   "metadata": {},
   "outputs": [],
   "source": [
    "def plot_hist(df,value,route=''):\n",
    "    info=df[value].describe()\n",
    "    r=info[\"max\"]-info[\"min\"]\n",
    "    k=math.ceil(1+3.322*math.log10(info[\"count\"]))\n",
    "    a=int(round(r/k))\n",
    "    ranges=[]\n",
    "    for i in range(int(info[\"min\"]),int(info[\"max\"]+2),a):\n",
    "        ranges.append(i)\n",
    "    aux=np.histogram(df[value], bins=ranges)\n",
    "    histograma=[]\n",
    "    for i in range(len(aux[0])):\n",
    "        histograma.append([aux[0][i],aux[1][i],aux[1][i+1]])\n",
    "    hist = pygal.Histogram()\n",
    "    hist.add(value,histograma)\n",
    "    if route!='':\n",
    "        return hist.render_to_png(route)\n",
    "    display(HTML(base_html.format(rendered_chart=hist.render(is_unicode=True))))"
   ]
  },
  {
   "cell_type": "code",
   "execution_count": 43,
   "metadata": {},
   "outputs": [],
   "source": [
    "def split_variables(df):\n",
    "    ls_con=[]\n",
    "    ls_dis=[]\n",
    "    ls_date=[]\n",
    "    for i in range(len(df.columns)):\n",
    "        if df.dtypes[i] == 'object':\n",
    "            ls_dis.append(df.columns[i])\n",
    "        elif df.dtypes[i] == 'int64' or df.dtypes[i]=='float64':\n",
    "            ls_con.append(df.columns[i])\n",
    "        elif df.dtypes[i] == 'datetime64[ns]':\n",
    "            ls_date.append(df.columns[i])\n",
    "    return ls_con,ls_dis,ls_date"
   ]
  },
  {
   "cell_type": "code",
   "execution_count": 44,
   "metadata": {},
   "outputs": [],
   "source": [
    "ls_con,ls_dis,ls_date=split_variables(df)"
   ]
  },
  {
   "cell_type": "code",
   "execution_count": 45,
   "metadata": {},
   "outputs": [
    {
     "ename": "FileExistsError",
     "evalue": "[Errno 17] File exists: './img/antes'",
     "output_type": "error",
     "traceback": [
      "\u001b[0;31m---------------------------------------------------------------------------\u001b[0m",
      "\u001b[0;31mFileExistsError\u001b[0m                           Traceback (most recent call last)",
      "\u001b[0;32m<ipython-input-45-8a7976d17843>\u001b[0m in \u001b[0;36m<module>\u001b[0;34m\u001b[0m\n\u001b[0;32m----> 1\u001b[0;31m \u001b[0mos\u001b[0m\u001b[0;34m.\u001b[0m\u001b[0mmkdir\u001b[0m\u001b[0;34m(\u001b[0m\u001b[0;34m'./img/antes'\u001b[0m\u001b[0;34m)\u001b[0m\u001b[0;34m\u001b[0m\u001b[0;34m\u001b[0m\u001b[0m\n\u001b[0m",
      "\u001b[0;31mFileExistsError\u001b[0m: [Errno 17] File exists: './img/antes'"
     ]
    }
   ],
   "source": [
    "os.mkdir('./img/antes')"
   ]
  },
  {
   "cell_type": "code",
   "execution_count": 46,
   "metadata": {},
   "outputs": [],
   "source": [
    "for i in ls_con:\n",
    "    plot_hist(df,i,\"./img/antes/cont_{}.png\".format(i))"
   ]
  },
  {
   "cell_type": "code",
   "execution_count": 47,
   "metadata": {},
   "outputs": [],
   "source": [
    "for i in ls_dis[2:]:\n",
    "    plot_stackbar(df,i,\"./img/antes/disc_{}.png\".format(i))"
   ]
  },
  {
   "cell_type": "markdown",
   "metadata": {},
   "source": [
    "### c) Remueva outliers de aquellas variables que los presenten. Utilice cualquier método para ello. Muestre un cuadro con el número de registros antes y despúes de los tratamientos"
   ]
  },
  {
   "cell_type": "code",
   "execution_count": 48,
   "metadata": {},
   "outputs": [],
   "source": [
    "def iqr(df,variable):\n",
    "    desc = df[variable].describe()\n",
    "    iqr_value= desc[\"75%\"]- desc[\"25%\"]\n",
    "    bandaIzq = desc[\"25%\"] - (1.5*iqr_value)\n",
    "    bandaDer = desc[\"75%\"] + (1.5*iqr_value)\n",
    "    aux = df.copy()\n",
    "    return aux[(aux[variable]>bandaIzq) & (aux[variable]<bandaDer)]"
   ]
  },
  {
   "cell_type": "code",
   "execution_count": 49,
   "metadata": {},
   "outputs": [],
   "source": [
    "def percentiles(df,variable,percent):\n",
    "    desc = df[variable].describe(percentiles=percent)\n",
    "    aux = df.copy()\n",
    "    return aux[(aux[variable]>desc[\"{}%\".format(str(int(percent[0]*100)))]) & (aux[variable]<desc[\"{}%\".format(str(int(percent[1]*100)))])]"
   ]
  },
  {
   "cell_type": "code",
   "execution_count": 50,
   "metadata": {},
   "outputs": [],
   "source": [
    "def media(df,variable,n_sigma):\n",
    "    media = df[variable].mean()\n",
    "    sigma = df[variable].std()\n",
    "    aux = df.copy()\n",
    "    return aux[(media-n_sigma*sigma <= aux[variable])  & (aux[variable] <= media + n_sigma*sigma )]"
   ]
  },
  {
   "cell_type": "code",
   "execution_count": 51,
   "metadata": {},
   "outputs": [
    {
     "data": {
      "text/plain": [
       "count    5030.000000\n",
       "mean        1.371173\n",
       "std         2.013576\n",
       "min         0.000000\n",
       "0%          0.000000\n",
       "1%          0.000000\n",
       "5%          0.000000\n",
       "10%         0.000000\n",
       "20%         0.000000\n",
       "30%         0.000000\n",
       "40%         0.000000\n",
       "50%         1.000000\n",
       "60%         1.000000\n",
       "70%         2.000000\n",
       "80%         2.000000\n",
       "90%         4.000000\n",
       "95%         5.000000\n",
       "99%         8.000000\n",
       "max        43.000000\n",
       "Name: facenumber_in_poster, dtype: float64"
      ]
     },
     "execution_count": 51,
     "metadata": {},
     "output_type": "execute_result"
    }
   ],
   "source": [
    "df[ls_con[3]].describe(percentiles = [x/10 for x in range(10)]+[0.01, 0.05, 0.95, 0.99],)"
   ]
  },
  {
   "cell_type": "code",
   "execution_count": 52,
   "metadata": {},
   "outputs": [],
   "source": [
    "per_df=df.copy()\n",
    "\n",
    "df=percentiles(per_df,ls_con[0],[0.01,0.99])"
   ]
  },
  {
   "cell_type": "markdown",
   "metadata": {},
   "source": [
    "| Antes  | Despues|\n",
    "| -------|:----:|\n",
    "| 5030   | 4911 |"
   ]
  },
  {
   "cell_type": "markdown",
   "metadata": {},
   "source": [
    "### d) Normalice las variables discretas que lo requieran. Muestre un cuadro con lasc ategorías resultantes por cada variable"
   ]
  },
  {
   "cell_type": "markdown",
   "metadata": {},
   "source": [
    "### e) Realice una nueva exploraci´on visual, esta vez con el objetivo de ver los efectos de los tratamientos realizados. De igual modo, agregue las im´agenes correspondientes."
   ]
  },
  {
   "cell_type": "code",
   "execution_count": 53,
   "metadata": {},
   "outputs": [],
   "source": [
    "# os.mkdir('./img/despues')\n",
    "\n",
    "for i in ls_con:\n",
    "    plot_hist(df,i,\"./img/despues/cont_{}.png\".format(i))\n",
    "\n",
    "for i in ls_dis[2:]:\n",
    "    plot_stackbar(df,i,\"./img/despues/disc_{}.png\".format(i))"
   ]
  },
  {
   "cell_type": "markdown",
   "metadata": {},
   "source": [
    "# Ingeniería de datos"
   ]
  },
  {
   "cell_type": "markdown",
   "metadata": {},
   "source": [
    "### a) Cree una variable binaria que indique sí el score de la película es mayor al promedio. Analice gráficamente la frecuencia de los valores generados."
   ]
  },
  {
   "cell_type": "code",
   "execution_count": 54,
   "metadata": {},
   "outputs": [
    {
     "data": {
      "text/plain": [
       "['duration', 'gross', 'num_voted_users', 'facenumber_in_poster', 'imdb_score']"
      ]
     },
     "execution_count": 54,
     "metadata": {},
     "output_type": "execute_result"
    }
   ],
   "source": [
    "ls_con"
   ]
  },
  {
   "cell_type": "code",
   "execution_count": 55,
   "metadata": {},
   "outputs": [],
   "source": [
    "df[\"var1\"]=df[\"duration\"]/df[\"gross\"]\n",
    "df[\"var2\"]=df[\"num_voted_users\"]*df[\"imdb_score\"]"
   ]
  },
  {
   "cell_type": "markdown",
   "metadata": {},
   "source": [
    "# Tratamiento de valores ausentes\n",
    "\n",
    "### a) Elimine aquellas columnas que superen el umbral de 70% o más de presencia de valores ausentes. Indique que columnas fueron eliminadas.\n",
    "\n",
    "### c) Impute las variables continuas que lo requieran mediante el uso de la mediana. La variable imputada debe almacenarse en una variable nueva, dejando a la original intacta.\n",
    "\n",
    "### d) Impute las variables continuas que lo requieran mediante el uso de la media. La variable imputada debe almacenarse en una variable nueva, dejando a la original intacta."
   ]
  },
  {
   "cell_type": "code",
   "execution_count": 64,
   "metadata": {},
   "outputs": [
    {
     "data": {
      "text/html": [
       "<div>\n",
       "<style scoped>\n",
       "    .dataframe tbody tr th:only-of-type {\n",
       "        vertical-align: middle;\n",
       "    }\n",
       "\n",
       "    .dataframe tbody tr th {\n",
       "        vertical-align: top;\n",
       "    }\n",
       "\n",
       "    .dataframe thead th {\n",
       "        text-align: right;\n",
       "    }\n",
       "</style>\n",
       "<table border=\"1\" class=\"dataframe\">\n",
       "  <thead>\n",
       "    <tr style=\"text-align: right;\">\n",
       "      <th></th>\n",
       "      <th>0</th>\n",
       "    </tr>\n",
       "  </thead>\n",
       "  <tbody>\n",
       "    <tr>\n",
       "      <td>movie_title</td>\n",
       "      <td>0.000000</td>\n",
       "    </tr>\n",
       "    <tr>\n",
       "      <td>movie_imdb_link</td>\n",
       "      <td>0.000000</td>\n",
       "    </tr>\n",
       "    <tr>\n",
       "      <td>color</td>\n",
       "      <td>0.325799</td>\n",
       "    </tr>\n",
       "    <tr>\n",
       "      <td>genre_4</td>\n",
       "      <td>71.736917</td>\n",
       "    </tr>\n",
       "    <tr>\n",
       "      <td>duration</td>\n",
       "      <td>0.000000</td>\n",
       "    </tr>\n",
       "    <tr>\n",
       "      <td>gross</td>\n",
       "      <td>69.721034</td>\n",
       "    </tr>\n",
       "    <tr>\n",
       "      <td>genre_1</td>\n",
       "      <td>0.000000</td>\n",
       "    </tr>\n",
       "    <tr>\n",
       "      <td>genre_2</td>\n",
       "      <td>12.482183</td>\n",
       "    </tr>\n",
       "    <tr>\n",
       "      <td>genre_3</td>\n",
       "      <td>39.401344</td>\n",
       "    </tr>\n",
       "    <tr>\n",
       "      <td>num_voted_users</td>\n",
       "      <td>0.000000</td>\n",
       "    </tr>\n",
       "    <tr>\n",
       "      <td>facenumber_in_poster</td>\n",
       "      <td>0.000000</td>\n",
       "    </tr>\n",
       "    <tr>\n",
       "      <td>language</td>\n",
       "      <td>0.203625</td>\n",
       "    </tr>\n",
       "    <tr>\n",
       "      <td>country</td>\n",
       "      <td>0.040725</td>\n",
       "    </tr>\n",
       "    <tr>\n",
       "      <td>content_rating</td>\n",
       "      <td>5.416412</td>\n",
       "    </tr>\n",
       "    <tr>\n",
       "      <td>title_year</td>\n",
       "      <td>0.000000</td>\n",
       "    </tr>\n",
       "    <tr>\n",
       "      <td>imdb_score</td>\n",
       "      <td>0.000000</td>\n",
       "    </tr>\n",
       "    <tr>\n",
       "      <td>var1</td>\n",
       "      <td>69.721034</td>\n",
       "    </tr>\n",
       "    <tr>\n",
       "      <td>var2</td>\n",
       "      <td>0.000000</td>\n",
       "    </tr>\n",
       "  </tbody>\n",
       "</table>\n",
       "</div>"
      ],
      "text/plain": [
       "                              0\n",
       "movie_title            0.000000\n",
       "movie_imdb_link        0.000000\n",
       "color                  0.325799\n",
       "genre_4               71.736917\n",
       "duration               0.000000\n",
       "gross                 69.721034\n",
       "genre_1                0.000000\n",
       "genre_2               12.482183\n",
       "genre_3               39.401344\n",
       "num_voted_users        0.000000\n",
       "facenumber_in_poster   0.000000\n",
       "language               0.203625\n",
       "country                0.040725\n",
       "content_rating         5.416412\n",
       "title_year             0.000000\n",
       "imdb_score             0.000000\n",
       "var1                  69.721034\n",
       "var2                   0.000000"
      ]
     },
     "execution_count": 64,
     "metadata": {},
     "output_type": "execute_result"
    }
   ],
   "source": [
    "((df.isna().sum()*100)/4911).to_frame()"
   ]
  },
  {
   "cell_type": "markdown",
   "metadata": {},
   "source": [
    "Se calculo el porcentaje de valores nulos de cada variable y la unica que supera el 70% es la variable `genre_4` entonces esta variable la eliminaremos"
   ]
  },
  {
   "cell_type": "markdown",
   "metadata": {},
   "source": [
    "\n",
    "### b) Impute las variables discretas que lo requieran mediante el uso de la moda. La variable imputada debe almacenarse en una variable nueva, dejando a la original intacta."
   ]
  },
  {
   "cell_type": "code",
   "execution_count": null,
   "metadata": {},
   "outputs": [],
   "source": []
  }
 ],
 "metadata": {
  "kernelspec": {
   "display_name": "unam",
   "language": "python",
   "name": "unam"
  },
  "language_info": {
   "codemirror_mode": {
    "name": "ipython",
    "version": 3
   },
   "file_extension": ".py",
   "mimetype": "text/x-python",
   "name": "python",
   "nbconvert_exporter": "python",
   "pygments_lexer": "ipython3",
   "version": "3.7.4"
  }
 },
 "nbformat": 4,
 "nbformat_minor": 2
}
