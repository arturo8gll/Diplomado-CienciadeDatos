{
 "cells": [
  {
   "cell_type": "code",
   "execution_count": 42,
   "metadata": {
    "collapsed": true
   },
   "outputs": [],
   "source": [
    "import os\n",
    "import pygal\n",
    "import numpy as np\n",
    "import pandas as pd\n",
    "from scipy.stats import ks_2samp\n",
    "from scipy.stats import chisquare\n",
    "from datetime import datetime, timedelta\n",
    "\n",
    "%matplotlib inline"
   ]
  },
  {
   "cell_type": "code",
   "execution_count": 18,
   "metadata": {
    "collapsed": true
   },
   "outputs": [],
   "source": [
    "def plot_barstack(data):\n",
    "    values = data.value_counts(True).sort_index().reset_index().values\n",
    "    barstack_chart = pygal.StackedBar()\n",
    "    barstack_chart.title = 'Categorical variable distribution'\n",
    "    for category, freq in values:\n",
    "        barstack_chart.add(category, freq)\n",
    "    return barstack_chart\n",
    "\n",
    "def plot_spc(df, date_col, cont_col, freq=\"month\", n_sigmas = 3):\n",
    "    aux = df[[date_col, cont_col]].copy()\n",
    "    if freq == \"month\":\n",
    "        date_format = \"%Y-%m-01\"\n",
    "    elif freq == \"day\":\n",
    "        date_format = \"%Y-%m-%d\"\n",
    "    elif freq == \"year\":\n",
    "        date_format = \"%Y-01-01\"\n",
    "    aux[freq] = aux[date_col].dt.strftime(date_format)\n",
    "    aux = aux[[freq, cont_col]].groupby(freq).mean()\n",
    "    aux[u\"μ\"] = aux[cont_col].mean()\n",
    "    aux[f\"μ-{n_sigmas}σ\"] = aux[cont_col].mean() - n_sigmas*aux[cont_col].std()\n",
    "    aux[f\"μ+{n_sigmas}σ\"] = aux[cont_col].mean() + n_sigmas*aux[cont_col].std()\n",
    "    line_chart = pygal.Line()\n",
    "    line_chart.title = 'Statistical Control Process'\n",
    "    line_chart.x_labels = aux.index\n",
    "    for col in aux.columns:\n",
    "        line_chart.add(col, aux[col])\n",
    "    return line_chart\n",
    "\n",
    "def plot_histogram(data, n_bins = 10):\n",
    "    freq, bins = np.histogram(data, bins=n_bins)\n",
    "    hist = pygal.Histogram()\n",
    "    hist.add('Wide bars', list(zip(freq, bins, bins[1:])))\n",
    "    return hist"
   ]
  },
  {
   "cell_type": "code",
   "execution_count": 19,
   "metadata": {
    "collapsed": true
   },
   "outputs": [],
   "source": [
    "df = pd.read_csv(\"/home/oscar/Desktop/Ejercicio/churn.csv\")\n",
    "train = pd.read_csv(\"/home/oscar/Desktop/Ejercicio/churn_train.csv\")\n",
    "test = pd.read_csv(\"/home/oscar/Desktop/Ejercicio/churn_test.csv\")\n",
    "val = pd.read_csv(\"/home/oscar/Desktop/Ejercicio/churn_val.csv\")"
   ]
  },
  {
   "cell_type": "code",
   "execution_count": 73,
   "metadata": {
    "collapsed": true
   },
   "outputs": [],
   "source": [
    "train[\"fecha\"] = train.index.map(lambda x:datetime.now() - timedelta(x))\n",
    "train[\"churn\"] = train[\"churn\"].astype(str)\n",
    "test[\"churn\"] = test[\"churn\"].astype(str)\n",
    "val[\"churn\"] = val[\"churn\"].astype(str)\n",
    "train[\"area code\"] = train[\"area code\"].astype(str)\n",
    "test[\"area code\"] = test[\"area code\"].astype(str)\n",
    "val[\"area code\"] = val[\"area code\"].astype(str)"
   ]
  },
  {
   "cell_type": "code",
   "execution_count": 20,
   "metadata": {
    "collapsed": true
   },
   "outputs": [],
   "source": [
    "path_to_save = \"/home/oscar/Desktop/Equipo Oscar\""
   ]
  },
  {
   "cell_type": "code",
   "execution_count": 27,
   "metadata": {
    "collapsed": true
   },
   "outputs": [],
   "source": [
    "ls_cont = [\"account length\", \"number vmail messages\", \"total day minutes\", \"total day calls\", \"total day charge\",\n",
    "           \"total eve minutes\", \"total eve calls\", \"total eve charge\", \"total night minutes\", \"total night calls\",\n",
    "           \"total night charge\", \"total intl minutes\", \"total intl calls\", \"total intl charge\", \n",
    "           \"customer service calls\"]\n",
    "ls_disc = [\"state\", \"area code\", \"international plan\", \"voice mail plan\", \"churn\"]"
   ]
  },
  {
   "cell_type": "code",
   "execution_count": 81,
   "metadata": {
    "collapsed": true
   },
   "outputs": [],
   "source": [
    "cst = pd.DataFrame(columns=[\"p-value\", \"¿Son iguales?\", \"sets\"])\n",
    "for x in ls_cont:\n",
    "    cst.loc[x, \"p-value\"] = ks_2samp(train[x], test[x]).pvalue\n",
    "cst[\"¿Son iguales?\"] = cst[\"p-value\"].map(lambda x: \"No\" if x<0.05 else \"Si\")\n",
    "cst[\"sets\"] = \"train/test\""
   ]
  },
  {
   "cell_type": "code",
   "execution_count": 82,
   "metadata": {
    "collapsed": true
   },
   "outputs": [],
   "source": [
    "csv = pd.DataFrame(columns=[\"p-value\", \"¿Son iguales?\", \"sets\"])\n",
    "for x in ls_cont:\n",
    "    csv.loc[x, \"p-value\"] = ks_2samp(train[x], val[x]).pvalue\n",
    "csv[\"¿Son iguales?\"] = csv[\"p-value\"].map(lambda x: \"No\" if x<0.05 else \"Si\")\n",
    "csv[\"sets\"] = \"train/val\""
   ]
  },
  {
   "cell_type": "code",
   "execution_count": 83,
   "metadata": {
    "collapsed": true
   },
   "outputs": [],
   "source": [
    "cs.append(csv).to_excel(os.path.join(path_to_save, \"pruebas.xlsx\"))"
   ]
  },
  {
   "cell_type": "code",
   "execution_count": 78,
   "metadata": {
    "collapsed": true
   },
   "outputs": [],
   "source": [
    "dst = pd.DataFrame(columns=[\"p-value\", \"¿Son iguales?\", \"sets\"])\n",
    "for x in ls_disc:\n",
    "    dst.loc[x, \"p-value\"] = chisquare(f_obs=test[x].value_counts(True).sort_index().values, f_exp=train[x].value_counts(True).sort_index().values).pvalue\n",
    "dst[\"¿Son iguales?\"] = dst[\"p-value\"].map(lambda x: \"Si\" if 1-x<0.05 else \"No\")\n",
    "dst[\"sets\"] = \"train/test\""
   ]
  },
  {
   "cell_type": "code",
   "execution_count": 79,
   "metadata": {
    "collapsed": true
   },
   "outputs": [],
   "source": [
    "dsv = pd.DataFrame(columns=[\"p-value\", \"¿Son iguales?\", \"sets\"])\n",
    "for x in ls_disc:\n",
    "    dsv.loc[x, \"p-value\"] = chisquare(f_obs=val[x].value_counts(True).sort_index().values, f_exp=train[x].value_counts(True).sort_index().values).pvalue\n",
    "dsv[\"¿Son iguales?\"] = dsv[\"p-value\"].map(lambda x: \"Si\" if 1-x<0.05 else \"No\")\n",
    "dsv[\"sets\"] = \"train/val\""
   ]
  },
  {
   "cell_type": "code",
   "execution_count": 80,
   "metadata": {
    "collapsed": true
   },
   "outputs": [],
   "source": [
    "dst.append(dsv).to_excel(os.path.join(path_to_save, \"pruebas_disc.xlsx\"))"
   ]
  },
  {
   "cell_type": "code",
   "execution_count": 75,
   "metadata": {
    "collapsed": true
   },
   "outputs": [],
   "source": [
    "for feat in ls_cont:\n",
    "    plot_histogram(train[feat]).render_to_png(os.path.join(path_to_save, f\"continuas/{feat}_train.png\"))\n",
    "    plot_histogram(test[feat]).render_to_png(os.path.join(path_to_save, f\"continuas/{feat}_test.png\"))\n",
    "    plot_histogram(val[feat]).render_to_png(os.path.join(path_to_save, f\"continuas/{feat}_val.png\"))\n",
    "    plot_spc(cont_col=feat, date_col=\"fecha\", df=train, freq=\"month\", n_sigmas=3).render_to_png(os.path.join(path_to_save, f\"continuas/{feat}_spc_test.png\"))"
   ]
  },
  {
   "cell_type": "code",
   "execution_count": 76,
   "metadata": {
    "collapsed": true
   },
   "outputs": [],
   "source": [
    "for feat in ls_disc:\n",
    "    plot_barstack(train[feat]).render_to_png(os.path.join(path_to_save, f\"discretas/{feat}_train.png\"))\n",
    "    plot_barstack(test[feat]).render_to_png(os.path.join(path_to_save, f\"discretas/{feat}_test.png\"))\n",
    "    plot_barstack(val[feat]).render_to_png(os.path.join(path_to_save, f\"discretas/{feat}_val.png\"))"
   ]
  },
  {
   "cell_type": "code",
   "execution_count": null,
   "metadata": {
    "collapsed": true
   },
   "outputs": [],
   "source": []
  }
 ],
 "metadata": {
  "kernelspec": {
   "display_name": "Python3",
   "language": "python",
   "name": "python3"
  },
  "language_info": {
   "codemirror_mode": {
    "name": "ipython",
    "version": 3
   },
   "file_extension": ".py",
   "mimetype": "text/x-python",
   "name": "python",
   "nbconvert_exporter": "python",
   "pygments_lexer": "ipython3",
   "version": "3.6.8"
  }
 },
 "nbformat": 4,
 "nbformat_minor": 2
}
