{
 "cells": [
  {
   "cell_type": "code",
   "execution_count": 45,
   "metadata": {},
   "outputs": [],
   "source": [
    "import numpy as np\n",
    "import pandas as pd\n",
    "from sklearn.preprocessing import PolynomialFeatures"
   ]
  },
  {
   "cell_type": "code",
   "execution_count": 2,
   "metadata": {},
   "outputs": [],
   "source": [
    "df = pd.read_csv(\"/home/oscar/Documents/Diplomado Ciencia de Datos/Módulo 1/Examen 1/FB_data_train.csv\")"
   ]
  },
  {
   "cell_type": "code",
   "execution_count": 33,
   "metadata": {
    "scrolled": true
   },
   "outputs": [],
   "source": [
    "df[\"Rango\"] = df[\"Máximo\"] - df[\"Mínimo\"]\n",
    "df[\"Intervalo\"] = df[\"Cierre\"] - df[\"Apertura\"]\n",
    "df[\"RatioCA\"] = df[\"Cierre\"] / df[\"Apertura\"]\n",
    "df[\"RatioMM\"] = df[\"Mínimo\"] / df[\"Máximo\"]"
   ]
  },
  {
   "cell_type": "code",
   "execution_count": 30,
   "metadata": {},
   "outputs": [
    {
     "data": {
      "text/plain": [
       "count                      1414\n",
       "mean     1 days 13:04:09.504950\n",
       "std      1 days 12:55:29.324150\n",
       "min             1 days 00:00:00\n",
       "25%             1 days 00:00:00\n",
       "50%             1 days 00:00:00\n",
       "75%             2 days 00:00:00\n",
       "max            27 days 00:00:00\n",
       "Name: Fecha, dtype: object"
      ]
     },
     "execution_count": 30,
     "metadata": {},
     "output_type": "execute_result"
    }
   ],
   "source": [
    "pd.to_datetime(df[\"Fecha\"]).diff().describe()"
   ]
  },
  {
   "cell_type": "code",
   "execution_count": 31,
   "metadata": {},
   "outputs": [
    {
     "data": {
      "text/plain": [
       "Friday       0.185159\n",
       "Wednesday    0.182332\n",
       "Tuesday      0.180919\n",
       "Thursday     0.176678\n",
       "Monday       0.168905\n",
       "Sunday       0.055124\n",
       "Saturday     0.050883\n",
       "Name: Weekday, dtype: float64"
      ]
     },
     "execution_count": 31,
     "metadata": {},
     "output_type": "execute_result"
    }
   ],
   "source": [
    "df[\"Weekday\"].value_counts(True)"
   ]
  },
  {
   "cell_type": "markdown",
   "metadata": {},
   "source": [
    "### Versión rústica"
   ]
  },
  {
   "cell_type": "code",
   "execution_count": 34,
   "metadata": {},
   "outputs": [
    {
     "name": "stdout",
     "output_type": "stream",
     "text": [
      "CPU times: user 2.49 s, sys: 297 ms, total: 2.78 s\n",
      "Wall time: 2.78 s\n"
     ]
    }
   ],
   "source": [
    "%%time\n",
    "for i in range(91):\n",
    "    df[f\"Cierre_diff_{i+1}\"] = df[\"Cierre\"].diff(i+1)\n",
    "    df[f\"Cierre_ma_{i+2}\"] = df[\"Cierre\"].rolling(i+2).mean()\n",
    "    df[f\"Cierre_t-{i}\"] = df[\"Cierre\"].shift(i)\n",
    "    df[f\"Cierre_pct_{i}\"] = df[\"Cierre\"].pct_change(i+1)\n",
    "    df[f\"Apertura_diff_{i+1}\"] = df[\"Apertura\"].diff(i+1)\n",
    "    df[f\"Apertura_ma_{i+2}\"] = df[\"Apertura\"].rolling(i+2).mean()\n",
    "    df[f\"Apertura_t-{i}\"] = df[\"Apertura\"].shift(i)\n",
    "    df[f\"Apertura_pct_{i}\"] = df[\"Apertura\"].pct_change(i+1)\n",
    "    df[f\"Máximo_diff_{i+1}\"] = df[\"Máximo\"].diff(i+1)\n",
    "    df[f\"Máximo_ma_{i+2}\"] = df[\"Máximo\"].rolling(i+2).mean()\n",
    "    df[f\"Máximo_t-{i}\"] = df[\"Máximo\"].shift(i)\n",
    "    df[f\"Máximo_pct_{i}\"] = df[\"Máximo\"].pct_change(i+1)\n",
    "    df[f\"Mínimo_diff_{i+1}\"] = df[\"Mínimo\"].diff(i+1)\n",
    "    df[f\"Mínimo_ma_{i+2}\"] = df[\"Mínimo\"].rolling(i+2).mean()\n",
    "    df[f\"Mínimo_t-{i}\"] = df[\"Mínimo\"].shift(i)\n",
    "    df[f\"Mínimo_pct_{i}\"] = df[\"Mínimo\"].pct_change(i+1)\n",
    "    df[f\"Rango_diff_{i+1}\"] = df[\"Rango\"].diff(i+1)\n",
    "    df[f\"Rango_ma_{i+2}\"] = df[\"Rango\"].rolling(i+2).mean()\n",
    "    df[f\"Rango_t-{i}\"] = df[\"Rango\"].shift(i)\n",
    "    df[f\"Rango_pct_{i}\"] = df[\"Rango\"].pct_change(i+1)\n",
    "    df[f\"Intervalo_diff_{i+1}\"] = df[\"Intervalo\"].diff(i+1)\n",
    "    df[f\"Intervalo_ma_{i+2}\"] = df[\"Intervalo\"].rolling(i+2).mean()\n",
    "    df[f\"Intervalo_t-{i}\"] = df[\"Intervalo\"].shift(i)\n",
    "    df[f\"Intervalo_pct_{i}\"] = df[\"Intervalo\"].pct_change(i+1)\n",
    "    df[f\"RatioCA_diff_{i+1}\"] = df[\"RatioCA\"].diff(i+1)\n",
    "    df[f\"RatioCA_ma_{i+2}\"] = df[\"RatioCA\"].rolling(i+2).mean()\n",
    "    df[f\"RatioCA_t-{i}\"] = df[\"RatioCA\"].shift(i)\n",
    "    df[f\"RatioCA_pct_{i}\"] = df[\"RatioCA\"].pct_change(i+1)\n",
    "    df[f\"RatioMM_diff_{i+1}\"] = df[\"RatioMM\"].diff(i+1)\n",
    "    df[f\"RatioMM_ma_{i+2}\"] = df[\"RatioMM\"].rolling(i+2).mean()\n",
    "    df[f\"RatioMM_t-{i}\"] = df[\"RatioMM\"].shift(i)\n",
    "    df[f\"RatioMM_pct_{i}\"] = df[\"RatioMM\"].pct_change(i+1)"
   ]
  },
  {
   "cell_type": "markdown",
   "metadata": {},
   "source": [
    "### Versión optimizada"
   ]
  },
  {
   "cell_type": "code",
   "execution_count": 37,
   "metadata": {},
   "outputs": [
    {
     "name": "stdout",
     "output_type": "stream",
     "text": [
      "CPU times: user 1.06 s, sys: 6.99 ms, total: 1.07 s\n",
      "Wall time: 1.08 s\n"
     ]
    }
   ],
   "source": [
    "%%time\n",
    "for col in [\"Cierre\", \"Apertura\", \"Mínimo\", \"Máximo\", \"Rango\", \"Intervalo\", \"RatioCA\", \"RatioMM\"]:\n",
    "    for i in range(91):\n",
    "        df[f\"{col}_diff_{i+1}\"] = df[f\"{col}\"].diff(i+1)\n",
    "        df[f\"{col}_ma_{i+2}\"] = df[f\"{col}\"].rolling(i+2).mean()\n",
    "        df[f\"{col}_t-{i}\"] = df[f\"{col}\"].shift(i)\n",
    "        df[f\"{col}_pct_{i}\"] = df[f\"{col}\"].pct_change(i+1)"
   ]
  },
  {
   "cell_type": "code",
   "execution_count": 48,
   "metadata": {},
   "outputs": [],
   "source": [
    "df[\"Cierre\"].rolling(2).agg([\"min\", \"max\", \"median\", \"std\"])"
   ]
  },
  {
   "cell_type": "code",
   "execution_count": 42,
   "metadata": {},
   "outputs": [],
   "source": [
    "poly = PolynomialFeatures()"
   ]
  },
  {
   "cell_type": "code",
   "execution_count": 58,
   "metadata": {},
   "outputs": [],
   "source": [
    "df = df.replace([np.inf, -np.inf], np.nan)"
   ]
  },
  {
   "cell_type": "code",
   "execution_count": 59,
   "metadata": {},
   "outputs": [],
   "source": [
    "df = df.dropna().reset_index(drop = True)"
   ]
  },
  {
   "cell_type": "code",
   "execution_count": 60,
   "metadata": {},
   "outputs": [
    {
     "data": {
      "text/html": [
       "<div>\n",
       "<style scoped>\n",
       "    .dataframe tbody tr th:only-of-type {\n",
       "        vertical-align: middle;\n",
       "    }\n",
       "\n",
       "    .dataframe tbody tr th {\n",
       "        vertical-align: top;\n",
       "    }\n",
       "\n",
       "    .dataframe thead th {\n",
       "        text-align: right;\n",
       "    }\n",
       "</style>\n",
       "<table border=\"1\" class=\"dataframe\">\n",
       "  <thead>\n",
       "    <tr style=\"text-align: right;\">\n",
       "      <th></th>\n",
       "      <th>Cierre</th>\n",
       "      <th>Apertura</th>\n",
       "      <th>Máximo</th>\n",
       "      <th>Mínimo</th>\n",
       "      <th>Quarter</th>\n",
       "      <th>Cierre_diff_1</th>\n",
       "      <th>Cierre_diff_2</th>\n",
       "      <th>Cierre_diff_3</th>\n",
       "      <th>Cierre_diff_4</th>\n",
       "      <th>Cierre_diff_5</th>\n",
       "      <th>...</th>\n",
       "      <th>Intervalo_t-90</th>\n",
       "      <th>Intervalo_pct_90</th>\n",
       "      <th>RatioCA_diff_91</th>\n",
       "      <th>RatioCA_ma_92</th>\n",
       "      <th>RatioCA_t-90</th>\n",
       "      <th>RatioCA_pct_90</th>\n",
       "      <th>RatioMM_diff_91</th>\n",
       "      <th>RatioMM_ma_92</th>\n",
       "      <th>RatioMM_t-90</th>\n",
       "      <th>RatioMM_pct_90</th>\n",
       "    </tr>\n",
       "  </thead>\n",
       "  <tbody>\n",
       "    <tr>\n",
       "      <th>count</th>\n",
       "      <td>938.000000</td>\n",
       "      <td>938.000000</td>\n",
       "      <td>938.000000</td>\n",
       "      <td>938.000000</td>\n",
       "      <td>938.000000</td>\n",
       "      <td>938.000000</td>\n",
       "      <td>938.000000</td>\n",
       "      <td>938.000000</td>\n",
       "      <td>938.000000</td>\n",
       "      <td>938.000000</td>\n",
       "      <td>...</td>\n",
       "      <td>938.000000</td>\n",
       "      <td>938.000000</td>\n",
       "      <td>938.000000</td>\n",
       "      <td>938.000000</td>\n",
       "      <td>938.000000</td>\n",
       "      <td>938.000000</td>\n",
       "      <td>938.000000</td>\n",
       "      <td>938.000000</td>\n",
       "      <td>938.000000</td>\n",
       "      <td>938.000000</td>\n",
       "    </tr>\n",
       "    <tr>\n",
       "      <th>mean</th>\n",
       "      <td>102.198497</td>\n",
       "      <td>102.165171</td>\n",
       "      <td>103.084701</td>\n",
       "      <td>101.194254</td>\n",
       "      <td>2.578891</td>\n",
       "      <td>0.113817</td>\n",
       "      <td>0.248646</td>\n",
       "      <td>0.368539</td>\n",
       "      <td>0.452271</td>\n",
       "      <td>0.538838</td>\n",
       "      <td>...</td>\n",
       "      <td>0.048667</td>\n",
       "      <td>-1.674885</td>\n",
       "      <td>-0.000054</td>\n",
       "      <td>1.000480</td>\n",
       "      <td>1.000679</td>\n",
       "      <td>0.000192</td>\n",
       "      <td>0.001704</td>\n",
       "      <td>0.978903</td>\n",
       "      <td>0.977698</td>\n",
       "      <td>0.001880</td>\n",
       "    </tr>\n",
       "    <tr>\n",
       "      <th>std</th>\n",
       "      <td>44.131152</td>\n",
       "      <td>44.133891</td>\n",
       "      <td>44.294416</td>\n",
       "      <td>43.902146</td>\n",
       "      <td>1.046752</td>\n",
       "      <td>7.926457</td>\n",
       "      <td>10.649910</td>\n",
       "      <td>12.725757</td>\n",
       "      <td>14.087992</td>\n",
       "      <td>14.875263</td>\n",
       "      <td>...</td>\n",
       "      <td>1.226781</td>\n",
       "      <td>14.288743</td>\n",
       "      <td>0.021220</td>\n",
       "      <td>0.001276</td>\n",
       "      <td>0.015703</td>\n",
       "      <td>0.021137</td>\n",
       "      <td>0.015952</td>\n",
       "      <td>0.005503</td>\n",
       "      <td>0.012569</td>\n",
       "      <td>0.016554</td>\n",
       "    </tr>\n",
       "    <tr>\n",
       "      <th>min</th>\n",
       "      <td>22.900000</td>\n",
       "      <td>22.990000</td>\n",
       "      <td>23.090000</td>\n",
       "      <td>22.670000</td>\n",
       "      <td>1.000000</td>\n",
       "      <td>-53.970000</td>\n",
       "      <td>-54.320000</td>\n",
       "      <td>-55.800000</td>\n",
       "      <td>-56.410000</td>\n",
       "      <td>-56.160000</td>\n",
       "      <td>...</td>\n",
       "      <td>-5.440000</td>\n",
       "      <td>-233.000000</td>\n",
       "      <td>-0.113879</td>\n",
       "      <td>0.996794</td>\n",
       "      <td>0.937857</td>\n",
       "      <td>-0.102369</td>\n",
       "      <td>-0.158807</td>\n",
       "      <td>0.965183</td>\n",
       "      <td>0.885778</td>\n",
       "      <td>-0.161215</td>\n",
       "    </tr>\n",
       "    <tr>\n",
       "      <th>25%</th>\n",
       "      <td>75.630000</td>\n",
       "      <td>75.470000</td>\n",
       "      <td>76.365000</td>\n",
       "      <td>74.612500</td>\n",
       "      <td>2.000000</td>\n",
       "      <td>-0.965000</td>\n",
       "      <td>-1.502500</td>\n",
       "      <td>-2.667500</td>\n",
       "      <td>-4.012500</td>\n",
       "      <td>-4.640000</td>\n",
       "      <td>...</td>\n",
       "      <td>-0.607500</td>\n",
       "      <td>-2.036783</td>\n",
       "      <td>-0.012086</td>\n",
       "      <td>0.999572</td>\n",
       "      <td>0.992303</td>\n",
       "      <td>-0.012054</td>\n",
       "      <td>-0.006167</td>\n",
       "      <td>0.976373</td>\n",
       "      <td>0.972327</td>\n",
       "      <td>-0.006252</td>\n",
       "    </tr>\n",
       "    <tr>\n",
       "      <th>50%</th>\n",
       "      <td>106.490000</td>\n",
       "      <td>106.775000</td>\n",
       "      <td>107.825000</td>\n",
       "      <td>104.765000</td>\n",
       "      <td>3.000000</td>\n",
       "      <td>0.265000</td>\n",
       "      <td>0.495000</td>\n",
       "      <td>0.630000</td>\n",
       "      <td>0.525000</td>\n",
       "      <td>0.395000</td>\n",
       "      <td>...</td>\n",
       "      <td>0.060000</td>\n",
       "      <td>-0.978848</td>\n",
       "      <td>0.000140</td>\n",
       "      <td>1.000161</td>\n",
       "      <td>1.000891</td>\n",
       "      <td>0.000143</td>\n",
       "      <td>0.001290</td>\n",
       "      <td>0.979052</td>\n",
       "      <td>0.980476</td>\n",
       "      <td>0.001313</td>\n",
       "    </tr>\n",
       "    <tr>\n",
       "      <th>75%</th>\n",
       "      <td>131.432500</td>\n",
       "      <td>131.637500</td>\n",
       "      <td>132.702500</td>\n",
       "      <td>130.610000</td>\n",
       "      <td>3.000000</td>\n",
       "      <td>2.155000</td>\n",
       "      <td>3.987500</td>\n",
       "      <td>4.760000</td>\n",
       "      <td>4.972500</td>\n",
       "      <td>5.205000</td>\n",
       "      <td>...</td>\n",
       "      <td>0.770000</td>\n",
       "      <td>-0.003521</td>\n",
       "      <td>0.012543</td>\n",
       "      <td>1.001476</td>\n",
       "      <td>1.008679</td>\n",
       "      <td>0.012610</td>\n",
       "      <td>0.009223</td>\n",
       "      <td>0.983294</td>\n",
       "      <td>0.986608</td>\n",
       "      <td>0.009385</td>\n",
       "    </tr>\n",
       "    <tr>\n",
       "      <th>max</th>\n",
       "      <td>183.030000</td>\n",
       "      <td>183.510000</td>\n",
       "      <td>184.250000</td>\n",
       "      <td>182.090000</td>\n",
       "      <td>4.000000</td>\n",
       "      <td>23.270000</td>\n",
       "      <td>32.160000</td>\n",
       "      <td>50.930000</td>\n",
       "      <td>49.730000</td>\n",
       "      <td>54.810000</td>\n",
       "      <td>...</td>\n",
       "      <td>4.340000</td>\n",
       "      <td>144.000000</td>\n",
       "      <td>0.089545</td>\n",
       "      <td>1.003699</td>\n",
       "      <td>1.112438</td>\n",
       "      <td>0.093561</td>\n",
       "      <td>0.092127</td>\n",
       "      <td>0.986865</td>\n",
       "      <td>0.999815</td>\n",
       "      <td>0.104007</td>\n",
       "    </tr>\n",
       "  </tbody>\n",
       "</table>\n",
       "<p>8 rows × 2921 columns</p>\n",
       "</div>"
      ],
      "text/plain": [
       "           Cierre    Apertura      Máximo      Mínimo     Quarter  \\\n",
       "count  938.000000  938.000000  938.000000  938.000000  938.000000   \n",
       "mean   102.198497  102.165171  103.084701  101.194254    2.578891   \n",
       "std     44.131152   44.133891   44.294416   43.902146    1.046752   \n",
       "min     22.900000   22.990000   23.090000   22.670000    1.000000   \n",
       "25%     75.630000   75.470000   76.365000   74.612500    2.000000   \n",
       "50%    106.490000  106.775000  107.825000  104.765000    3.000000   \n",
       "75%    131.432500  131.637500  132.702500  130.610000    3.000000   \n",
       "max    183.030000  183.510000  184.250000  182.090000    4.000000   \n",
       "\n",
       "       Cierre_diff_1  Cierre_diff_2  Cierre_diff_3  Cierre_diff_4  \\\n",
       "count     938.000000     938.000000     938.000000     938.000000   \n",
       "mean        0.113817       0.248646       0.368539       0.452271   \n",
       "std         7.926457      10.649910      12.725757      14.087992   \n",
       "min       -53.970000     -54.320000     -55.800000     -56.410000   \n",
       "25%        -0.965000      -1.502500      -2.667500      -4.012500   \n",
       "50%         0.265000       0.495000       0.630000       0.525000   \n",
       "75%         2.155000       3.987500       4.760000       4.972500   \n",
       "max        23.270000      32.160000      50.930000      49.730000   \n",
       "\n",
       "       Cierre_diff_5       ...        Intervalo_t-90  Intervalo_pct_90  \\\n",
       "count     938.000000       ...            938.000000        938.000000   \n",
       "mean        0.538838       ...              0.048667         -1.674885   \n",
       "std        14.875263       ...              1.226781         14.288743   \n",
       "min       -56.160000       ...             -5.440000       -233.000000   \n",
       "25%        -4.640000       ...             -0.607500         -2.036783   \n",
       "50%         0.395000       ...              0.060000         -0.978848   \n",
       "75%         5.205000       ...              0.770000         -0.003521   \n",
       "max        54.810000       ...              4.340000        144.000000   \n",
       "\n",
       "       RatioCA_diff_91  RatioCA_ma_92  RatioCA_t-90  RatioCA_pct_90  \\\n",
       "count       938.000000     938.000000    938.000000      938.000000   \n",
       "mean         -0.000054       1.000480      1.000679        0.000192   \n",
       "std           0.021220       0.001276      0.015703        0.021137   \n",
       "min          -0.113879       0.996794      0.937857       -0.102369   \n",
       "25%          -0.012086       0.999572      0.992303       -0.012054   \n",
       "50%           0.000140       1.000161      1.000891        0.000143   \n",
       "75%           0.012543       1.001476      1.008679        0.012610   \n",
       "max           0.089545       1.003699      1.112438        0.093561   \n",
       "\n",
       "       RatioMM_diff_91  RatioMM_ma_92  RatioMM_t-90  RatioMM_pct_90  \n",
       "count       938.000000     938.000000    938.000000      938.000000  \n",
       "mean          0.001704       0.978903      0.977698        0.001880  \n",
       "std           0.015952       0.005503      0.012569        0.016554  \n",
       "min          -0.158807       0.965183      0.885778       -0.161215  \n",
       "25%          -0.006167       0.976373      0.972327       -0.006252  \n",
       "50%           0.001290       0.979052      0.980476        0.001313  \n",
       "75%           0.009223       0.983294      0.986608        0.009385  \n",
       "max           0.092127       0.986865      0.999815        0.104007  \n",
       "\n",
       "[8 rows x 2921 columns]"
      ]
     },
     "execution_count": 60,
     "metadata": {},
     "output_type": "execute_result"
    }
   ],
   "source": [
    "df.describe()"
   ]
  },
  {
   "cell_type": "code",
   "execution_count": 63,
   "metadata": {
    "scrolled": true
   },
   "outputs": [],
   "source": [
    "df_pol = poly.fit_transform(df[[\"Cierre\", \"Apertura\", \"Mínimo\", \"Máximo\", \"Rango\", \"Intervalo\", \"RatioCA\", \"RatioMM\"]])"
   ]
  },
  {
   "cell_type": "code",
   "execution_count": 69,
   "metadata": {
    "scrolled": true
   },
   "outputs": [],
   "source": [
    "df_pol = pd.DataFrame(columns=poly.get_feature_names(), data=df_pol)"
   ]
  },
  {
   "cell_type": "code",
   "execution_count": null,
   "metadata": {},
   "outputs": [],
   "source": []
  }
 ],
 "metadata": {
  "kernelspec": {
   "display_name": "Python3",
   "language": "python",
   "name": "python3"
  },
  "language_info": {
   "codemirror_mode": {
    "name": "ipython",
    "version": 3
   },
   "file_extension": ".py",
   "mimetype": "text/x-python",
   "name": "python",
   "nbconvert_exporter": "python",
   "pygments_lexer": "ipython3",
   "version": "3.6.8"
  }
 },
 "nbformat": 4,
 "nbformat_minor": 2
}
