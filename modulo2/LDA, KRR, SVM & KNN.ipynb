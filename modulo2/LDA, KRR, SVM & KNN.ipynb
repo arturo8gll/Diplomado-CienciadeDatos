{
 "cells": [
  {
   "cell_type": "code",
   "execution_count": 2,
   "metadata": {},
   "outputs": [],
   "source": [
    "import numpy as np\n",
    "import pandas as pd\n",
    "from sklearn.svm import SVC, SVR\n",
    "from sklearn.kernel_ridge import KernelRidge\n",
    "from sklearn.discriminant_analysis import LinearDiscriminantAnalysis\n",
    "from sklearn.model_selection import cross_val_score, GridSearchCV, RandomizedSearchCV\n",
    "from sklearn.neighbors import KNeighborsClassifier, KNeighborsRegressor, DistanceMetric"
   ]
  },
  {
   "cell_type": "code",
   "execution_count": 3,
   "metadata": {},
   "outputs": [],
   "source": [
    "df = pd.read_csv(\"/home/oscar/Downloads/OnlineNewsPopularity.csv\").sample(frac = 0.1).reset_index(drop = True)"
   ]
  },
  {
   "cell_type": "code",
   "execution_count": 4,
   "metadata": {},
   "outputs": [],
   "source": [
    "df.columns = [x.strip() for x in df.columns]"
   ]
  },
  {
   "cell_type": "code",
   "execution_count": 5,
   "metadata": {},
   "outputs": [],
   "source": [
    "df[\"success\"] = (df[\"shares\"] > df[\"shares\"].quantile(.9))*1"
   ]
  },
  {
   "cell_type": "code",
   "execution_count": 10,
   "metadata": {},
   "outputs": [],
   "source": [
    "ls_cont = ['n_tokens_title', 'n_tokens_content', 'n_unique_tokens', 'n_non_stop_words', \n",
    "           'n_non_stop_unique_tokens', 'num_hrefs', 'num_self_hrefs', 'num_imgs', 'num_videos', \n",
    "           'average_token_length', 'num_keywords', 'kw_min_min', 'kw_max_min', 'kw_avg_min', \n",
    "           'kw_min_max', 'kw_max_max', 'kw_avg_max', 'kw_min_avg', 'kw_max_avg', 'kw_avg_avg', \n",
    "           'self_reference_min_shares', 'self_reference_max_shares', 'self_reference_avg_sharess', \n",
    "           'LDA_00', 'LDA_01', 'LDA_02', 'LDA_03', 'LDA_04', 'global_subjectivity', \n",
    "           'global_sentiment_polarity', 'global_rate_positive_words', 'global_rate_negative_words',\n",
    "           'rate_positive_words', 'rate_negative_words', 'avg_positive_polarity', 'min_positive_polarity',\n",
    "           'max_positive_polarity', 'avg_negative_polarity', 'min_negative_polarity', \n",
    "           'max_negative_polarity', 'title_subjectivity', 'title_sentiment_polarity', \n",
    "           'abs_title_subjectivity', 'abs_title_sentiment_polarity']\n",
    "target = \"shares\"\n",
    "target_disc = \"success\""
   ]
  },
  {
   "cell_type": "code",
   "execution_count": 11,
   "metadata": {},
   "outputs": [],
   "source": [
    "X = df[ls_cont]\n",
    "yr = df[target]\n",
    "yc = df[target_disc]"
   ]
  },
  {
   "cell_type": "markdown",
   "metadata": {},
   "source": [
    "## Análisis Discriminante "
   ]
  },
  {
   "cell_type": "code",
   "execution_count": 12,
   "metadata": {},
   "outputs": [],
   "source": [
    "lda = LinearDiscriminantAnalysis()"
   ]
  },
  {
   "cell_type": "code",
   "execution_count": 13,
   "metadata": {},
   "outputs": [
    {
     "name": "stderr",
     "output_type": "stream",
     "text": [
      "/home/oscar/VirtualEnvs/Python3/lib/python3.6/site-packages/sklearn/discriminant_analysis.py:388: UserWarning: Variables are collinear.\n",
      "  warnings.warn(\"Variables are collinear.\")\n"
     ]
    },
    {
     "data": {
      "text/plain": [
       "LinearDiscriminantAnalysis(n_components=None, priors=None, shrinkage=None,\n",
       "              solver='svd', store_covariance=False, tol=0.0001)"
      ]
     },
     "execution_count": 13,
     "metadata": {},
     "output_type": "execute_result"
    }
   ],
   "source": [
    "lda.fit(X, yc)"
   ]
  },
  {
   "cell_type": "code",
   "execution_count": 14,
   "metadata": {},
   "outputs": [],
   "source": [
    "ls_res = cross_val_score(estimator = lda, X=X, y=yc, cv=4, n_jobs=-1, scoring=\"roc_auc\")"
   ]
  },
  {
   "cell_type": "code",
   "execution_count": 15,
   "metadata": {},
   "outputs": [
    {
     "data": {
      "text/plain": [
       "(0.6593938261539158, 0.018113985763204887)"
      ]
     },
     "execution_count": 15,
     "metadata": {},
     "output_type": "execute_result"
    }
   ],
   "source": [
    "np.mean(ls_res), np.std(ls_res)"
   ]
  },
  {
   "cell_type": "code",
   "execution_count": 20,
   "metadata": {},
   "outputs": [],
   "source": [
    "LinearDiscriminantAnalysis?"
   ]
  },
  {
   "cell_type": "code",
   "execution_count": 16,
   "metadata": {},
   "outputs": [
    {
     "data": {
      "text/plain": [
       "{'n_components': None,\n",
       " 'priors': None,\n",
       " 'shrinkage': None,\n",
       " 'solver': 'svd',\n",
       " 'store_covariance': False,\n",
       " 'tol': 0.0001}"
      ]
     },
     "execution_count": 16,
     "metadata": {},
     "output_type": "execute_result"
    }
   ],
   "source": [
    "lda.get_params()"
   ]
  },
  {
   "cell_type": "code",
   "execution_count": 18,
   "metadata": {},
   "outputs": [],
   "source": [
    "param_grid = {\"solver\": [\"svd\", \"lsqr\", \"eigen\"],\n",
    "              \"shrinkage\": [None, \"auto\"] + [x/10 for x in range(10)]}"
   ]
  },
  {
   "cell_type": "code",
   "execution_count": 19,
   "metadata": {},
   "outputs": [
    {
     "data": {
      "text/plain": [
       "{'solver': ['svd', 'lsqr', 'eigen'],\n",
       " 'shrinkage': [None, 'auto', 0.0, 0.1, 0.2, 0.3, 0.4, 0.5, 0.6, 0.7, 0.8, 0.9]}"
      ]
     },
     "execution_count": 19,
     "metadata": {},
     "output_type": "execute_result"
    }
   ],
   "source": [
    "param_grid"
   ]
  },
  {
   "cell_type": "code",
   "execution_count": 22,
   "metadata": {},
   "outputs": [],
   "source": [
    "rs = GridSearchCV(cv=4, error_score=-1000, estimator=lda, n_jobs=-1, scoring=\"roc_auc\", param_grid=param_grid, verbose=True)"
   ]
  },
  {
   "cell_type": "code",
   "execution_count": 23,
   "metadata": {},
   "outputs": [
    {
     "name": "stdout",
     "output_type": "stream",
     "text": [
      "Fitting 4 folds for each of 36 candidates, totalling 144 fits\n"
     ]
    },
    {
     "name": "stderr",
     "output_type": "stream",
     "text": [
      "[Parallel(n_jobs=-1)]: Using backend LokyBackend with 4 concurrent workers.\n",
      "[Parallel(n_jobs=-1)]: Done  42 tasks      | elapsed:    2.6s\n"
     ]
    },
    {
     "name": "stdout",
     "output_type": "stream",
     "text": [
      "CPU times: user 258 ms, sys: 54.3 ms, total: 313 ms\n",
      "Wall time: 5.8 s\n"
     ]
    },
    {
     "name": "stderr",
     "output_type": "stream",
     "text": [
      "[Parallel(n_jobs=-1)]: Done 144 out of 144 | elapsed:    5.7s finished\n"
     ]
    },
    {
     "data": {
      "text/plain": [
       "GridSearchCV(cv=4, error_score=-1000,\n",
       "       estimator=LinearDiscriminantAnalysis(n_components=None, priors=None, shrinkage=None,\n",
       "              solver='svd', store_covariance=False, tol=0.0001),\n",
       "       fit_params=None, iid='warn', n_jobs=-1,\n",
       "       param_grid={'solver': ['svd', 'lsqr', 'eigen'], 'shrinkage': [None, 'auto', 0.0, 0.1, 0.2, 0.3, 0.4, 0.5, 0.6, 0.7, 0.8, 0.9]},\n",
       "       pre_dispatch='2*n_jobs', refit=True, return_train_score='warn',\n",
       "       scoring='roc_auc', verbose=True)"
      ]
     },
     "execution_count": 23,
     "metadata": {},
     "output_type": "execute_result"
    }
   ],
   "source": [
    "%%time\n",
    "rs.fit(X=X, y=yc)"
   ]
  },
  {
   "cell_type": "code",
   "execution_count": 24,
   "metadata": {},
   "outputs": [
    {
     "data": {
      "text/plain": [
       "0.6602516193323368"
      ]
     },
     "execution_count": 24,
     "metadata": {},
     "output_type": "execute_result"
    }
   ],
   "source": [
    "rs.best_score_"
   ]
  },
  {
   "cell_type": "markdown",
   "metadata": {},
   "source": [
    "## Regresión Cresta Kernel"
   ]
  },
  {
   "cell_type": "code",
   "execution_count": 25,
   "metadata": {},
   "outputs": [],
   "source": [
    "krr = KernelRidge()"
   ]
  },
  {
   "cell_type": "code",
   "execution_count": 26,
   "metadata": {},
   "outputs": [
    {
     "name": "stdout",
     "output_type": "stream",
     "text": [
      "CPU times: user 5.59 s, sys: 1.06 s, total: 6.65 s\n",
      "Wall time: 2.47 s\n"
     ]
    },
    {
     "name": "stderr",
     "output_type": "stream",
     "text": [
      "/home/oscar/VirtualEnvs/Python3/lib/python3.6/site-packages/sklearn/linear_model/ridge.py:165: LinAlgWarning: scipy.linalg.solve\n",
      "Ill-conditioned matrix detected. Result is not guaranteed to be accurate.\n",
      "Reciprocal condition number4.111161e-17\n",
      "  overwrite_a=False)\n"
     ]
    },
    {
     "data": {
      "text/plain": [
       "KernelRidge(alpha=1, coef0=1, degree=3, gamma=None, kernel='linear',\n",
       "      kernel_params=None)"
      ]
     },
     "execution_count": 26,
     "metadata": {},
     "output_type": "execute_result"
    }
   ],
   "source": [
    "%%time\n",
    "krr.fit(X=X, y = yr)"
   ]
  },
  {
   "cell_type": "code",
   "execution_count": 27,
   "metadata": {},
   "outputs": [],
   "source": [
    "ls_res = cross_val_score(estimator = krr, X=X, y=yr, cv=4, n_jobs=-1, scoring=\"r2\")"
   ]
  },
  {
   "cell_type": "code",
   "execution_count": 28,
   "metadata": {},
   "outputs": [
    {
     "data": {
      "text/plain": [
       "(-0.19042384748129637, 0.19196780256081886)"
      ]
     },
     "execution_count": 28,
     "metadata": {},
     "output_type": "execute_result"
    }
   ],
   "source": [
    "np.mean(ls_res), np.std(ls_res)"
   ]
  },
  {
   "cell_type": "code",
   "execution_count": 48,
   "metadata": {},
   "outputs": [],
   "source": [
    "KernelRidge?"
   ]
  },
  {
   "cell_type": "code",
   "execution_count": 31,
   "metadata": {},
   "outputs": [],
   "source": [
    "param_grid = {\"alpha\": [x/10 for x in range(10)] + [x*10 for x in range(10)],\n",
    "              \"kernel\": [\"linear\", np.sin]}"
   ]
  },
  {
   "cell_type": "code",
   "execution_count": 32,
   "metadata": {},
   "outputs": [
    {
     "data": {
      "text/plain": [
       "{'alpha': [0.0,\n",
       "  0.1,\n",
       "  0.2,\n",
       "  0.3,\n",
       "  0.4,\n",
       "  0.5,\n",
       "  0.6,\n",
       "  0.7,\n",
       "  0.8,\n",
       "  0.9,\n",
       "  0,\n",
       "  10,\n",
       "  20,\n",
       "  30,\n",
       "  40,\n",
       "  50,\n",
       "  60,\n",
       "  70,\n",
       "  80,\n",
       "  90],\n",
       " 'kernel': ['linear', <ufunc 'sin'>]}"
      ]
     },
     "execution_count": 32,
     "metadata": {},
     "output_type": "execute_result"
    }
   ],
   "source": [
    "param_grid"
   ]
  },
  {
   "cell_type": "code",
   "execution_count": 34,
   "metadata": {},
   "outputs": [],
   "source": [
    "rs = GridSearchCV(cv=4, error_score=-1000, estimator=krr, n_jobs=-1, scoring=\"r2\", param_grid=param_grid, verbose=True)"
   ]
  },
  {
   "cell_type": "code",
   "execution_count": 35,
   "metadata": {},
   "outputs": [
    {
     "name": "stdout",
     "output_type": "stream",
     "text": [
      "Fitting 4 folds for each of 40 candidates, totalling 160 fits\n"
     ]
    },
    {
     "name": "stderr",
     "output_type": "stream",
     "text": [
      "[Parallel(n_jobs=-1)]: Using backend LokyBackend with 4 concurrent workers.\n",
      "[Parallel(n_jobs=-1)]: Done  42 tasks      | elapsed:  1.4min\n",
      "[Parallel(n_jobs=-1)]: Done 160 out of 160 | elapsed:  3.2min finished\n"
     ]
    },
    {
     "name": "stdout",
     "output_type": "stream",
     "text": [
      "CPU times: user 5.79 s, sys: 520 ms, total: 6.31 s\n",
      "Wall time: 3min 16s\n"
     ]
    },
    {
     "data": {
      "text/plain": [
       "GridSearchCV(cv=4, error_score=-1000,\n",
       "       estimator=KernelRidge(alpha=1, coef0=1, degree=3, gamma=None, kernel='linear',\n",
       "      kernel_params=None),\n",
       "       fit_params=None, iid='warn', n_jobs=-1,\n",
       "       param_grid={'alpha': [0.0, 0.1, 0.2, 0.3, 0.4, 0.5, 0.6, 0.7, 0.8, 0.9, 0, 10, 20, 30, 40, 50, 60, 70, 80, 90], 'kernel': ['linear', <ufunc 'sin'>]},\n",
       "       pre_dispatch='2*n_jobs', refit=True, return_train_score='warn',\n",
       "       scoring='r2', verbose=True)"
      ]
     },
     "execution_count": 35,
     "metadata": {},
     "output_type": "execute_result"
    }
   ],
   "source": [
    "%%time\n",
    "rs.fit(X, yr)"
   ]
  },
  {
   "cell_type": "code",
   "execution_count": 36,
   "metadata": {},
   "outputs": [
    {
     "data": {
      "text/plain": [
       "-0.181364895848203"
      ]
     },
     "execution_count": 36,
     "metadata": {},
     "output_type": "execute_result"
    }
   ],
   "source": [
    "rs.best_score_"
   ]
  },
  {
   "cell_type": "code",
   "execution_count": 39,
   "metadata": {},
   "outputs": [
    {
     "name": "stderr",
     "output_type": "stream",
     "text": [
      "/home/oscar/VirtualEnvs/Python3/lib/python3.6/site-packages/sklearn/utils/deprecation.py:125: FutureWarning: You are accessing a training score ('split0_train_score'), which will not be available by default any more in 0.21. If you need training scores, please set return_train_score=True\n",
      "  warnings.warn(*warn_args, **warn_kwargs)\n",
      "/home/oscar/VirtualEnvs/Python3/lib/python3.6/site-packages/sklearn/utils/deprecation.py:125: FutureWarning: You are accessing a training score ('split1_train_score'), which will not be available by default any more in 0.21. If you need training scores, please set return_train_score=True\n",
      "  warnings.warn(*warn_args, **warn_kwargs)\n",
      "/home/oscar/VirtualEnvs/Python3/lib/python3.6/site-packages/sklearn/utils/deprecation.py:125: FutureWarning: You are accessing a training score ('split2_train_score'), which will not be available by default any more in 0.21. If you need training scores, please set return_train_score=True\n",
      "  warnings.warn(*warn_args, **warn_kwargs)\n",
      "/home/oscar/VirtualEnvs/Python3/lib/python3.6/site-packages/sklearn/utils/deprecation.py:125: FutureWarning: You are accessing a training score ('split3_train_score'), which will not be available by default any more in 0.21. If you need training scores, please set return_train_score=True\n",
      "  warnings.warn(*warn_args, **warn_kwargs)\n",
      "/home/oscar/VirtualEnvs/Python3/lib/python3.6/site-packages/sklearn/utils/deprecation.py:125: FutureWarning: You are accessing a training score ('mean_train_score'), which will not be available by default any more in 0.21. If you need training scores, please set return_train_score=True\n",
      "  warnings.warn(*warn_args, **warn_kwargs)\n",
      "/home/oscar/VirtualEnvs/Python3/lib/python3.6/site-packages/sklearn/utils/deprecation.py:125: FutureWarning: You are accessing a training score ('std_train_score'), which will not be available by default any more in 0.21. If you need training scores, please set return_train_score=True\n",
      "  warnings.warn(*warn_args, **warn_kwargs)\n"
     ]
    },
    {
     "data": {
      "text/plain": [
       "{'mean_fit_time': array([6.46761880e+01, 4.23079729e-03, 3.13126093e+00, 7.84343481e-03,\n",
       "        2.92090482e+00, 9.88078117e-03, 3.07459784e+00, 6.85167313e-03,\n",
       "        2.88706124e+00, 1.33948326e-02, 2.94100690e+00, 6.05779886e-03,\n",
       "        2.94278944e+00, 8.53347778e-03, 2.93894809e+00, 6.64395094e-03,\n",
       "        3.42075068e+00, 1.40696764e-02, 4.24858004e+00, 1.01991296e-02,\n",
       "        6.53092871e+01, 2.24252939e-02, 3.12547243e+00, 2.68763304e-03,\n",
       "        2.92345989e+00, 1.00499988e-02, 3.18445009e+00, 7.70258904e-03,\n",
       "        3.00466913e+00, 6.56622648e-03, 2.92380363e+00, 9.64224339e-03,\n",
       "        2.86147428e+00, 1.58238411e-02, 3.04034972e+00, 5.40673733e-03,\n",
       "        3.09952956e+00, 6.85232878e-03, 2.74685270e+00, 1.54141784e-02]),\n",
       " 'std_fit_time': array([5.39287141e-01, 2.71369369e-03, 1.52286247e-01, 6.96274110e-03,\n",
       "        2.37340573e-01, 7.04333009e-03, 1.28884013e-01, 5.47111229e-03,\n",
       "        6.58061255e-02, 1.07670429e-02, 2.38208074e-01, 4.89664590e-03,\n",
       "        1.20427547e-01, 7.27055996e-03, 8.18700299e-02, 2.93483226e-03,\n",
       "        2.65532840e-01, 1.19215722e-02, 2.98208721e-01, 4.46863467e-03,\n",
       "        9.68470702e-01, 6.08537846e-03, 1.59803191e-01, 3.96665266e-04,\n",
       "        1.54948408e-01, 3.11450887e-03, 9.86014490e-02, 8.74676662e-03,\n",
       "        3.74246902e-02, 4.12466349e-03, 1.44078517e-01, 7.68208829e-03,\n",
       "        1.01583093e-01, 1.55575324e-02, 1.00789882e-01, 4.58293253e-03,\n",
       "        1.76279916e-01, 6.45782803e-03, 1.41876658e-01, 2.53818672e-03]),\n",
       " 'mean_score_time': array([0.07164568, 0.        , 0.05659378, 0.        , 0.04463065,\n",
       "        0.        , 0.06101584, 0.        , 0.04879731, 0.        ,\n",
       "        0.06179106, 0.        , 0.05264324, 0.        , 0.04569483,\n",
       "        0.        , 0.05517077, 0.        , 0.06756216, 0.        ,\n",
       "        0.0575524 , 0.        , 0.03653127, 0.        , 0.05087566,\n",
       "        0.        , 0.04671615, 0.        , 0.04522598, 0.        ,\n",
       "        0.0489853 , 0.        , 0.06314778, 0.        , 0.05317533,\n",
       "        0.        , 0.06109148, 0.        , 0.04601336, 0.        ]),\n",
       " 'std_score_time': array([0.0217393 , 0.        , 0.02078336, 0.        , 0.01040601,\n",
       "        0.        , 0.03042149, 0.        , 0.01549675, 0.        ,\n",
       "        0.02096047, 0.        , 0.0176009 , 0.        , 0.00207386,\n",
       "        0.        , 0.02003688, 0.        , 0.01633484, 0.        ,\n",
       "        0.01307198, 0.        , 0.00797129, 0.        , 0.01233414,\n",
       "        0.        , 0.00909359, 0.        , 0.00675394, 0.        ,\n",
       "        0.01015178, 0.        , 0.0074471 , 0.        , 0.01643614,\n",
       "        0.        , 0.013092  , 0.        , 0.01687903, 0.        ]),\n",
       " 'param_alpha': masked_array(data=[0.0, 0.0, 0.1, 0.1, 0.2, 0.2, 0.3, 0.3, 0.4, 0.4, 0.5,\n",
       "                    0.5, 0.6, 0.6, 0.7, 0.7, 0.8, 0.8, 0.9, 0.9, 0, 0, 10,\n",
       "                    10, 20, 20, 30, 30, 40, 40, 50, 50, 60, 60, 70, 70, 80,\n",
       "                    80, 90, 90],\n",
       "              mask=[False, False, False, False, False, False, False, False,\n",
       "                    False, False, False, False, False, False, False, False,\n",
       "                    False, False, False, False, False, False, False, False,\n",
       "                    False, False, False, False, False, False, False, False,\n",
       "                    False, False, False, False, False, False, False, False],\n",
       "        fill_value='?',\n",
       "             dtype=object),\n",
       " 'param_kernel': masked_array(data=['linear', <ufunc 'sin'>, 'linear', <ufunc 'sin'>,\n",
       "                    'linear', <ufunc 'sin'>, 'linear', <ufunc 'sin'>,\n",
       "                    'linear', <ufunc 'sin'>, 'linear', <ufunc 'sin'>,\n",
       "                    'linear', <ufunc 'sin'>, 'linear', <ufunc 'sin'>,\n",
       "                    'linear', <ufunc 'sin'>, 'linear', <ufunc 'sin'>,\n",
       "                    'linear', <ufunc 'sin'>, 'linear', <ufunc 'sin'>,\n",
       "                    'linear', <ufunc 'sin'>, 'linear', <ufunc 'sin'>,\n",
       "                    'linear', <ufunc 'sin'>, 'linear', <ufunc 'sin'>,\n",
       "                    'linear', <ufunc 'sin'>, 'linear', <ufunc 'sin'>,\n",
       "                    'linear', <ufunc 'sin'>, 'linear', <ufunc 'sin'>],\n",
       "              mask=[False, False, False, False, False, False, False, False,\n",
       "                    False, False, False, False, False, False, False, False,\n",
       "                    False, False, False, False, False, False, False, False,\n",
       "                    False, False, False, False, False, False, False, False,\n",
       "                    False, False, False, False, False, False, False, False],\n",
       "        fill_value='?',\n",
       "             dtype=object),\n",
       " 'params': [{'alpha': 0.0, 'kernel': 'linear'},\n",
       "  {'alpha': 0.0, 'kernel': <ufunc 'sin'>},\n",
       "  {'alpha': 0.1, 'kernel': 'linear'},\n",
       "  {'alpha': 0.1, 'kernel': <ufunc 'sin'>},\n",
       "  {'alpha': 0.2, 'kernel': 'linear'},\n",
       "  {'alpha': 0.2, 'kernel': <ufunc 'sin'>},\n",
       "  {'alpha': 0.3, 'kernel': 'linear'},\n",
       "  {'alpha': 0.3, 'kernel': <ufunc 'sin'>},\n",
       "  {'alpha': 0.4, 'kernel': 'linear'},\n",
       "  {'alpha': 0.4, 'kernel': <ufunc 'sin'>},\n",
       "  {'alpha': 0.5, 'kernel': 'linear'},\n",
       "  {'alpha': 0.5, 'kernel': <ufunc 'sin'>},\n",
       "  {'alpha': 0.6, 'kernel': 'linear'},\n",
       "  {'alpha': 0.6, 'kernel': <ufunc 'sin'>},\n",
       "  {'alpha': 0.7, 'kernel': 'linear'},\n",
       "  {'alpha': 0.7, 'kernel': <ufunc 'sin'>},\n",
       "  {'alpha': 0.8, 'kernel': 'linear'},\n",
       "  {'alpha': 0.8, 'kernel': <ufunc 'sin'>},\n",
       "  {'alpha': 0.9, 'kernel': 'linear'},\n",
       "  {'alpha': 0.9, 'kernel': <ufunc 'sin'>},\n",
       "  {'alpha': 0, 'kernel': 'linear'},\n",
       "  {'alpha': 0, 'kernel': <ufunc 'sin'>},\n",
       "  {'alpha': 10, 'kernel': 'linear'},\n",
       "  {'alpha': 10, 'kernel': <ufunc 'sin'>},\n",
       "  {'alpha': 20, 'kernel': 'linear'},\n",
       "  {'alpha': 20, 'kernel': <ufunc 'sin'>},\n",
       "  {'alpha': 30, 'kernel': 'linear'},\n",
       "  {'alpha': 30, 'kernel': <ufunc 'sin'>},\n",
       "  {'alpha': 40, 'kernel': 'linear'},\n",
       "  {'alpha': 40, 'kernel': <ufunc 'sin'>},\n",
       "  {'alpha': 50, 'kernel': 'linear'},\n",
       "  {'alpha': 50, 'kernel': <ufunc 'sin'>},\n",
       "  {'alpha': 60, 'kernel': 'linear'},\n",
       "  {'alpha': 60, 'kernel': <ufunc 'sin'>},\n",
       "  {'alpha': 70, 'kernel': 'linear'},\n",
       "  {'alpha': 70, 'kernel': <ufunc 'sin'>},\n",
       "  {'alpha': 80, 'kernel': 'linear'},\n",
       "  {'alpha': 80, 'kernel': <ufunc 'sin'>},\n",
       "  {'alpha': 90, 'kernel': 'linear'},\n",
       "  {'alpha': 90, 'kernel': <ufunc 'sin'>}],\n",
       " 'split0_test_score': array([ 1.04597955e-03, -1.00000000e+03,  1.92568502e-03, -1.00000000e+03,\n",
       "        -2.90735666e-05, -1.00000000e+03,  6.64500580e-03, -1.00000000e+03,\n",
       "         7.28560567e-04, -1.00000000e+03,  4.50833881e-03, -1.00000000e+03,\n",
       "         3.47352113e-03, -1.00000000e+03,  4.83093409e-03, -1.00000000e+03,\n",
       "         2.91757012e-03, -1.00000000e+03,  3.42124281e-03, -1.00000000e+03,\n",
       "         1.04597955e-03, -1.00000000e+03,  4.04882315e-03, -1.00000000e+03,\n",
       "         4.11192813e-03, -1.00000000e+03,  4.19039140e-03, -1.00000000e+03,\n",
       "         4.24889872e-03, -1.00000000e+03,  4.31936197e-03, -1.00000000e+03,\n",
       "         4.35417581e-03, -1.00000000e+03,  4.40560428e-03, -1.00000000e+03,\n",
       "         4.43375174e-03, -1.00000000e+03,  4.47081074e-03, -1.00000000e+03]),\n",
       " 'split1_test_score': array([-1.23692664e-01, -1.00000000e+03, -5.95711403e-01, -1.00000000e+03,\n",
       "        -2.40777874e-01, -1.00000000e+03, -1.87833971e-01, -1.00000000e+03,\n",
       "        -1.40867255e-01, -1.00000000e+03, -1.42111191e-01, -1.00000000e+03,\n",
       "        -1.21860458e-01, -1.00000000e+03, -1.19598032e-01, -1.00000000e+03,\n",
       "        -1.26101043e-01, -1.00000000e+03, -1.18053009e-01, -1.00000000e+03,\n",
       "        -1.23692664e-01, -1.00000000e+03, -1.17331934e-01, -1.00000000e+03,\n",
       "        -1.15897530e-01, -1.00000000e+03, -1.14488774e-01, -1.00000000e+03,\n",
       "        -1.13535325e-01, -1.00000000e+03, -1.12497509e-01, -1.00000000e+03,\n",
       "        -1.11497769e-01, -1.00000000e+03, -1.10737384e-01, -1.00000000e+03,\n",
       "        -1.10191726e-01, -1.00000000e+03, -1.09629259e-01, -1.00000000e+03]),\n",
       " 'split2_test_score': array([-1.65249976e-01, -1.00000000e+03, -1.00631846e+00, -1.00000000e+03,\n",
       "        -2.88198877e-01, -1.00000000e+03, -2.17562114e-01, -1.00000000e+03,\n",
       "        -2.07101477e-01, -1.00000000e+03, -1.51982900e-01, -1.00000000e+03,\n",
       "        -1.30738849e-01, -1.00000000e+03, -1.46728182e-01, -1.00000000e+03,\n",
       "        -1.47971161e-01, -1.00000000e+03, -1.33229329e-01, -1.00000000e+03,\n",
       "        -1.65249976e-01, -1.00000000e+03, -1.17512905e-01, -1.00000000e+03,\n",
       "        -1.14488124e-01, -1.00000000e+03, -1.11820018e-01, -1.00000000e+03,\n",
       "        -1.09980225e-01, -1.00000000e+03, -1.07915922e-01, -1.00000000e+03,\n",
       "        -1.05953041e-01, -1.00000000e+03, -1.04499168e-01, -1.00000000e+03,\n",
       "        -1.03265125e-01, -1.00000000e+03, -1.01933316e-01, -1.00000000e+03]),\n",
       " 'split3_test_score': array([-5.70560900e-01, -1.00000000e+03, -6.43183354e-01, -1.00000000e+03,\n",
       "        -5.35541700e-01, -1.00000000e+03, -5.27268639e-01, -1.00000000e+03,\n",
       "        -5.07056765e-01, -1.00000000e+03, -5.07785498e-01, -1.00000000e+03,\n",
       "        -5.34581169e-01, -1.00000000e+03, -5.07481967e-01, -1.00000000e+03,\n",
       "        -5.10367833e-01, -1.00000000e+03, -5.14147497e-01, -1.00000000e+03,\n",
       "        -5.70560900e-01, -1.00000000e+03, -5.12616092e-01, -1.00000000e+03,\n",
       "        -5.12881327e-01, -1.00000000e+03, -5.13755030e-01, -1.00000000e+03,\n",
       "        -5.14715441e-01, -1.00000000e+03, -5.15502863e-01, -1.00000000e+03,\n",
       "        -5.15999564e-01, -1.00000000e+03, -5.16954776e-01, -1.00000000e+03,\n",
       "        -5.17739537e-01, -1.00000000e+03, -5.18367819e-01, -1.00000000e+03]),\n",
       " 'mean_test_score': array([-2.14614390e-01, -1.00000000e+03, -5.60821884e-01, -1.00000000e+03,\n",
       "        -2.66136881e-01, -1.00000000e+03, -2.31504929e-01, -1.00000000e+03,\n",
       "        -2.13574234e-01, -1.00000000e+03, -1.99342812e-01, -1.00000000e+03,\n",
       "        -1.95926739e-01, -1.00000000e+03, -1.92244312e-01, -1.00000000e+03,\n",
       "        -1.95380617e-01, -1.00000000e+03, -1.90502148e-01, -1.00000000e+03,\n",
       "        -2.14614390e-01, -1.00000000e+03, -1.85853027e-01, -1.00000000e+03,\n",
       "        -1.84788763e-01, -1.00000000e+03, -1.83968358e-01, -1.00000000e+03,\n",
       "        -1.83495523e-01, -1.00000000e+03, -1.82899233e-01, -1.00000000e+03,\n",
       "        -1.82274050e-01, -1.00000000e+03, -1.81946431e-01, -1.00000000e+03,\n",
       "        -1.81690659e-01, -1.00000000e+03, -1.81364896e-01, -1.00000000e+03]),\n",
       " 'std_test_score': array([0.21442418, 0.        , 0.36164648, 0.        , 0.19008033,\n",
       "        0.        , 0.19124142, 0.        , 0.18532801, 0.        ,\n",
       "        0.1885541 , 0.        , 0.20259724, 0.        , 0.19076336,\n",
       "        0.        , 0.19077895, 0.        , 0.19421743, 0.        ,\n",
       "        0.21442418, 0.        , 0.19506558, 0.        , 0.19558654,\n",
       "        0.        , 0.19633884, 0.        , 0.19701112, 0.        ,\n",
       "        0.19764544, 0.        , 0.19813947, 0.        , 0.19876272,\n",
       "        0.        , 0.1992698 , 0.        , 0.1997256 , 0.        ]),\n",
       " 'rank_test_score': array([16, 21, 20, 21, 19, 21, 18, 21, 15, 21, 14, 21, 13, 21, 11, 21, 12,\n",
       "        21, 10, 21, 16, 21,  9, 21,  8, 21,  7, 21,  6, 21,  5, 21,  4, 21,\n",
       "         3, 21,  2, 21,  1, 21], dtype=int32),\n",
       " 'split0_train_score': array([ 4.24996484e-02, -1.00000000e+03, -2.75145644e-02, -1.00000000e+03,\n",
       "         3.50549581e-02, -1.00000000e+03,  3.40014611e-02, -1.00000000e+03,\n",
       "         3.96004277e-02, -1.00000000e+03,  4.48026549e-02, -1.00000000e+03,\n",
       "         4.73748863e-02, -1.00000000e+03,  4.60725634e-02, -1.00000000e+03,\n",
       "         4.81393977e-02, -1.00000000e+03,  4.87821770e-02, -1.00000000e+03,\n",
       "         4.24996484e-02, -1.00000000e+03,  4.52757559e-02, -1.00000000e+03,\n",
       "         4.39575873e-02, -1.00000000e+03,  4.33152942e-02, -1.00000000e+03,\n",
       "         4.29086929e-02, -1.00000000e+03,  4.25531912e-02, -1.00000000e+03,\n",
       "         4.22234271e-02, -1.00000000e+03,  4.19938537e-02, -1.00000000e+03,\n",
       "         4.17863216e-02, -1.00000000e+03,  4.16088074e-02, -1.00000000e+03]),\n",
       " 'split1_train_score': array([ 2.59800807e-02, -1.00000000e+03, -9.07675616e-02, -1.00000000e+03,\n",
       "         3.68656893e-03, -1.00000000e+03,  1.72995208e-02, -1.00000000e+03,\n",
       "         2.31083436e-02, -1.00000000e+03,  2.10545477e-02, -1.00000000e+03,\n",
       "         2.48384768e-02, -1.00000000e+03,  2.47278591e-02, -1.00000000e+03,\n",
       "         2.42529785e-02, -1.00000000e+03,  2.64555080e-02, -1.00000000e+03,\n",
       "         2.59800807e-02, -1.00000000e+03,  2.59180189e-02, -1.00000000e+03,\n",
       "         2.55883784e-02, -1.00000000e+03,  2.54338724e-02, -1.00000000e+03,\n",
       "         2.53155247e-02, -1.00000000e+03,  2.51951724e-02, -1.00000000e+03,\n",
       "         2.50822852e-02, -1.00000000e+03,  2.50070892e-02, -1.00000000e+03,\n",
       "         2.49310908e-02, -1.00000000e+03,  2.48544271e-02, -1.00000000e+03]),\n",
       " 'split2_train_score': array([ 1.84562015e-02, -1.00000000e+03, -4.25673427e-02, -1.00000000e+03,\n",
       "         4.22611638e-03, -1.00000000e+03,  1.85015377e-02, -1.00000000e+03,\n",
       "         2.28778322e-02, -1.00000000e+03,  2.28797635e-02, -1.00000000e+03,\n",
       "         2.36893181e-02, -1.00000000e+03,  2.47946681e-02, -1.00000000e+03,\n",
       "         2.41561499e-02, -1.00000000e+03,  2.36824514e-02, -1.00000000e+03,\n",
       "         1.84562015e-02, -1.00000000e+03,  2.34767898e-02, -1.00000000e+03,\n",
       "         2.30635385e-02, -1.00000000e+03,  2.29502814e-02, -1.00000000e+03,\n",
       "         2.28411076e-02, -1.00000000e+03,  2.27366386e-02, -1.00000000e+03,\n",
       "         2.26518545e-02, -1.00000000e+03,  2.25792906e-02, -1.00000000e+03,\n",
       "         2.25138357e-02, -1.00000000e+03,  2.24465789e-02, -1.00000000e+03]),\n",
       " 'split3_train_score': array([ 2.64524580e-02, -1.00000000e+03, -7.53596068e-02, -1.00000000e+03,\n",
       "         1.32396487e-02, -1.00000000e+03,  2.07340396e-02, -1.00000000e+03,\n",
       "         2.74905195e-02, -1.00000000e+03,  2.61453362e-02, -1.00000000e+03,\n",
       "         2.80887802e-02, -1.00000000e+03,  2.84615660e-02, -1.00000000e+03,\n",
       "         3.06142770e-02, -1.00000000e+03,  2.94953351e-02, -1.00000000e+03,\n",
       "         2.64524580e-02, -1.00000000e+03,  2.96370631e-02, -1.00000000e+03,\n",
       "         2.92711775e-02, -1.00000000e+03,  2.90774566e-02, -1.00000000e+03,\n",
       "         2.89987642e-02, -1.00000000e+03,  2.88910738e-02, -1.00000000e+03,\n",
       "         2.87549960e-02, -1.00000000e+03,  2.87048416e-02, -1.00000000e+03,\n",
       "         2.86194646e-02, -1.00000000e+03,  2.85280143e-02, -1.00000000e+03]),\n",
       " 'mean_train_score': array([ 2.83470972e-02, -1.00000000e+03, -5.90522689e-02, -1.00000000e+03,\n",
       "         1.40518230e-02, -1.00000000e+03,  2.26341398e-02, -1.00000000e+03,\n",
       "         2.82692808e-02, -1.00000000e+03,  2.87205756e-02, -1.00000000e+03,\n",
       "         3.09978654e-02, -1.00000000e+03,  3.10141642e-02, -1.00000000e+03,\n",
       "         3.17907008e-02, -1.00000000e+03,  3.21038679e-02, -1.00000000e+03,\n",
       "         2.83470972e-02, -1.00000000e+03,  3.10769069e-02, -1.00000000e+03,\n",
       "         3.04701704e-02, -1.00000000e+03,  3.01942262e-02, -1.00000000e+03,\n",
       "         3.00160224e-02, -1.00000000e+03,  2.98440190e-02, -1.00000000e+03,\n",
       "         2.96781407e-02, -1.00000000e+03,  2.95712688e-02, -1.00000000e+03,\n",
       "         2.94626782e-02, -1.00000000e+03,  2.93594569e-02, -1.00000000e+03]),\n",
       " 'std_train_score': array([0.00876523, 0.        , 0.02519012, 0.        , 0.01270604,\n",
       "        0.        , 0.00667763, 0.        , 0.0067953 , 0.        ,\n",
       "        0.0094624 , 0.        , 0.00959196, 0.        , 0.00882427,\n",
       "        0.        , 0.00979499, 0.        , 0.00984625, 0.        ,\n",
       "        0.00876523, 0.        , 0.00848611, 0.        , 0.0080938 ,\n",
       "        0.        , 0.00788266, 0.        , 0.00775935, 0.        ,\n",
       "        0.00765764, 0.        , 0.00756186, 0.        , 0.00749651,\n",
       "        0.        , 0.00743984, 0.        , 0.0073963 , 0.        ])}"
      ]
     },
     "execution_count": 39,
     "metadata": {},
     "output_type": "execute_result"
    }
   ],
   "source": [
    "rs.cv_results_"
   ]
  },
  {
   "cell_type": "code",
   "execution_count": 38,
   "metadata": {},
   "outputs": [
    {
     "data": {
      "text/plain": [
       "KernelRidge(alpha=90, coef0=1, degree=3, gamma=None, kernel='linear',\n",
       "      kernel_params=None)"
      ]
     },
     "execution_count": 38,
     "metadata": {},
     "output_type": "execute_result"
    }
   ],
   "source": [
    "rs.best_estimator_"
   ]
  },
  {
   "cell_type": "markdown",
   "metadata": {},
   "source": [
    "## Support Vector Machine (Clasificación)"
   ]
  },
  {
   "cell_type": "code",
   "execution_count": 41,
   "metadata": {},
   "outputs": [],
   "source": [
    "svm = SVC()"
   ]
  },
  {
   "cell_type": "code",
   "execution_count": 42,
   "metadata": {},
   "outputs": [
    {
     "name": "stderr",
     "output_type": "stream",
     "text": [
      "/home/oscar/VirtualEnvs/Python3/lib/python3.6/site-packages/sklearn/svm/base.py:196: FutureWarning: The default value of gamma will change from 'auto' to 'scale' in version 0.22 to account better for unscaled features. Set gamma explicitly to 'auto' or 'scale' to avoid this warning.\n",
      "  \"avoid this warning.\", FutureWarning)\n"
     ]
    },
    {
     "data": {
      "text/plain": [
       "SVC(C=1.0, cache_size=200, class_weight=None, coef0=0.0,\n",
       "  decision_function_shape='ovr', degree=3, gamma='auto_deprecated',\n",
       "  kernel='rbf', max_iter=-1, probability=False, random_state=None,\n",
       "  shrinking=True, tol=0.001, verbose=False)"
      ]
     },
     "execution_count": 42,
     "metadata": {},
     "output_type": "execute_result"
    }
   ],
   "source": [
    "svm.fit(X, yc)"
   ]
  },
  {
   "cell_type": "code",
   "execution_count": 43,
   "metadata": {},
   "outputs": [],
   "source": [
    "ls_res = cross_val_score(estimator = svm, X=X, y=yc, cv=4, n_jobs=-1, scoring=\"roc_auc\")"
   ]
  },
  {
   "cell_type": "code",
   "execution_count": 44,
   "metadata": {},
   "outputs": [
    {
     "data": {
      "text/plain": [
       "(0.5002802690582959, 0.0002802690582959233)"
      ]
     },
     "execution_count": 44,
     "metadata": {},
     "output_type": "execute_result"
    }
   ],
   "source": [
    "np.mean(ls_res), np.std(ls_res)"
   ]
  },
  {
   "cell_type": "code",
   "execution_count": 64,
   "metadata": {},
   "outputs": [],
   "source": [
    "param_grid = {\"C\": [x/10 for x in range(10)] + [x*10 for x in range(10)],\n",
    "              \"kernel\": ['linear', 'poly', 'rbf', 'sigmoid']}"
   ]
  },
  {
   "cell_type": "code",
   "execution_count": 76,
   "metadata": {},
   "outputs": [],
   "source": [
    "# rs = RandomizedSearchCV(cv=4, error_score=-1000, estimator=svm, n_jobs=-1, scoring=\"roc_auc\", param_distributions=param_grid, verbose=True, n_iter=2)"
   ]
  },
  {
   "cell_type": "code",
   "execution_count": 78,
   "metadata": {},
   "outputs": [],
   "source": [
    "# %%time\n",
    "# rs.fit(X, yc)"
   ]
  },
  {
   "cell_type": "markdown",
   "metadata": {},
   "source": [
    "## Support Vector Machine (Regresión)"
   ]
  },
  {
   "cell_type": "code",
   "execution_count": 45,
   "metadata": {},
   "outputs": [],
   "source": [
    "svm = SVR()"
   ]
  },
  {
   "cell_type": "code",
   "execution_count": 46,
   "metadata": {},
   "outputs": [
    {
     "name": "stderr",
     "output_type": "stream",
     "text": [
      "/home/oscar/VirtualEnvs/Python3/lib/python3.6/site-packages/sklearn/svm/base.py:196: FutureWarning: The default value of gamma will change from 'auto' to 'scale' in version 0.22 to account better for unscaled features. Set gamma explicitly to 'auto' or 'scale' to avoid this warning.\n",
      "  \"avoid this warning.\", FutureWarning)\n"
     ]
    },
    {
     "data": {
      "text/plain": [
       "SVR(C=1.0, cache_size=200, coef0=0.0, degree=3, epsilon=0.1,\n",
       "  gamma='auto_deprecated', kernel='rbf', max_iter=-1, shrinking=True,\n",
       "  tol=0.001, verbose=False)"
      ]
     },
     "execution_count": 46,
     "metadata": {},
     "output_type": "execute_result"
    }
   ],
   "source": [
    "svm.fit(X, yr)"
   ]
  },
  {
   "cell_type": "code",
   "execution_count": 47,
   "metadata": {},
   "outputs": [],
   "source": [
    "ls_res = cross_val_score(estimator = svm, X=X, y=yc, cv=4, n_jobs=-1, scoring=\"r2\")"
   ]
  },
  {
   "cell_type": "code",
   "execution_count": 48,
   "metadata": {},
   "outputs": [
    {
     "data": {
      "text/plain": [
       "(-0.07202639761166357, 0.012458620898133172)"
      ]
     },
     "execution_count": 48,
     "metadata": {},
     "output_type": "execute_result"
    }
   ],
   "source": [
    "np.mean(ls_res), np.std(ls_res)"
   ]
  },
  {
   "cell_type": "code",
   "execution_count": 49,
   "metadata": {},
   "outputs": [],
   "source": [
    "SVR?"
   ]
  },
  {
   "cell_type": "code",
   "execution_count": 50,
   "metadata": {},
   "outputs": [],
   "source": [
    "param_grid = {\"C\": [x/10 for x in range(10)] + [x*10 for x in range(10)],\n",
    "              \"epsilon\": [x/10 for x in range(10)] + [x*10 for x in range(10)]}"
   ]
  },
  {
   "cell_type": "code",
   "execution_count": 51,
   "metadata": {},
   "outputs": [],
   "source": [
    "rs = RandomizedSearchCV(cv=4, error_score=-1000, estimator=svm, n_jobs=-1, scoring=\"r2\", param_distributions=param_grid, verbose=True, n_iter=20)"
   ]
  },
  {
   "cell_type": "code",
   "execution_count": 52,
   "metadata": {},
   "outputs": [
    {
     "name": "stdout",
     "output_type": "stream",
     "text": [
      "Fitting 4 folds for each of 20 candidates, totalling 80 fits\n"
     ]
    },
    {
     "name": "stderr",
     "output_type": "stream",
     "text": [
      "[Parallel(n_jobs=-1)]: Using backend LokyBackend with 4 concurrent workers.\n",
      "[Parallel(n_jobs=-1)]: Done  42 tasks      | elapsed:   23.9s\n",
      "[Parallel(n_jobs=-1)]: Done  80 out of  80 | elapsed:   40.9s finished\n",
      "/home/oscar/VirtualEnvs/Python3/lib/python3.6/site-packages/sklearn/svm/base.py:196: FutureWarning: The default value of gamma will change from 'auto' to 'scale' in version 0.22 to account better for unscaled features. Set gamma explicitly to 'auto' or 'scale' to avoid this warning.\n",
      "  \"avoid this warning.\", FutureWarning)\n"
     ]
    },
    {
     "name": "stdout",
     "output_type": "stream",
     "text": [
      "CPU times: user 1.33 s, sys: 23.8 ms, total: 1.36 s\n",
      "Wall time: 42.1 s\n"
     ]
    },
    {
     "data": {
      "text/plain": [
       "RandomizedSearchCV(cv=4, error_score=-1000,\n",
       "          estimator=SVR(C=1.0, cache_size=200, coef0=0.0, degree=3, epsilon=0.1,\n",
       "  gamma='auto_deprecated', kernel='rbf', max_iter=-1, shrinking=True,\n",
       "  tol=0.001, verbose=False),\n",
       "          fit_params=None, iid='warn', n_iter=20, n_jobs=-1,\n",
       "          param_distributions={'C': [0.0, 0.1, 0.2, 0.3, 0.4, 0.5, 0.6, 0.7, 0.8, 0.9, 0, 10, 20, 30, 40, 50, 60, 70, 80, 90], 'epsilon': [0.0, 0.1, 0.2, 0.3, 0.4, 0.5, 0.6, 0.7, 0.8, 0.9, 0, 10, 20, 30, 40, 50, 60, 70, 80, 90]},\n",
       "          pre_dispatch='2*n_jobs', random_state=None, refit=True,\n",
       "          return_train_score='warn', scoring='r2', verbose=True)"
      ]
     },
     "execution_count": 52,
     "metadata": {},
     "output_type": "execute_result"
    }
   ],
   "source": [
    "%%time\n",
    "rs.fit(X, yr)"
   ]
  },
  {
   "cell_type": "code",
   "execution_count": 53,
   "metadata": {},
   "outputs": [
    {
     "data": {
      "text/plain": [
       "-0.06276670295248538"
      ]
     },
     "execution_count": 53,
     "metadata": {},
     "output_type": "execute_result"
    }
   ],
   "source": [
    "rs.best_score_"
   ]
  },
  {
   "cell_type": "markdown",
   "metadata": {},
   "source": [
    "## K-Vecinos (clasificación)"
   ]
  },
  {
   "cell_type": "code",
   "execution_count": 54,
   "metadata": {},
   "outputs": [],
   "source": [
    "knn = KNeighborsClassifier()"
   ]
  },
  {
   "cell_type": "code",
   "execution_count": 55,
   "metadata": {},
   "outputs": [
    {
     "data": {
      "text/plain": [
       "KNeighborsClassifier(algorithm='auto', leaf_size=30, metric='minkowski',\n",
       "           metric_params=None, n_jobs=None, n_neighbors=5, p=2,\n",
       "           weights='uniform')"
      ]
     },
     "execution_count": 55,
     "metadata": {},
     "output_type": "execute_result"
    }
   ],
   "source": [
    "knn.fit(X, yc)"
   ]
  },
  {
   "cell_type": "code",
   "execution_count": 56,
   "metadata": {},
   "outputs": [],
   "source": [
    "ls_res = cross_val_score(estimator = knn, X=X, y=yc, cv=4, n_jobs=-1, scoring=\"roc_auc\")"
   ]
  },
  {
   "cell_type": "code",
   "execution_count": 57,
   "metadata": {},
   "outputs": [
    {
     "data": {
      "text/plain": [
       "(0.5663331747973004, 0.023960555265195912)"
      ]
     },
     "execution_count": 57,
     "metadata": {},
     "output_type": "execute_result"
    }
   ],
   "source": [
    "np.mean(ls_res), np.std(ls_res)"
   ]
  },
  {
   "cell_type": "code",
   "execution_count": 58,
   "metadata": {},
   "outputs": [],
   "source": [
    "KNeighborsClassifier?"
   ]
  },
  {
   "cell_type": "code",
   "execution_count": 59,
   "metadata": {},
   "outputs": [],
   "source": [
    "DistanceMetric?"
   ]
  },
  {
   "cell_type": "code",
   "execution_count": 63,
   "metadata": {},
   "outputs": [],
   "source": [
    "param_grid = {\"n_neighbors\": range(100),\n",
    "              \"algorithm\": ['auto', 'ball_tree', 'kd_tree', 'brute'],\n",
    "              \"metric\": [\"euclidean\", \"manhattan\", \"chebyshev\", \"minkowski\", \"seuclidean\", \"mahalanobis\", ]}"
   ]
  },
  {
   "cell_type": "code",
   "execution_count": 64,
   "metadata": {},
   "outputs": [],
   "source": [
    "rs = RandomizedSearchCV(cv=4, error_score=-1000, estimator=knn, n_jobs=-1, scoring=\"roc_auc\", param_distributions=param_grid, verbose=True, n_iter=20)"
   ]
  },
  {
   "cell_type": "code",
   "execution_count": 65,
   "metadata": {},
   "outputs": [
    {
     "name": "stdout",
     "output_type": "stream",
     "text": [
      "Fitting 4 folds for each of 20 candidates, totalling 80 fits\n"
     ]
    },
    {
     "name": "stderr",
     "output_type": "stream",
     "text": [
      "[Parallel(n_jobs=-1)]: Using backend LokyBackend with 4 concurrent workers.\n",
      "[Parallel(n_jobs=-1)]: Done  42 tasks      | elapsed:   25.0s\n"
     ]
    },
    {
     "name": "stdout",
     "output_type": "stream",
     "text": [
      "CPU times: user 157 ms, sys: 30.7 ms, total: 188 ms\n",
      "Wall time: 48.1 s\n"
     ]
    },
    {
     "name": "stderr",
     "output_type": "stream",
     "text": [
      "[Parallel(n_jobs=-1)]: Done  80 out of  80 | elapsed:   48.0s finished\n"
     ]
    },
    {
     "data": {
      "text/plain": [
       "RandomizedSearchCV(cv=4, error_score=-1000,\n",
       "          estimator=KNeighborsClassifier(algorithm='auto', leaf_size=30, metric='minkowski',\n",
       "           metric_params=None, n_jobs=None, n_neighbors=5, p=2,\n",
       "           weights='uniform'),\n",
       "          fit_params=None, iid='warn', n_iter=20, n_jobs=-1,\n",
       "          param_distributions={'n_neighbors': range(0, 100), 'algorithm': ['auto', 'ball_tree', 'kd_tree', 'brute'], 'metric': ['euclidean', 'manhattan', 'chebyshev', 'minkowski', 'seuclidean', 'mahalanobis']},\n",
       "          pre_dispatch='2*n_jobs', random_state=None, refit=True,\n",
       "          return_train_score='warn', scoring='roc_auc', verbose=True)"
      ]
     },
     "execution_count": 65,
     "metadata": {},
     "output_type": "execute_result"
    }
   ],
   "source": [
    "%%time\n",
    "rs.fit(X, yc)"
   ]
  },
  {
   "cell_type": "code",
   "execution_count": 66,
   "metadata": {},
   "outputs": [
    {
     "data": {
      "text/plain": [
       "0.6456238392897585"
      ]
     },
     "execution_count": 66,
     "metadata": {},
     "output_type": "execute_result"
    }
   ],
   "source": [
    "rs.best_score_"
   ]
  },
  {
   "cell_type": "code",
   "execution_count": 67,
   "metadata": {},
   "outputs": [
    {
     "data": {
      "text/plain": [
       "KNeighborsClassifier(algorithm='brute', leaf_size=30, metric='seuclidean',\n",
       "           metric_params=None, n_jobs=None, n_neighbors=78, p=2,\n",
       "           weights='uniform')"
      ]
     },
     "execution_count": 67,
     "metadata": {},
     "output_type": "execute_result"
    }
   ],
   "source": [
    "rs.best_estimator_"
   ]
  },
  {
   "cell_type": "markdown",
   "metadata": {},
   "source": [
    "## K-Vecinos (Regresión) "
   ]
  },
  {
   "cell_type": "code",
   "execution_count": 68,
   "metadata": {},
   "outputs": [],
   "source": [
    "knn = KNeighborsRegressor()"
   ]
  },
  {
   "cell_type": "code",
   "execution_count": 69,
   "metadata": {},
   "outputs": [
    {
     "data": {
      "text/plain": [
       "KNeighborsRegressor(algorithm='auto', leaf_size=30, metric='minkowski',\n",
       "          metric_params=None, n_jobs=None, n_neighbors=5, p=2,\n",
       "          weights='uniform')"
      ]
     },
     "execution_count": 69,
     "metadata": {},
     "output_type": "execute_result"
    }
   ],
   "source": [
    "knn.fit(X, yr)"
   ]
  },
  {
   "cell_type": "code",
   "execution_count": 70,
   "metadata": {},
   "outputs": [],
   "source": [
    "ls_res = cross_val_score(estimator = knn, X=X, y=yc, cv=4, n_jobs=-1, scoring=\"r2\")"
   ]
  },
  {
   "cell_type": "code",
   "execution_count": 71,
   "metadata": {},
   "outputs": [
    {
     "data": {
      "text/plain": [
       "(-0.1386056917314893, 0.040018434569156866)"
      ]
     },
     "execution_count": 71,
     "metadata": {},
     "output_type": "execute_result"
    }
   ],
   "source": [
    "np.mean(ls_res), np.std(ls_res)"
   ]
  },
  {
   "cell_type": "code",
   "execution_count": 73,
   "metadata": {},
   "outputs": [],
   "source": [
    "param_grid = {\"n_neighbors\": range(100),\n",
    "              \"algorithm\": ['auto', 'ball_tree', 'kd_tree', 'brute'],\n",
    "              \"metric\": [\"euclidean\", \"manhattan\", \"chebyshev\", \"minkowski\", \"seuclidean\", \"mahalanobis\", ]}"
   ]
  },
  {
   "cell_type": "code",
   "execution_count": 74,
   "metadata": {},
   "outputs": [],
   "source": [
    "rs = RandomizedSearchCV(cv=4, error_score=-1000, estimator=knn, n_jobs=-1, scoring=\"r2\", param_distributions=param_grid, verbose=True, n_iter=100)"
   ]
  },
  {
   "cell_type": "code",
   "execution_count": 75,
   "metadata": {},
   "outputs": [
    {
     "name": "stdout",
     "output_type": "stream",
     "text": [
      "Fitting 4 folds for each of 100 candidates, totalling 400 fits\n"
     ]
    },
    {
     "name": "stderr",
     "output_type": "stream",
     "text": [
      "[Parallel(n_jobs=-1)]: Using backend LokyBackend with 4 concurrent workers.\n"
     ]
    },
    {
     "name": "stdout",
     "output_type": "stream",
     "text": [
      "CPU times: user 156 ms, sys: 21.2 ms, total: 177 ms\n",
      "Wall time: 1min 37s\n"
     ]
    },
    {
     "name": "stderr",
     "output_type": "stream",
     "text": [
      "[Parallel(n_jobs=-1)]: Done 400 out of 400 | elapsed:  1.6min finished\n"
     ]
    },
    {
     "data": {
      "text/plain": [
       "RandomizedSearchCV(cv=4, error_score=-1000,\n",
       "          estimator=KNeighborsRegressor(algorithm='auto', leaf_size=30, metric='minkowski',\n",
       "          metric_params=None, n_jobs=None, n_neighbors=5, p=2,\n",
       "          weights='uniform'),\n",
       "          fit_params=None, iid='warn', n_iter=100, n_jobs=-1,\n",
       "          param_distributions={'n_neighbors': range(0, 100), 'algorithm': ['auto', 'ball_tree', 'kd_tree', 'brute'], 'metric': ['euclidean', 'manhattan', 'chebyshev', 'minkowski', 'seuclidean', 'mahalanobis']},\n",
       "          pre_dispatch='2*n_jobs', random_state=None, refit=True,\n",
       "          return_train_score='warn', scoring='r2', verbose=True)"
      ]
     },
     "execution_count": 75,
     "metadata": {},
     "output_type": "execute_result"
    }
   ],
   "source": [
    "%%time\n",
    "rs.fit(X, yr)"
   ]
  },
  {
   "cell_type": "code",
   "execution_count": 76,
   "metadata": {},
   "outputs": [
    {
     "data": {
      "text/plain": [
       "0.004767815612115035"
      ]
     },
     "execution_count": 76,
     "metadata": {},
     "output_type": "execute_result"
    }
   ],
   "source": [
    "rs.best_score_"
   ]
  },
  {
   "cell_type": "code",
   "execution_count": 77,
   "metadata": {},
   "outputs": [
    {
     "data": {
      "text/plain": [
       "KNeighborsRegressor(algorithm='brute', leaf_size=30, metric='seuclidean',\n",
       "          metric_params=None, n_jobs=None, n_neighbors=83, p=2,\n",
       "          weights='uniform')"
      ]
     },
     "execution_count": 77,
     "metadata": {},
     "output_type": "execute_result"
    }
   ],
   "source": [
    "rs.best_estimator_"
   ]
  },
  {
   "cell_type": "code",
   "execution_count": null,
   "metadata": {},
   "outputs": [],
   "source": []
  }
 ],
 "metadata": {
  "kernelspec": {
   "display_name": "Python 3",
   "language": "python",
   "name": "python3"
  },
  "language_info": {
   "codemirror_mode": {
    "name": "ipython",
    "version": 3
   },
   "file_extension": ".py",
   "mimetype": "text/x-python",
   "name": "python",
   "nbconvert_exporter": "python",
   "pygments_lexer": "ipython3",
   "version": "3.7.4"
  }
 },
 "nbformat": 4,
 "nbformat_minor": 2
}
