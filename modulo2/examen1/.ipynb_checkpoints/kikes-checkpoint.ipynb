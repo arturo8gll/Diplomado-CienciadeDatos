{
 "cells": [
  {
   "cell_type": "code",
   "execution_count": 958,
   "metadata": {},
   "outputs": [],
   "source": [
    "import pandas as pd\n",
    "from sklearn.model_selection import cross_val_score\n",
    "from sklearn.linear_model import LinearRegression, Lars, ElasticNet, Lasso, Ridge, BayesianRidge\n",
    "\n",
    "%matplotlib inline\n",
    "import pygal\n",
    "import math\n",
    "import numpy as np\n",
    "from IPython.display import display, HTML\n",
    "base_html = \"\"\"\n",
    "<!DOCTYPE html>\n",
    "<html>\n",
    "  <head>\n",
    "  <script type=\"text/javascript\" src=\"http://kozea.github.com/pygal.js/javascripts/svg.jquery.js\"></script>\n",
    "  <script type=\"text/javascript\" src=\"https://kozea.github.io/pygal.js/2.0.x/pygal-tooltips.min.js\"\"></script>\n",
    "  </head>\n",
    "  <body>\n",
    "    <figure>\n",
    "      {rendered_chart}\n",
    "    </figure>\n",
    "  </body>\n",
    "</html>\n",
    "\"\"\""
   ]
  },
  {
   "cell_type": "code",
   "execution_count": 1074,
   "metadata": {},
   "outputs": [],
   "source": [
    "amt1_train=pd.read_csv('./Datos/train_PAY_AMT1.csv')\n",
    "amt1_val=pd.read_csv('./Datos/val_PAY_AMT1.csv')"
   ]
  },
  {
   "cell_type": "code",
   "execution_count": 1075,
   "metadata": {},
   "outputs": [
    {
     "data": {
      "text/html": [
       "<div>\n",
       "<style scoped>\n",
       "    .dataframe tbody tr th:only-of-type {\n",
       "        vertical-align: middle;\n",
       "    }\n",
       "\n",
       "    .dataframe tbody tr th {\n",
       "        vertical-align: top;\n",
       "    }\n",
       "\n",
       "    .dataframe thead th {\n",
       "        text-align: right;\n",
       "    }\n",
       "</style>\n",
       "<table border=\"1\" class=\"dataframe\">\n",
       "  <thead>\n",
       "    <tr style=\"text-align: right;\">\n",
       "      <th></th>\n",
       "      <th>ID</th>\n",
       "      <th>LIMIT_BAL</th>\n",
       "      <th>SEX</th>\n",
       "      <th>EDUCATION</th>\n",
       "      <th>MARRIAGE</th>\n",
       "      <th>AGE</th>\n",
       "      <th>PAY_0</th>\n",
       "      <th>PAY_2</th>\n",
       "      <th>PAY_3</th>\n",
       "      <th>PAY_4</th>\n",
       "      <th>...</th>\n",
       "      <th>BILL_AMT3</th>\n",
       "      <th>BILL_AMT4</th>\n",
       "      <th>BILL_AMT5</th>\n",
       "      <th>BILL_AMT6</th>\n",
       "      <th>PAY_AMT1</th>\n",
       "      <th>PAY_AMT2</th>\n",
       "      <th>PAY_AMT3</th>\n",
       "      <th>PAY_AMT4</th>\n",
       "      <th>PAY_AMT5</th>\n",
       "      <th>PAY_AMT6</th>\n",
       "    </tr>\n",
       "  </thead>\n",
       "  <tbody>\n",
       "    <tr>\n",
       "      <td>0</td>\n",
       "      <td>27942</td>\n",
       "      <td>200000.0</td>\n",
       "      <td>2</td>\n",
       "      <td>2</td>\n",
       "      <td>2</td>\n",
       "      <td>27</td>\n",
       "      <td>0</td>\n",
       "      <td>0</td>\n",
       "      <td>-1</td>\n",
       "      <td>-1</td>\n",
       "      <td>...</td>\n",
       "      <td>18834.0</td>\n",
       "      <td>0.0</td>\n",
       "      <td>0.0</td>\n",
       "      <td>0.0</td>\n",
       "      <td>5000.0</td>\n",
       "      <td>18834.0</td>\n",
       "      <td>60000.0</td>\n",
       "      <td>0.0</td>\n",
       "      <td>0.0</td>\n",
       "      <td>0.0</td>\n",
       "    </tr>\n",
       "    <tr>\n",
       "      <td>1</td>\n",
       "      <td>4342</td>\n",
       "      <td>50000.0</td>\n",
       "      <td>1</td>\n",
       "      <td>2</td>\n",
       "      <td>1</td>\n",
       "      <td>32</td>\n",
       "      <td>0</td>\n",
       "      <td>0</td>\n",
       "      <td>0</td>\n",
       "      <td>0</td>\n",
       "      <td>...</td>\n",
       "      <td>46919.0</td>\n",
       "      <td>17459.0</td>\n",
       "      <td>17825.0</td>\n",
       "      <td>18193.0</td>\n",
       "      <td>1998.0</td>\n",
       "      <td>3000.0</td>\n",
       "      <td>625.0</td>\n",
       "      <td>647.0</td>\n",
       "      <td>664.0</td>\n",
       "      <td>649.0</td>\n",
       "    </tr>\n",
       "    <tr>\n",
       "      <td>2</td>\n",
       "      <td>17333</td>\n",
       "      <td>50000.0</td>\n",
       "      <td>2</td>\n",
       "      <td>2</td>\n",
       "      <td>1</td>\n",
       "      <td>29</td>\n",
       "      <td>0</td>\n",
       "      <td>0</td>\n",
       "      <td>0</td>\n",
       "      <td>0</td>\n",
       "      <td>...</td>\n",
       "      <td>23122.0</td>\n",
       "      <td>24654.0</td>\n",
       "      <td>26365.0</td>\n",
       "      <td>25844.0</td>\n",
       "      <td>2000.0</td>\n",
       "      <td>2000.0</td>\n",
       "      <td>2000.0</td>\n",
       "      <td>2000.0</td>\n",
       "      <td>2000.0</td>\n",
       "      <td>2000.0</td>\n",
       "    </tr>\n",
       "    <tr>\n",
       "      <td>3</td>\n",
       "      <td>27601</td>\n",
       "      <td>100000.0</td>\n",
       "      <td>2</td>\n",
       "      <td>1</td>\n",
       "      <td>2</td>\n",
       "      <td>28</td>\n",
       "      <td>0</td>\n",
       "      <td>0</td>\n",
       "      <td>0</td>\n",
       "      <td>0</td>\n",
       "      <td>...</td>\n",
       "      <td>13534.0</td>\n",
       "      <td>16158.0</td>\n",
       "      <td>6700.0</td>\n",
       "      <td>7730.0</td>\n",
       "      <td>5800.0</td>\n",
       "      <td>6000.0</td>\n",
       "      <td>4375.0</td>\n",
       "      <td>6700.0</td>\n",
       "      <td>3000.0</td>\n",
       "      <td>0.0</td>\n",
       "    </tr>\n",
       "    <tr>\n",
       "      <td>4</td>\n",
       "      <td>23311</td>\n",
       "      <td>20000.0</td>\n",
       "      <td>2</td>\n",
       "      <td>2</td>\n",
       "      <td>1</td>\n",
       "      <td>46</td>\n",
       "      <td>1</td>\n",
       "      <td>2</td>\n",
       "      <td>0</td>\n",
       "      <td>0</td>\n",
       "      <td>...</td>\n",
       "      <td>3800.0</td>\n",
       "      <td>0.0</td>\n",
       "      <td>0.0</td>\n",
       "      <td>0.0</td>\n",
       "      <td>0.0</td>\n",
       "      <td>1000.0</td>\n",
       "      <td>0.0</td>\n",
       "      <td>0.0</td>\n",
       "      <td>0.0</td>\n",
       "      <td>0.0</td>\n",
       "    </tr>\n",
       "    <tr>\n",
       "      <td>...</td>\n",
       "      <td>...</td>\n",
       "      <td>...</td>\n",
       "      <td>...</td>\n",
       "      <td>...</td>\n",
       "      <td>...</td>\n",
       "      <td>...</td>\n",
       "      <td>...</td>\n",
       "      <td>...</td>\n",
       "      <td>...</td>\n",
       "      <td>...</td>\n",
       "      <td>...</td>\n",
       "      <td>...</td>\n",
       "      <td>...</td>\n",
       "      <td>...</td>\n",
       "      <td>...</td>\n",
       "      <td>...</td>\n",
       "      <td>...</td>\n",
       "      <td>...</td>\n",
       "      <td>...</td>\n",
       "      <td>...</td>\n",
       "      <td>...</td>\n",
       "    </tr>\n",
       "    <tr>\n",
       "      <td>20995</td>\n",
       "      <td>5907</td>\n",
       "      <td>50000.0</td>\n",
       "      <td>2</td>\n",
       "      <td>2</td>\n",
       "      <td>1</td>\n",
       "      <td>46</td>\n",
       "      <td>0</td>\n",
       "      <td>0</td>\n",
       "      <td>0</td>\n",
       "      <td>0</td>\n",
       "      <td>...</td>\n",
       "      <td>49222.0</td>\n",
       "      <td>29291.0</td>\n",
       "      <td>29391.0</td>\n",
       "      <td>29826.0</td>\n",
       "      <td>2438.0</td>\n",
       "      <td>2200.0</td>\n",
       "      <td>1187.0</td>\n",
       "      <td>1213.0</td>\n",
       "      <td>1073.0</td>\n",
       "      <td>1066.0</td>\n",
       "    </tr>\n",
       "    <tr>\n",
       "      <td>20996</td>\n",
       "      <td>24224</td>\n",
       "      <td>580000.0</td>\n",
       "      <td>1</td>\n",
       "      <td>1</td>\n",
       "      <td>2</td>\n",
       "      <td>32</td>\n",
       "      <td>-1</td>\n",
       "      <td>0</td>\n",
       "      <td>0</td>\n",
       "      <td>0</td>\n",
       "      <td>...</td>\n",
       "      <td>38111.0</td>\n",
       "      <td>33497.0</td>\n",
       "      <td>26800.0</td>\n",
       "      <td>22202.0</td>\n",
       "      <td>11686.0</td>\n",
       "      <td>8348.0</td>\n",
       "      <td>6593.0</td>\n",
       "      <td>7197.0</td>\n",
       "      <td>10097.0</td>\n",
       "      <td>133081.0</td>\n",
       "    </tr>\n",
       "    <tr>\n",
       "      <td>20997</td>\n",
       "      <td>21561</td>\n",
       "      <td>50000.0</td>\n",
       "      <td>2</td>\n",
       "      <td>2</td>\n",
       "      <td>2</td>\n",
       "      <td>23</td>\n",
       "      <td>1</td>\n",
       "      <td>-1</td>\n",
       "      <td>0</td>\n",
       "      <td>0</td>\n",
       "      <td>...</td>\n",
       "      <td>6175.0</td>\n",
       "      <td>10000.0</td>\n",
       "      <td>1952.0</td>\n",
       "      <td>406.0</td>\n",
       "      <td>5896.0</td>\n",
       "      <td>2006.0</td>\n",
       "      <td>5074.0</td>\n",
       "      <td>1300.0</td>\n",
       "      <td>406.0</td>\n",
       "      <td>0.0</td>\n",
       "    </tr>\n",
       "    <tr>\n",
       "      <td>20998</td>\n",
       "      <td>20874</td>\n",
       "      <td>200000.0</td>\n",
       "      <td>1</td>\n",
       "      <td>1</td>\n",
       "      <td>2</td>\n",
       "      <td>33</td>\n",
       "      <td>0</td>\n",
       "      <td>0</td>\n",
       "      <td>0</td>\n",
       "      <td>2</td>\n",
       "      <td>...</td>\n",
       "      <td>62286.0</td>\n",
       "      <td>61305.0</td>\n",
       "      <td>62846.0</td>\n",
       "      <td>42634.0</td>\n",
       "      <td>5000.0</td>\n",
       "      <td>5700.0</td>\n",
       "      <td>2000.0</td>\n",
       "      <td>3000.0</td>\n",
       "      <td>2000.0</td>\n",
       "      <td>1000.0</td>\n",
       "    </tr>\n",
       "    <tr>\n",
       "      <td>20999</td>\n",
       "      <td>25408</td>\n",
       "      <td>150000.0</td>\n",
       "      <td>2</td>\n",
       "      <td>2</td>\n",
       "      <td>1</td>\n",
       "      <td>24</td>\n",
       "      <td>1</td>\n",
       "      <td>-1</td>\n",
       "      <td>-1</td>\n",
       "      <td>-1</td>\n",
       "      <td>...</td>\n",
       "      <td>8004.0</td>\n",
       "      <td>521.0</td>\n",
       "      <td>3776.0</td>\n",
       "      <td>165.0</td>\n",
       "      <td>16924.0</td>\n",
       "      <td>8004.0</td>\n",
       "      <td>521.0</td>\n",
       "      <td>3776.0</td>\n",
       "      <td>165.0</td>\n",
       "      <td>356.0</td>\n",
       "    </tr>\n",
       "  </tbody>\n",
       "</table>\n",
       "<p>21000 rows × 23 columns</p>\n",
       "</div>"
      ],
      "text/plain": [
       "          ID  LIMIT_BAL  SEX  EDUCATION  MARRIAGE  AGE  PAY_0  PAY_2  PAY_3  \\\n",
       "0      27942   200000.0    2          2         2   27      0      0     -1   \n",
       "1       4342    50000.0    1          2         1   32      0      0      0   \n",
       "2      17333    50000.0    2          2         1   29      0      0      0   \n",
       "3      27601   100000.0    2          1         2   28      0      0      0   \n",
       "4      23311    20000.0    2          2         1   46      1      2      0   \n",
       "...      ...        ...  ...        ...       ...  ...    ...    ...    ...   \n",
       "20995   5907    50000.0    2          2         1   46      0      0      0   \n",
       "20996  24224   580000.0    1          1         2   32     -1      0      0   \n",
       "20997  21561    50000.0    2          2         2   23      1     -1      0   \n",
       "20998  20874   200000.0    1          1         2   33      0      0      0   \n",
       "20999  25408   150000.0    2          2         1   24      1     -1     -1   \n",
       "\n",
       "       PAY_4  ...  BILL_AMT3  BILL_AMT4  BILL_AMT5  BILL_AMT6  PAY_AMT1  \\\n",
       "0         -1  ...    18834.0        0.0        0.0        0.0    5000.0   \n",
       "1          0  ...    46919.0    17459.0    17825.0    18193.0    1998.0   \n",
       "2          0  ...    23122.0    24654.0    26365.0    25844.0    2000.0   \n",
       "3          0  ...    13534.0    16158.0     6700.0     7730.0    5800.0   \n",
       "4          0  ...     3800.0        0.0        0.0        0.0       0.0   \n",
       "...      ...  ...        ...        ...        ...        ...       ...   \n",
       "20995      0  ...    49222.0    29291.0    29391.0    29826.0    2438.0   \n",
       "20996      0  ...    38111.0    33497.0    26800.0    22202.0   11686.0   \n",
       "20997      0  ...     6175.0    10000.0     1952.0      406.0    5896.0   \n",
       "20998      2  ...    62286.0    61305.0    62846.0    42634.0    5000.0   \n",
       "20999     -1  ...     8004.0      521.0     3776.0      165.0   16924.0   \n",
       "\n",
       "       PAY_AMT2  PAY_AMT3  PAY_AMT4  PAY_AMT5  PAY_AMT6  \n",
       "0       18834.0   60000.0       0.0       0.0       0.0  \n",
       "1        3000.0     625.0     647.0     664.0     649.0  \n",
       "2        2000.0    2000.0    2000.0    2000.0    2000.0  \n",
       "3        6000.0    4375.0    6700.0    3000.0       0.0  \n",
       "4        1000.0       0.0       0.0       0.0       0.0  \n",
       "...         ...       ...       ...       ...       ...  \n",
       "20995    2200.0    1187.0    1213.0    1073.0    1066.0  \n",
       "20996    8348.0    6593.0    7197.0   10097.0  133081.0  \n",
       "20997    2006.0    5074.0    1300.0     406.0       0.0  \n",
       "20998    5700.0    2000.0    3000.0    2000.0    1000.0  \n",
       "20999    8004.0     521.0    3776.0     165.0     356.0  \n",
       "\n",
       "[21000 rows x 23 columns]"
      ]
     },
     "execution_count": 1075,
     "metadata": {},
     "output_type": "execute_result"
    }
   ],
   "source": [
    "amt1_train"
   ]
  },
  {
   "cell_type": "code",
   "execution_count": 1076,
   "metadata": {},
   "outputs": [
    {
     "data": {
      "text/plain": [
       "Index(['ID', 'LIMIT_BAL', 'SEX', 'EDUCATION', 'MARRIAGE', 'AGE', 'PAY_0',\n",
       "       'PAY_2', 'PAY_3', 'PAY_4', 'PAY_5', 'PAY_6', 'BILL_AMT2', 'BILL_AMT3',\n",
       "       'BILL_AMT4', 'BILL_AMT5', 'BILL_AMT6', 'PAY_AMT1', 'PAY_AMT2',\n",
       "       'PAY_AMT3', 'PAY_AMT4', 'PAY_AMT5', 'PAY_AMT6'],\n",
       "      dtype='object')"
      ]
     },
     "execution_count": 1076,
     "metadata": {},
     "output_type": "execute_result"
    }
   ],
   "source": [
    "amt1_train.columns"
   ]
  },
  {
   "cell_type": "code",
   "execution_count": 1077,
   "metadata": {},
   "outputs": [],
   "source": [
    "def plot_hist(df,value,route=\"\"):\n",
    "    info=df[value].describe()\n",
    "    r=info[\"max\"]-info[\"min\"]\n",
    "    k=math.ceil(1+3.322*math.log10(info[\"count\"]))\n",
    "    a=int(round(r/k))\n",
    "    ranges=[]\n",
    "    for i in range(int(info[\"min\"]),int(info[\"max\"]+2),a):\n",
    "        ranges.append(i)\n",
    "    aux=np.histogram(df[value], bins=ranges)\n",
    "    histograma=[]\n",
    "    for i in range(len(aux[0])):\n",
    "        histograma.append([aux[0][i],aux[1][i],aux[1][i+1]])\n",
    "    hist = pygal.Histogram()\n",
    "    hist.add(value,histograma)\n",
    "    if route!='':\n",
    "        return hist.render_to_png(route)\n",
    "    display(HTML(base_html.format(rendered_chart=hist.render(is_unicode=True))))"
   ]
  },
  {
   "cell_type": "code",
   "execution_count": 1078,
   "metadata": {},
   "outputs": [
    {
     "data": {
      "text/html": [
       "\n",
       "<!DOCTYPE html>\n",
       "<html>\n",
       "  <head>\n",
       "  <script type=\"text/javascript\" src=\"http://kozea.github.com/pygal.js/javascripts/svg.jquery.js\"></script>\n",
       "  <script type=\"text/javascript\" src=\"https://kozea.github.io/pygal.js/2.0.x/pygal-tooltips.min.js\"\"></script>\n",
       "  </head>\n",
       "  <body>\n",
       "    <figure>\n",
       "      <?xml version='1.0' encoding='utf-8'?>\n",
       "<svg xmlns:xlink=\"http://www.w3.org/1999/xlink\" class=\"pygal-chart\" id=\"chart-6aac8789-3e41-4d12-ac27-005864ac1de8\" viewBox=\"0 0 800 600\" xmlns=\"http://www.w3.org/2000/svg\"><!--Generated with pygal 2.4.0 (etree) ©Kozea 2012-2016 on 2019-10-24--><!--http://pygal.org--><!--http://github.com/Kozea/pygal--><defs><style type=\"text/css\">#chart-6aac8789-3e41-4d12-ac27-005864ac1de8{-webkit-user-select:none;-webkit-font-smoothing:antialiased;font-family:Consolas,\"Liberation Mono\",Menlo,Courier,monospace}#chart-6aac8789-3e41-4d12-ac27-005864ac1de8 .title{font-family:Consolas,\"Liberation Mono\",Menlo,Courier,monospace;font-size:16px}#chart-6aac8789-3e41-4d12-ac27-005864ac1de8 .legends .legend text{font-family:Consolas,\"Liberation Mono\",Menlo,Courier,monospace;font-size:14px}#chart-6aac8789-3e41-4d12-ac27-005864ac1de8 .axis text{font-family:Consolas,\"Liberation Mono\",Menlo,Courier,monospace;font-size:10px}#chart-6aac8789-3e41-4d12-ac27-005864ac1de8 .axis text.major{font-family:Consolas,\"Liberation Mono\",Menlo,Courier,monospace;font-size:10px}#chart-6aac8789-3e41-4d12-ac27-005864ac1de8 .text-overlay text.value{font-family:Consolas,\"Liberation Mono\",Menlo,Courier,monospace;font-size:16px}#chart-6aac8789-3e41-4d12-ac27-005864ac1de8 .text-overlay text.label{font-family:Consolas,\"Liberation Mono\",Menlo,Courier,monospace;font-size:10px}#chart-6aac8789-3e41-4d12-ac27-005864ac1de8 .tooltip{font-family:Consolas,\"Liberation Mono\",Menlo,Courier,monospace;font-size:14px}#chart-6aac8789-3e41-4d12-ac27-005864ac1de8 text.no_data{font-family:Consolas,\"Liberation Mono\",Menlo,Courier,monospace;font-size:64px}\n",
       "#chart-6aac8789-3e41-4d12-ac27-005864ac1de8{background-color:rgba(249,249,249,1)}#chart-6aac8789-3e41-4d12-ac27-005864ac1de8 path,#chart-6aac8789-3e41-4d12-ac27-005864ac1de8 line,#chart-6aac8789-3e41-4d12-ac27-005864ac1de8 rect,#chart-6aac8789-3e41-4d12-ac27-005864ac1de8 circle{-webkit-transition:150ms;-moz-transition:150ms;transition:150ms}#chart-6aac8789-3e41-4d12-ac27-005864ac1de8 .graph &gt; .background{fill:rgba(249,249,249,1)}#chart-6aac8789-3e41-4d12-ac27-005864ac1de8 .plot &gt; .background{fill:rgba(255,255,255,1)}#chart-6aac8789-3e41-4d12-ac27-005864ac1de8 .graph{fill:rgba(0,0,0,.87)}#chart-6aac8789-3e41-4d12-ac27-005864ac1de8 text.no_data{fill:rgba(0,0,0,1)}#chart-6aac8789-3e41-4d12-ac27-005864ac1de8 .title{fill:rgba(0,0,0,1)}#chart-6aac8789-3e41-4d12-ac27-005864ac1de8 .legends .legend text{fill:rgba(0,0,0,.87)}#chart-6aac8789-3e41-4d12-ac27-005864ac1de8 .legends .legend:hover text{fill:rgba(0,0,0,1)}#chart-6aac8789-3e41-4d12-ac27-005864ac1de8 .axis .line{stroke:rgba(0,0,0,1)}#chart-6aac8789-3e41-4d12-ac27-005864ac1de8 .axis .guide.line{stroke:rgba(0,0,0,.54)}#chart-6aac8789-3e41-4d12-ac27-005864ac1de8 .axis .major.line{stroke:rgba(0,0,0,.87)}#chart-6aac8789-3e41-4d12-ac27-005864ac1de8 .axis text.major{fill:rgba(0,0,0,1)}#chart-6aac8789-3e41-4d12-ac27-005864ac1de8 .axis.y .guides:hover .guide.line,#chart-6aac8789-3e41-4d12-ac27-005864ac1de8 .line-graph .axis.x .guides:hover .guide.line,#chart-6aac8789-3e41-4d12-ac27-005864ac1de8 .stackedline-graph .axis.x .guides:hover .guide.line,#chart-6aac8789-3e41-4d12-ac27-005864ac1de8 .xy-graph .axis.x .guides:hover .guide.line{stroke:rgba(0,0,0,1)}#chart-6aac8789-3e41-4d12-ac27-005864ac1de8 .axis .guides:hover text{fill:rgba(0,0,0,1)}#chart-6aac8789-3e41-4d12-ac27-005864ac1de8 .reactive{fill-opacity:.7;stroke-opacity:.8}#chart-6aac8789-3e41-4d12-ac27-005864ac1de8 .ci{stroke:rgba(0,0,0,.87)}#chart-6aac8789-3e41-4d12-ac27-005864ac1de8 .reactive.active,#chart-6aac8789-3e41-4d12-ac27-005864ac1de8 .active .reactive{fill-opacity:.8;stroke-opacity:.9;stroke-width:4}#chart-6aac8789-3e41-4d12-ac27-005864ac1de8 .ci .reactive.active{stroke-width:1.5}#chart-6aac8789-3e41-4d12-ac27-005864ac1de8 .series text{fill:rgba(0,0,0,1)}#chart-6aac8789-3e41-4d12-ac27-005864ac1de8 .tooltip rect{fill:rgba(255,255,255,1);stroke:rgba(0,0,0,1);-webkit-transition:opacity 150ms;-moz-transition:opacity 150ms;transition:opacity 150ms}#chart-6aac8789-3e41-4d12-ac27-005864ac1de8 .tooltip .label{fill:rgba(0,0,0,.87)}#chart-6aac8789-3e41-4d12-ac27-005864ac1de8 .tooltip .label{fill:rgba(0,0,0,.87)}#chart-6aac8789-3e41-4d12-ac27-005864ac1de8 .tooltip .legend{font-size:.8em;fill:rgba(0,0,0,.54)}#chart-6aac8789-3e41-4d12-ac27-005864ac1de8 .tooltip .x_label{font-size:.6em;fill:rgba(0,0,0,1)}#chart-6aac8789-3e41-4d12-ac27-005864ac1de8 .tooltip .xlink{font-size:.5em;text-decoration:underline}#chart-6aac8789-3e41-4d12-ac27-005864ac1de8 .tooltip .value{font-size:1.5em}#chart-6aac8789-3e41-4d12-ac27-005864ac1de8 .bound{font-size:.5em}#chart-6aac8789-3e41-4d12-ac27-005864ac1de8 .max-value{font-size:.75em;fill:rgba(0,0,0,.54)}#chart-6aac8789-3e41-4d12-ac27-005864ac1de8 .map-element{fill:rgba(255,255,255,1);stroke:rgba(0,0,0,.54) !important}#chart-6aac8789-3e41-4d12-ac27-005864ac1de8 .map-element .reactive{fill-opacity:inherit;stroke-opacity:inherit}#chart-6aac8789-3e41-4d12-ac27-005864ac1de8 .color-0,#chart-6aac8789-3e41-4d12-ac27-005864ac1de8 .color-0 a:visited{stroke:#F44336;fill:#F44336}#chart-6aac8789-3e41-4d12-ac27-005864ac1de8 .text-overlay .color-0 text{fill:black}\n",
       "#chart-6aac8789-3e41-4d12-ac27-005864ac1de8 text.no_data{text-anchor:middle}#chart-6aac8789-3e41-4d12-ac27-005864ac1de8 .guide.line{fill:none}#chart-6aac8789-3e41-4d12-ac27-005864ac1de8 .centered{text-anchor:middle}#chart-6aac8789-3e41-4d12-ac27-005864ac1de8 .title{text-anchor:middle}#chart-6aac8789-3e41-4d12-ac27-005864ac1de8 .legends .legend text{fill-opacity:1}#chart-6aac8789-3e41-4d12-ac27-005864ac1de8 .axis.x text{text-anchor:middle}#chart-6aac8789-3e41-4d12-ac27-005864ac1de8 .axis.x:not(.web) text[transform]{text-anchor:start}#chart-6aac8789-3e41-4d12-ac27-005864ac1de8 .axis.x:not(.web) text[transform].backwards{text-anchor:end}#chart-6aac8789-3e41-4d12-ac27-005864ac1de8 .axis.y text{text-anchor:end}#chart-6aac8789-3e41-4d12-ac27-005864ac1de8 .axis.y text[transform].backwards{text-anchor:start}#chart-6aac8789-3e41-4d12-ac27-005864ac1de8 .axis.y2 text{text-anchor:start}#chart-6aac8789-3e41-4d12-ac27-005864ac1de8 .axis.y2 text[transform].backwards{text-anchor:end}#chart-6aac8789-3e41-4d12-ac27-005864ac1de8 .axis .guide.line{stroke-dasharray:4,4}#chart-6aac8789-3e41-4d12-ac27-005864ac1de8 .axis .major.guide.line{stroke-dasharray:6,6}#chart-6aac8789-3e41-4d12-ac27-005864ac1de8 .horizontal .axis.y .guide.line,#chart-6aac8789-3e41-4d12-ac27-005864ac1de8 .horizontal .axis.y2 .guide.line,#chart-6aac8789-3e41-4d12-ac27-005864ac1de8 .vertical .axis.x .guide.line{opacity:0}#chart-6aac8789-3e41-4d12-ac27-005864ac1de8 .horizontal .axis.always_show .guide.line,#chart-6aac8789-3e41-4d12-ac27-005864ac1de8 .vertical .axis.always_show .guide.line{opacity:1 !important}#chart-6aac8789-3e41-4d12-ac27-005864ac1de8 .axis.y .guides:hover .guide.line,#chart-6aac8789-3e41-4d12-ac27-005864ac1de8 .axis.y2 .guides:hover .guide.line,#chart-6aac8789-3e41-4d12-ac27-005864ac1de8 .axis.x .guides:hover .guide.line{opacity:1}#chart-6aac8789-3e41-4d12-ac27-005864ac1de8 .axis .guides:hover text{opacity:1}#chart-6aac8789-3e41-4d12-ac27-005864ac1de8 .nofill{fill:none}#chart-6aac8789-3e41-4d12-ac27-005864ac1de8 .subtle-fill{fill-opacity:.2}#chart-6aac8789-3e41-4d12-ac27-005864ac1de8 .dot{stroke-width:1px;fill-opacity:1}#chart-6aac8789-3e41-4d12-ac27-005864ac1de8 .dot.active{stroke-width:5px}#chart-6aac8789-3e41-4d12-ac27-005864ac1de8 .dot.negative{fill:transparent}#chart-6aac8789-3e41-4d12-ac27-005864ac1de8 text,#chart-6aac8789-3e41-4d12-ac27-005864ac1de8 tspan{stroke:none !important}#chart-6aac8789-3e41-4d12-ac27-005864ac1de8 .series text.active{opacity:1}#chart-6aac8789-3e41-4d12-ac27-005864ac1de8 .tooltip rect{fill-opacity:.95;stroke-width:.5}#chart-6aac8789-3e41-4d12-ac27-005864ac1de8 .tooltip text{fill-opacity:1}#chart-6aac8789-3e41-4d12-ac27-005864ac1de8 .showable{visibility:hidden}#chart-6aac8789-3e41-4d12-ac27-005864ac1de8 .showable.shown{visibility:visible}#chart-6aac8789-3e41-4d12-ac27-005864ac1de8 .gauge-background{fill:rgba(229,229,229,1);stroke:none}#chart-6aac8789-3e41-4d12-ac27-005864ac1de8 .bg-lines{stroke:rgba(249,249,249,1);stroke-width:2px}</style><script type=\"text/javascript\">window.pygal = window.pygal || {};window.pygal.config = window.pygal.config || {};window.pygal.config['6aac8789-3e41-4d12-ac27-005864ac1de8'] = {\"allow_interruptions\": false, \"box_mode\": \"extremes\", \"classes\": [\"pygal-chart\"], \"css\": [\"file://style.css\", \"file://graph.css\"], \"defs\": [], \"disable_xml_declaration\": false, \"dots_size\": 2.5, \"dynamic_print_values\": false, \"explicit_size\": false, \"fill\": false, \"force_uri_protocol\": \"https\", \"formatter\": null, \"half_pie\": false, \"height\": 600, \"include_x_axis\": false, \"inner_radius\": 0, \"interpolate\": null, \"interpolation_parameters\": {}, \"interpolation_precision\": 250, \"inverse_y_axis\": false, \"js\": [\"//kozea.github.io/pygal.js/2.0.x/pygal-tooltips.min.js\"], \"legend_at_bottom\": false, \"legend_at_bottom_columns\": null, \"legend_box_size\": 12, \"logarithmic\": false, \"margin\": 20, \"margin_bottom\": null, \"margin_left\": null, \"margin_right\": null, \"margin_top\": null, \"max_scale\": 16, \"min_scale\": 4, \"missing_value_fill_truncation\": \"x\", \"no_data_text\": \"No data\", \"no_prefix\": false, \"order_min\": null, \"pretty_print\": false, \"print_labels\": false, \"print_values\": false, \"print_values_position\": \"center\", \"print_zeroes\": true, \"range\": null, \"rounded_bars\": null, \"secondary_range\": null, \"show_dots\": true, \"show_legend\": true, \"show_minor_x_labels\": true, \"show_minor_y_labels\": true, \"show_only_major_dots\": false, \"show_x_guides\": false, \"show_x_labels\": true, \"show_y_guides\": true, \"show_y_labels\": true, \"spacing\": 10, \"stack_from_top\": false, \"strict\": false, \"stroke\": true, \"stroke_style\": null, \"style\": {\"background\": \"rgba(249, 249, 249, 1)\", \"ci_colors\": [], \"colors\": [\"#F44336\", \"#3F51B5\", \"#009688\", \"#FFC107\", \"#FF5722\", \"#9C27B0\", \"#03A9F4\", \"#8BC34A\", \"#FF9800\", \"#E91E63\", \"#2196F3\", \"#4CAF50\", \"#FFEB3B\", \"#673AB7\", \"#00BCD4\", \"#CDDC39\", \"#9E9E9E\", \"#607D8B\"], \"font_family\": \"Consolas, \\\"Liberation Mono\\\", Menlo, Courier, monospace\", \"foreground\": \"rgba(0, 0, 0, .87)\", \"foreground_strong\": \"rgba(0, 0, 0, 1)\", \"foreground_subtle\": \"rgba(0, 0, 0, .54)\", \"guide_stroke_dasharray\": \"4,4\", \"label_font_family\": \"Consolas, \\\"Liberation Mono\\\", Menlo, Courier, monospace\", \"label_font_size\": 10, \"legend_font_family\": \"Consolas, \\\"Liberation Mono\\\", Menlo, Courier, monospace\", \"legend_font_size\": 14, \"major_guide_stroke_dasharray\": \"6,6\", \"major_label_font_family\": \"Consolas, \\\"Liberation Mono\\\", Menlo, Courier, monospace\", \"major_label_font_size\": 10, \"no_data_font_family\": \"Consolas, \\\"Liberation Mono\\\", Menlo, Courier, monospace\", \"no_data_font_size\": 64, \"opacity\": \".7\", \"opacity_hover\": \".8\", \"plot_background\": \"rgba(255, 255, 255, 1)\", \"stroke_opacity\": \".8\", \"stroke_opacity_hover\": \".9\", \"title_font_family\": \"Consolas, \\\"Liberation Mono\\\", Menlo, Courier, monospace\", \"title_font_size\": 16, \"tooltip_font_family\": \"Consolas, \\\"Liberation Mono\\\", Menlo, Courier, monospace\", \"tooltip_font_size\": 14, \"transition\": \"150ms\", \"value_background\": \"rgba(229, 229, 229, 1)\", \"value_colors\": [], \"value_font_family\": \"Consolas, \\\"Liberation Mono\\\", Menlo, Courier, monospace\", \"value_font_size\": 16, \"value_label_font_family\": \"Consolas, \\\"Liberation Mono\\\", Menlo, Courier, monospace\", \"value_label_font_size\": 10}, \"title\": null, \"tooltip_border_radius\": 0, \"tooltip_fancy_mode\": true, \"truncate_label\": null, \"truncate_legend\": null, \"width\": 800, \"x_label_rotation\": 0, \"x_labels\": null, \"x_labels_major\": null, \"x_labels_major_count\": null, \"x_labels_major_every\": null, \"x_title\": null, \"xrange\": null, \"y_label_rotation\": 0, \"y_labels\": null, \"y_labels_major\": null, \"y_labels_major_count\": null, \"y_labels_major_every\": null, \"y_title\": null, \"zero\": 0, \"legends\": [\"PAY_AMT3\"]}</script><script type=\"text/javascript\" xlink:href=\"https://kozea.github.io/pygal.js/2.0.x/pygal-tooltips.min.js\" /></defs><title>Pygal</title><g class=\"graph histogram-graph vertical\"><rect class=\"background\" height=\"600\" width=\"800\" x=\"0\" y=\"0\" /><g class=\"plot\" transform=\"translate(149, 20)\"><rect class=\"background\" height=\"540\" width=\"630.8\" x=\"0\" y=\"0\" /><g class=\"axis y always_show\"><g class=\"guides\"><path class=\"axis major line\" d=\"M0.000000 529.615385 h630.800000\" /><text class=\"major\" x=\"-5\" y=\"533.1153846153846\">0</text><title>0</title></g><g class=\"guides\"><path class=\"guide line\" d=\"M0.000000 492.871292 h630.800000\" /><text class=\"\" x=\"-5\" y=\"496.3712922489018\">1000</text><title>1000</title></g><g class=\"guides\"><path class=\"guide line\" d=\"M0.000000 456.127200 h630.800000\" /><text class=\"\" x=\"-5\" y=\"459.6271998824189\">2000</text><title>2000</title></g><g class=\"guides\"><path class=\"guide line\" d=\"M0.000000 419.383108 h630.800000\" /><text class=\"\" x=\"-5\" y=\"422.88310751593605\">3000</text><title>3000</title></g><g class=\"guides\"><path class=\"guide line\" d=\"M0.000000 382.639015 h630.800000\" /><text class=\"\" x=\"-5\" y=\"386.13901514945326\">4000</text><title>4000</title></g><g class=\"guides\"><path class=\"major guide line\" d=\"M0.000000 345.894923 h630.800000\" /><text class=\"major\" x=\"-5\" y=\"349.3949227829704\">5000</text><title>5000</title></g><g class=\"guides\"><path class=\"guide line\" d=\"M0.000000 309.150830 h630.800000\" /><text class=\"\" x=\"-5\" y=\"312.6508304164875\">6000</text><title>6000</title></g><g class=\"guides\"><path class=\"guide line\" d=\"M0.000000 272.406738 h630.800000\" /><text class=\"\" x=\"-5\" y=\"275.90673805000466\">7000</text><title>7000</title></g><g class=\"guides\"><path class=\"guide line\" d=\"M0.000000 235.662646 h630.800000\" /><text class=\"\" x=\"-5\" y=\"239.16264568352176\">8000</text><title>8000</title></g><g class=\"guides\"><path class=\"guide line\" d=\"M0.000000 198.918553 h630.800000\" /><text class=\"\" x=\"-5\" y=\"202.4185533170389\">9000</text><title>9000</title></g><g class=\"guides\"><path class=\"major guide line\" d=\"M0.000000 162.174461 h630.800000\" /><text class=\"major\" x=\"-5\" y=\"165.67446095055607\">10000</text><title>10000</title></g><g class=\"guides\"><path class=\"guide line\" d=\"M0.000000 125.430369 h630.800000\" /><text class=\"\" x=\"-5\" y=\"128.93036858407322\">11000</text><title>11000</title></g><g class=\"guides\"><path class=\"guide line\" d=\"M0.000000 88.686276 h630.800000\" /><text class=\"\" x=\"-5\" y=\"92.18627621759038\">12000</text><title>12000</title></g><g class=\"guides\"><path class=\"guide line\" d=\"M0.000000 51.942184 h630.800000\" /><text class=\"\" x=\"-5\" y=\"55.44218385110747\">13000</text><title>13000</title></g><g class=\"guides\"><path class=\"guide line\" d=\"M0.000000 15.198091 h630.800000\" /><text class=\"\" x=\"-5\" y=\"18.698091484624683\">14000</text><title>14000</title></g></g><g class=\"axis x\"><g class=\"guides\"><path class=\"axis line\" d=\"M12.130769 0.000000 v540.000000\" /><text class=\"\" x=\"12.13076923076923\" y=\"555.0\">0</text><title>0</title></g><g class=\"guides\"><path class=\"guide line\" d=\"M129.745363 0.000000 v540.000000\" /><text class=\"\" x=\"129.74536328515384\" y=\"555.0\">10000</text><title>10000</title></g><g class=\"guides\"><path class=\"guide line\" d=\"M247.359957 0.000000 v540.000000\" /><text class=\"\" x=\"247.35995733953845\" y=\"555.0\">20000</text><title>20000</title></g><g class=\"guides\"><path class=\"guide line\" d=\"M364.974551 0.000000 v540.000000\" /><text class=\"\" x=\"364.9745513939231\" y=\"555.0\">30000</text><title>30000</title></g><g class=\"guides\"><path class=\"guide line\" d=\"M482.589145 0.000000 v540.000000\" /><text class=\"\" x=\"482.5891454483077\" y=\"555.0\">40000</text><title>40000</title></g><g class=\"guides\"><path class=\"guide line\" d=\"M600.203740 0.000000 v540.000000\" /><text class=\"\" x=\"600.2037395026923\" y=\"555.0\">50000</text><title>50000</title></g></g><g class=\"series serie-0 color-0\"><g class=\"histbars\"><g class=\"histbar\"><rect class=\"rect reactive tooltip-trigger\" height=\"519.2307692307693\" rx=\"0\" ry=\"0\" width=\"40.435897435897424\" x=\"12.13076923076923\" y=\"10.384615384615358\" /><desc class=\"value\">14131: 0</desc><desc class=\"x centered\">32.34871794871794</desc><desc class=\"y centered\">270.0</desc></g><g class=\"histbar\"><rect class=\"rect reactive tooltip-trigger\" height=\"107.54995835669536\" rx=\"0\" ry=\"0\" width=\"40.435897435897424\" x=\"52.566666666666656\" y=\"422.0654262586893\" /><desc class=\"value\">2927: 3438</desc><desc class=\"x centered\">72.78461538461536</desc><desc class=\"y centered\">475.84040543703696</desc></g><g class=\"histbar\"><rect class=\"rect reactive tooltip-trigger\" height=\"32.81247448326923\" rx=\"0\" ry=\"0\" width=\"40.435897435897445\" x=\"93.00256410256408\" y=\"496.8029101321154\" /><desc class=\"value\">893: 6876</desc><desc class=\"x centered\">113.2205128205128</desc><desc class=\"y centered\">513.20914737375</desc></g><g class=\"histbar\"><rect class=\"rect reactive tooltip-trigger\" height=\"11.537645003075681\" rx=\"0\" ry=\"0\" width=\"40.43589743589743\" x=\"133.43846153846152\" y=\"518.077739612309\" /><desc class=\"value\">314: 10314</desc><desc class=\"x centered\">153.65641025641025</desc><desc class=\"y centered\">523.8465621138469</desc></g><g class=\"histbar\"><rect class=\"rect reactive tooltip-trigger\" height=\"8.193932597725734\" rx=\"0\" ry=\"0\" width=\"40.43589743589743\" x=\"173.87435897435896\" y=\"521.4214520176589\" /><desc class=\"value\">223: 13752</desc><desc class=\"x centered\">194.09230769230766</desc><desc class=\"y centered\">525.5184183165218</desc></g><g class=\"histbar\"><rect class=\"rect reactive tooltip-trigger\" height=\"7.312074380930085\" rx=\"0\" ry=\"0\" width=\"40.43589743589743\" x=\"214.3102564102564\" y=\"522.3033102344546\" /><desc class=\"value\">199: 17190</desc><desc class=\"x centered\">234.52820512820512</desc><desc class=\"y centered\">525.9593474249195</desc></g><g class=\"histbar\"><rect class=\"rect reactive tooltip-trigger\" height=\"3.159991943517525\" rx=\"0\" ry=\"0\" width=\"40.43589743589743\" x=\"254.74615384615382\" y=\"526.4553926718671\" /><desc class=\"value\">86: 20628</desc><desc class=\"x centered\">274.9641025641025</desc><desc class=\"y centered\">528.0353886436259</desc></g><g class=\"histbar\"><rect class=\"rect reactive tooltip-trigger\" height=\"2.866039204585718\" rx=\"0\" ry=\"0\" width=\"40.43589743589746\" x=\"295.18205128205125\" y=\"526.7493454107989\" /><desc class=\"value\">78: 24066</desc><desc class=\"x centered\">315.4</desc><desc class=\"y centered\">528.1823650130918</desc></g><g class=\"histbar\"><rect class=\"rect reactive tooltip-trigger\" height=\"3.0130155740515647\" rx=\"0\" ry=\"0\" width=\"40.4358974358974\" x=\"335.6179487179487\" y=\"526.6023690413331\" /><desc class=\"value\">82: 27504</desc><desc class=\"x centered\">355.83589743589744</desc><desc class=\"y centered\">528.1088768283589</desc></g><g class=\"histbar\"><rect class=\"rect reactive tooltip-trigger\" height=\"1.4697636946593775\" rx=\"0\" ry=\"0\" width=\"40.43589743589746\" x=\"376.0538461538461\" y=\"528.1456209207253\" /><desc class=\"value\">40: 30942</desc><desc class=\"x centered\">396.27179487179484</desc><desc class=\"y centered\">528.880502768055</desc></g><g class=\"histbar\"><rect class=\"rect reactive tooltip-trigger\" height=\"1.5799959717587626\" rx=\"0\" ry=\"0\" width=\"40.4358974358974\" x=\"416.48974358974357\" y=\"528.0353886436259\" /><desc class=\"value\">43: 34380</desc><desc class=\"x centered\">436.70769230769224</desc><desc class=\"y centered\">528.8253866295053</desc></g><g class=\"histbar\"><rect class=\"rect reactive tooltip-trigger\" height=\"1.322787325193417\" rx=\"0\" ry=\"0\" width=\"40.4358974358974\" x=\"456.92564102564097\" y=\"528.2925972901912\" /><desc class=\"value\">36: 37818</desc><desc class=\"x centered\">477.1435897435897</desc><desc class=\"y centered\">528.953990952788</desc></g><g class=\"histbar\"><rect class=\"rect reactive tooltip-trigger\" height=\"0.8818582167956492\" rx=\"0\" ry=\"0\" width=\"40.435897435897516\" x=\"497.3615384615384\" y=\"528.733526398589\" /><desc class=\"value\">24: 41256</desc><desc class=\"x centered\">517.5794871794872</desc><desc class=\"y centered\">529.1744555069868</desc></g><g class=\"histbar\"><rect class=\"rect reactive tooltip-trigger\" height=\"0.6613936625967654\" rx=\"0\" ry=\"0\" width=\"40.435897435897346\" x=\"537.7974358974359\" y=\"528.9539909527879\" /><desc class=\"value\">18: 44694</desc><desc class=\"x centered\">558.0153846153846</desc><desc class=\"y centered\">529.2846877840863</desc></g><g class=\"histbar\"><rect class=\"rect reactive tooltip-trigger\" height=\"1.3962755099263404\" rx=\"0\" ry=\"0\" width=\"40.43589743589746\" x=\"578.2333333333332\" y=\"528.2191091054583\" /><desc class=\"value\">38: 48132</desc><desc class=\"x centered\">598.451282051282</desc><desc class=\"y centered\">528.9172468604215</desc></g></g></g></g><g class=\"titles\" /><g class=\"plot overlay\" transform=\"translate(149, 20)\"><g class=\"series serie-0 color-0\" /></g><g class=\"plot text-overlay\" transform=\"translate(149, 20)\"><g class=\"series serie-0 color-0\" /></g><g class=\"plot tooltip-overlay\" transform=\"translate(149, 20)\"><g class=\"tooltip\" style=\"opacity: 0\" transform=\"translate(0 0)\"><rect class=\"tooltip-box\" height=\"0\" rx=\"0\" ry=\"0\" width=\"0\" /><g class=\"text\" /></g></g><g class=\"legends\" transform=\"translate(10, 30)\"><g class=\"legend reactive activate-serie\" id=\"activate-serie-0\"><rect class=\"color-0 reactive\" height=\"12\" width=\"12\" x=\"0.0\" y=\"1.0\" /><text x=\"17.0\" y=\"11.2\">PAY_AMT3</text></g></g><g class=\"legends\" transform=\"translate(790, 30)\" /></g></svg>\n",
       "    </figure>\n",
       "  </body>\n",
       "</html>\n"
      ],
      "text/plain": [
       "<IPython.core.display.HTML object>"
      ]
     },
     "metadata": {},
     "output_type": "display_data"
    }
   ],
   "source": [
    "plot_hist(aux2,\"PAY_AMT3\")"
   ]
  },
  {
   "cell_type": "code",
   "execution_count": 1079,
   "metadata": {},
   "outputs": [],
   "source": [
    "def iqr(df,variable):\n",
    "    desc = df[variable].describe()\n",
    "    iqr_value= desc[\"75%\"]- desc[\"25%\"]\n",
    "    bandaIzq = desc[\"25%\"] - (3*iqr_value)\n",
    "    bandaDer = desc[\"75%\"] + (3*iqr_value)\n",
    "    aux = df.copy()\n",
    "    return aux[(aux[variable]>bandaIzq) & (aux[variable]<bandaDer)]"
   ]
  },
  {
   "cell_type": "code",
   "execution_count": 1080,
   "metadata": {},
   "outputs": [],
   "source": [
    "def percentiles(df,variable,percent):\n",
    "    desc = df[variable].describe(percentiles=[0.01,0.99])\n",
    "    aux = df.copy()\n",
    "    return aux[(aux[variable]>=desc[\"1%\"]) & (aux[variable]<=desc[\"99%\"])]"
   ]
  },
  {
   "cell_type": "code",
   "execution_count": 1081,
   "metadata": {},
   "outputs": [],
   "source": [
    "def media(df,variable,n_sigma):\n",
    "    media = df[variable].mean()\n",
    "    sigma = df[variable].std()\n",
    "    aux = df.copy()\n",
    "    return aux[(media-n_sigma*sigma <= aux[variable])  & (aux[variable] <= media + n_sigma*sigma )]"
   ]
  },
  {
   "cell_type": "code",
   "execution_count": 1082,
   "metadata": {},
   "outputs": [
    {
     "data": {
      "text/html": [
       "<div>\n",
       "<style scoped>\n",
       "    .dataframe tbody tr th:only-of-type {\n",
       "        vertical-align: middle;\n",
       "    }\n",
       "\n",
       "    .dataframe tbody tr th {\n",
       "        vertical-align: top;\n",
       "    }\n",
       "\n",
       "    .dataframe thead th {\n",
       "        text-align: right;\n",
       "    }\n",
       "</style>\n",
       "<table border=\"1\" class=\"dataframe\">\n",
       "  <thead>\n",
       "    <tr style=\"text-align: right;\">\n",
       "      <th></th>\n",
       "      <th>nombre</th>\n",
       "      <th>iqr</th>\n",
       "      <th>mediana</th>\n",
       "      <th>percentiles</th>\n",
       "    </tr>\n",
       "  </thead>\n",
       "  <tbody>\n",
       "    <tr>\n",
       "      <td>0</td>\n",
       "      <td>BILL_AMT2</td>\n",
       "      <td>0.973619</td>\n",
       "      <td>0.977905</td>\n",
       "      <td>0.980000</td>\n",
       "    </tr>\n",
       "    <tr>\n",
       "      <td>1</td>\n",
       "      <td>BILL_AMT3</td>\n",
       "      <td>0.971857</td>\n",
       "      <td>0.978476</td>\n",
       "      <td>0.980000</td>\n",
       "    </tr>\n",
       "    <tr>\n",
       "      <td>2</td>\n",
       "      <td>BILL_AMT4</td>\n",
       "      <td>0.970524</td>\n",
       "      <td>0.978190</td>\n",
       "      <td>0.980286</td>\n",
       "    </tr>\n",
       "    <tr>\n",
       "      <td>3</td>\n",
       "      <td>BILL_AMT5</td>\n",
       "      <td>0.968429</td>\n",
       "      <td>0.978429</td>\n",
       "      <td>0.980000</td>\n",
       "    </tr>\n",
       "    <tr>\n",
       "      <td>4</td>\n",
       "      <td>BILL_AMT6</td>\n",
       "      <td>0.969000</td>\n",
       "      <td>0.978619</td>\n",
       "      <td>0.980000</td>\n",
       "    </tr>\n",
       "    <tr>\n",
       "      <td>5</td>\n",
       "      <td>PAY_AMT2</td>\n",
       "      <td>0.944762</td>\n",
       "      <td>0.990095</td>\n",
       "      <td>0.990000</td>\n",
       "    </tr>\n",
       "    <tr>\n",
       "      <td>6</td>\n",
       "      <td>PAY_AMT3</td>\n",
       "      <td>0.947762</td>\n",
       "      <td>0.987571</td>\n",
       "      <td>0.990000</td>\n",
       "    </tr>\n",
       "    <tr>\n",
       "      <td>7</td>\n",
       "      <td>PAY_AMT4</td>\n",
       "      <td>0.946095</td>\n",
       "      <td>0.986095</td>\n",
       "      <td>0.990000</td>\n",
       "    </tr>\n",
       "    <tr>\n",
       "      <td>8</td>\n",
       "      <td>PAY_AMT5</td>\n",
       "      <td>0.947429</td>\n",
       "      <td>0.986381</td>\n",
       "      <td>0.990000</td>\n",
       "    </tr>\n",
       "    <tr>\n",
       "      <td>9</td>\n",
       "      <td>PAY_AMT6</td>\n",
       "      <td>0.944524</td>\n",
       "      <td>0.985048</td>\n",
       "      <td>0.990000</td>\n",
       "    </tr>\n",
       "  </tbody>\n",
       "</table>\n",
       "</div>"
      ],
      "text/plain": [
       "      nombre       iqr   mediana  percentiles\n",
       "0  BILL_AMT2  0.973619  0.977905     0.980000\n",
       "1  BILL_AMT3  0.971857  0.978476     0.980000\n",
       "2  BILL_AMT4  0.970524  0.978190     0.980286\n",
       "3  BILL_AMT5  0.968429  0.978429     0.980000\n",
       "4  BILL_AMT6  0.969000  0.978619     0.980000\n",
       "5   PAY_AMT2  0.944762  0.990095     0.990000\n",
       "6   PAY_AMT3  0.947762  0.987571     0.990000\n",
       "7   PAY_AMT4  0.946095  0.986095     0.990000\n",
       "8   PAY_AMT5  0.947429  0.986381     0.990000\n",
       "9   PAY_AMT6  0.944524  0.985048     0.990000"
      ]
     },
     "execution_count": 1082,
     "metadata": {},
     "output_type": "execute_result"
    }
   ],
   "source": [
    "comparacion = pd.DataFrame()\n",
    "comparacion[\"nombre\"]=test\n",
    "ls_iqr=[]\n",
    "ls_mediana=[]\n",
    "ls_percentiles=[]\n",
    "for i in test:\n",
    "    ls_iqr.append(iqr(amt1_train,i).shape[0]/amt1_train.shape[0])\n",
    "    ls_mediana.append(media(amt1_train,i,3).shape[0]/amt1_train.shape[0])\n",
    "    ls_percentiles.append(percentiles(amt1_train,i,[0.01,0.99]).shape[0]/amt1_train.shape[0])\n",
    "comparacion[\"iqr\"]=ls_iqr\n",
    "comparacion[\"mediana\"]=ls_mediana\n",
    "comparacion[\"percentiles\"]=ls_percentiles\n",
    "comparacion"
   ]
  },
  {
   "cell_type": "code",
   "execution_count": 1150,
   "metadata": {},
   "outputs": [],
   "source": [
    "bill=['BILL_AMT2', 'BILL_AMT3','BILL_AMT4', 'BILL_AMT5', 'BILL_AMT6']\n",
    "pay=['PAY_AMT1','PAY_AMT2', 'PAY_AMT3', 'PAY_AMT4', 'PAY_AMT5', 'PAY_AMT6']\n",
    "aux2=iqr(amt1_train,\"BILL_AMT2\")\n",
    "aux2=iqr(aux2,\"BILL_AMT3\")\n",
    "aux2=iqr(aux2,\"BILL_AMT5\")\n",
    "aux2=iqr(aux2,\"BILL_AMT6\")\n",
    "\n",
    "aux2=percentiles(aux2,\"PAY_AMT2\",[0.01,0.99])\n",
    "aux2=percentiles(aux2,\"PAY_AMT3\",[0.01,0.99])\n",
    "aux2=percentiles(aux2,\"PAY_AMT4\",[0.01,0.99])\n",
    "#aux2=iqr(aux2,\"BILL_AMT3\")\n",
    "#aux2=iqr(aux2,\"BILL_AMT5\")\n",
    "#aux2=iqr(aux2,\"BILL_AMT6\")\n",
    "for i in range(2,7):\n",
    "    for j in range(i,7):\n",
    "        if i==j:\n",
    "            continue\n",
    "        aux2[\"diff_BILL_AMT{}_{}\".format(i,j)]=aux2[\"BILL_AMT{}\".format(i)]-aux2[\"BILL_AMT{}\".format(j)]\n",
    "        aux2[\"diff_PAY_AMT{}_{}\".format(i,j)]=aux2[\"PAY_AMT{}\".format(i)]-aux2[\"PAY_AMT{}\".format(j)]\n",
    "        aux2[\"diff_PAY_BILL{}_{}\".format(i,j)]=aux2[\"BILL_AMT{}\".format(i)]-aux2[\"PAY_AMT{}\".format(j)]\n",
    "    aux2[\"LIMBAL*BILL_AMT_{}\".format(i)]=aux2[\"BILL_AMT{}\".format(i)]*aux2[\"LIMIT_BAL\"]\n",
    "    aux2[\"BILL_AMT_{}**2\".format(i)]=aux2[\"BILL_AMT{}\".format(i)]**2\n",
    "    aux2[f\"USE_{i}\"] = aux2[f\"BILL_AMT{i}\"] / aux2[\"LIMIT_BAL\"]\n",
    "\n",
    "\n",
    "#aux2[\"mean_pay\"]=aux2[pay].mean(axis=1)\n",
    "#aux2[\"mean_bill\"]=aux2[bill].mean(axis=1)\n",
    "payarr=['PAY_AMT2']\n",
    "for i in range(3,7):\n",
    "    payarr.append(\"PAY_AMT{}\".format(i))\n",
    "    aux2[\"maxpay_2_{}\".format(i)]=aux2[payarr].max(axis=1)\n",
    "    aux2[\"minpay_2_{}\".format(i)]=aux2[payarr].min(axis=1)\n",
    "    aux2[\"meanpay_2_{}\".format(i)]=aux2[payarr].mean(axis=1)\n",
    "    \n",
    "#billarr=['BILL_AMT2']\n",
    "#for i in range(3,7):\n",
    "#    payarr.append(\"BILL_AMT{}\".format(i))    \n",
    "#    aux2[\"maxbill_2_{}\".format(i)]=aux2[billarr].max(axis=1)\n",
    "#    aux2[\"minbill_2_{}\".format(i)]=aux2[billarr].min(axis=1)\n",
    "\n",
    "\n",
    "#aux2[\"mean_max_min_pay\"]=(aux2[\"max_pay\"]+aux2[\"min_pay\"])/2\n",
    "#aux2[\"mean_max_min_bill\"]=(aux2[\"max_bill\"]+aux2[\"min_bill\"])/2\n",
    "\n",
    "#aux2[\"mean_max_min_pay**2\"]=aux2[\"mean_max_min_pay\"]**2\n",
    "#aux2[\"mean_max_min_bill**2\"]=aux2[\"mean_max_min_bill\"]**2"
   ]
  },
  {
   "cell_type": "code",
   "execution_count": 1151,
   "metadata": {},
   "outputs": [],
   "source": [
    "payarr=['PAY_AMT2']\n",
    "for i in range(3,7):\n",
    "    payarr.append(\"PAY_AMT{}\".format(i))\n",
    "    "
   ]
  },
  {
   "cell_type": "code",
   "execution_count": 1152,
   "metadata": {},
   "outputs": [
    {
     "data": {
      "text/plain": [
       "0.912047619047619"
      ]
     },
     "execution_count": 1152,
     "metadata": {},
     "output_type": "execute_result"
    }
   ],
   "source": [
    "aux2.shape[0]/amt1_train.shape[0]"
   ]
  },
  {
   "cell_type": "code",
   "execution_count": 1153,
   "metadata": {},
   "outputs": [],
   "source": [
    "test=['BILL_AMT2', 'BILL_AMT3',\n",
    "       'BILL_AMT4', 'BILL_AMT5', 'BILL_AMT6', 'PAY_AMT2',\n",
    "       'PAY_AMT3', 'PAY_AMT4', 'PAY_AMT5', 'PAY_AMT6']"
   ]
  },
  {
   "cell_type": "code",
   "execution_count": 1154,
   "metadata": {},
   "outputs": [],
   "source": [
    "tgt = \"PAY_AMT1\"\n",
    "ls_pred = [x for x in aux2.columns if x not in [tgt]]"
   ]
  },
  {
   "cell_type": "code",
   "execution_count": 1155,
   "metadata": {},
   "outputs": [],
   "source": [
    "X_train, X_test, y_train, y_test = train_test_split(aux2[ls_pred], aux2[tgt], test_size=0.33, random_state=42)"
   ]
  },
  {
   "cell_type": "code",
   "execution_count": 1156,
   "metadata": {},
   "outputs": [],
   "source": [
    "linReg = LinearRegression()"
   ]
  },
  {
   "cell_type": "code",
   "execution_count": 1157,
   "metadata": {},
   "outputs": [
    {
     "data": {
      "text/plain": [
       "LinearRegression(copy_X=True, fit_intercept=True, n_jobs=None, normalize=False)"
      ]
     },
     "execution_count": 1157,
     "metadata": {},
     "output_type": "execute_result"
    }
   ],
   "source": [
    "linReg.fit(X_train,y_train)"
   ]
  },
  {
   "cell_type": "code",
   "execution_count": 1158,
   "metadata": {},
   "outputs": [],
   "source": [
    "ls_res = cross_val_score(estimator = linReg, X=X_train, y=y_train, cv=4, n_jobs=-1, scoring=\"r2\")"
   ]
  },
  {
   "cell_type": "code",
   "execution_count": 1159,
   "metadata": {},
   "outputs": [
    {
     "data": {
      "text/plain": [
       "0.27030678248752016"
      ]
     },
     "execution_count": 1159,
     "metadata": {},
     "output_type": "execute_result"
    }
   ],
   "source": [
    "ls_res.mean()"
   ]
  },
  {
   "cell_type": "code",
   "execution_count": 1093,
   "metadata": {},
   "outputs": [
    {
     "data": {
      "text/plain": [
       "0.2893546547215655"
      ]
     },
     "execution_count": 1093,
     "metadata": {},
     "output_type": "execute_result"
    }
   ],
   "source": [
    "linReg.score(X_train,y_train)"
   ]
  },
  {
   "cell_type": "markdown",
   "metadata": {},
   "source": [
    "## Regresión Cresta"
   ]
  },
  {
   "cell_type": "code",
   "execution_count": 885,
   "metadata": {},
   "outputs": [],
   "source": [
    "ridgereg = Ridge()"
   ]
  },
  {
   "cell_type": "code",
   "execution_count": 886,
   "metadata": {},
   "outputs": [
    {
     "name": "stderr",
     "output_type": "stream",
     "text": [
      "/home/arturo/env/lib/python3.7/site-packages/sklearn/linear_model/ridge.py:147: LinAlgWarning: Ill-conditioned matrix (rcond=3.59119e-26): result may not be accurate.\n",
      "  overwrite_a=True).T\n"
     ]
    },
    {
     "data": {
      "text/plain": [
       "Ridge(alpha=1.0, copy_X=True, fit_intercept=True, max_iter=None,\n",
       "      normalize=False, random_state=None, solver='auto', tol=0.001)"
      ]
     },
     "execution_count": 886,
     "metadata": {},
     "output_type": "execute_result"
    }
   ],
   "source": [
    "ridgereg.fit(x, y)"
   ]
  },
  {
   "cell_type": "code",
   "execution_count": 887,
   "metadata": {},
   "outputs": [],
   "source": [
    "ls_res = cross_val_score(estimator = ridgereg, X=x, y=y, cv=4, n_jobs=-1, scoring=\"r2\")"
   ]
  },
  {
   "cell_type": "code",
   "execution_count": 888,
   "metadata": {},
   "outputs": [
    {
     "data": {
      "text/plain": [
       "0.6993607390097181"
      ]
     },
     "execution_count": 888,
     "metadata": {},
     "output_type": "execute_result"
    }
   ],
   "source": [
    "ls_res.mean()"
   ]
  },
  {
   "cell_type": "markdown",
   "metadata": {},
   "source": [
    "## Regresión Lasso"
   ]
  },
  {
   "cell_type": "code",
   "execution_count": 889,
   "metadata": {},
   "outputs": [],
   "source": [
    "lassreg = Lasso()"
   ]
  },
  {
   "cell_type": "code",
   "execution_count": 890,
   "metadata": {},
   "outputs": [
    {
     "name": "stderr",
     "output_type": "stream",
     "text": [
      "/home/arturo/env/lib/python3.7/site-packages/sklearn/linear_model/coordinate_descent.py:475: ConvergenceWarning: Objective did not converge. You might want to increase the number of iterations. Duality gap: 341345363904.3101, tolerance: 231959779.10769317\n",
      "  positive)\n"
     ]
    },
    {
     "data": {
      "text/plain": [
       "Lasso(alpha=1.0, copy_X=True, fit_intercept=True, max_iter=1000,\n",
       "      normalize=False, positive=False, precompute=False, random_state=None,\n",
       "      selection='cyclic', tol=0.0001, warm_start=False)"
      ]
     },
     "execution_count": 890,
     "metadata": {},
     "output_type": "execute_result"
    }
   ],
   "source": [
    "lassreg.fit(x, y)"
   ]
  },
  {
   "cell_type": "code",
   "execution_count": 891,
   "metadata": {},
   "outputs": [],
   "source": [
    "ls_res = cross_val_score(estimator = lassreg, X=x, y=y, cv=4, n_jobs=-1, scoring=\"r2\")"
   ]
  },
  {
   "cell_type": "code",
   "execution_count": 892,
   "metadata": {},
   "outputs": [
    {
     "data": {
      "text/plain": [
       "0.6993613870734317"
      ]
     },
     "execution_count": 892,
     "metadata": {},
     "output_type": "execute_result"
    }
   ],
   "source": [
    "ls_res.mean()"
   ]
  },
  {
   "cell_type": "markdown",
   "metadata": {},
   "source": [
    "## Red elástica"
   ]
  },
  {
   "cell_type": "code",
   "execution_count": 893,
   "metadata": {},
   "outputs": [],
   "source": [
    "elasnet = ElasticNet()"
   ]
  },
  {
   "cell_type": "code",
   "execution_count": 894,
   "metadata": {},
   "outputs": [
    {
     "name": "stderr",
     "output_type": "stream",
     "text": [
      "/home/arturo/env/lib/python3.7/site-packages/sklearn/linear_model/coordinate_descent.py:475: ConvergenceWarning: Objective did not converge. You might want to increase the number of iterations. Duality gap: 345388951740.41656, tolerance: 231959779.10769317\n",
      "  positive)\n"
     ]
    },
    {
     "data": {
      "text/plain": [
       "ElasticNet(alpha=1.0, copy_X=True, fit_intercept=True, l1_ratio=0.5,\n",
       "           max_iter=1000, normalize=False, positive=False, precompute=False,\n",
       "           random_state=None, selection='cyclic', tol=0.0001, warm_start=False)"
      ]
     },
     "execution_count": 894,
     "metadata": {},
     "output_type": "execute_result"
    }
   ],
   "source": [
    "elasnet.fit(x, y)"
   ]
  },
  {
   "cell_type": "code",
   "execution_count": 895,
   "metadata": {},
   "outputs": [],
   "source": [
    "ls_res = cross_val_score(estimator = elasnet, X=x, y=y, cv=4, n_jobs=-1, scoring=\"r2\")"
   ]
  },
  {
   "cell_type": "code",
   "execution_count": 896,
   "metadata": {},
   "outputs": [
    {
     "data": {
      "text/plain": [
       "0.6974901994387575"
      ]
     },
     "execution_count": 896,
     "metadata": {},
     "output_type": "execute_result"
    }
   ],
   "source": [
    "ls_res.mean()"
   ]
  },
  {
   "cell_type": "markdown",
   "metadata": {},
   "source": [
    "# Regresion Logistica"
   ]
  },
  {
   "cell_type": "code",
   "execution_count": 1044,
   "metadata": {},
   "outputs": [],
   "source": [
    "train=pd.read_csv('./Datos/train_default.csv')"
   ]
  },
  {
   "cell_type": "code",
   "execution_count": 1045,
   "metadata": {},
   "outputs": [],
   "source": [
    "ls_disc = [\"SEX\", \"EDUCATION\", \"MARRIAGE\", \"PAY_0\", \"PAY_2\", \"PAY_3\",\n",
    "           \"PAY_4\", \"PAY_5\", \"PAY_6\"]\n",
    "ls_cont = [\"LIMIT_BAL\", \"AGE\", \"BILL_AMT1\", \"BILL_AMT2\", \"BILL_AMT3\",\n",
    "           \"BILL_AMT4\", \"BILL_AMT5\", \"BILL_AMT6\", \"PAY_AMT1\", \n",
    "           \"PAY_AMT2\", \"PAY_AMT3\", \"PAY_AMT4\", \"PAY_AMT5\", \"PAY_AMT6\"]\n",
    "tgt = \"default.payment.next.month\""
   ]
  },
  {
   "cell_type": "code",
   "execution_count": 1056,
   "metadata": {},
   "outputs": [],
   "source": [
    "from sklearn.preprocessing import StandardScaler\n",
    "from sklearn.model_selection import train_test_split\n",
    "from sklearn.linear_model import LogisticRegression"
   ]
  },
  {
   "cell_type": "code",
   "execution_count": 1196,
   "metadata": {},
   "outputs": [],
   "source": [
    "bill=['BILL_AMT2', 'BILL_AMT3','BILL_AMT4', 'BILL_AMT5', 'BILL_AMT6']\n",
    "pay=['PAY_AMT1','PAY_AMT2', 'PAY_AMT3', 'PAY_AMT4', 'PAY_AMT5', 'PAY_AMT6']\n",
    "aux2=iqr(train,\"BILL_AMT2\")\n",
    "aux2=iqr(aux2,\"BILL_AMT3\")\n",
    "aux2=iqr(aux2,\"BILL_AMT5\")\n",
    "aux2=iqr(aux2,\"BILL_AMT6\")\n",
    "\n",
    "aux2=aux2[aux2[\"MARRIAGE\"]>0]\n",
    "aux2=aux2[aux2[\"EDUCATION\"]>0]\n",
    "\n",
    "aux2=percentiles(aux2,\"PAY_AMT2\",[0.01,0.99])\n",
    "aux2=percentiles(aux2,\"PAY_AMT3\",[0.01,0.99])\n",
    "aux2=percentiles(aux2,\"PAY_AMT4\",[0.01,0.99])\n",
    "#aux2=iqr(aux2,\"BILL_AMT3\")\n",
    "#aux2=iqr(aux2,\"BILL_AMT5\")\n",
    "#aux2=iqr(aux2,\"BILL_AMT6\")\n",
    "for i in range(2,7):\n",
    "    for j in range(i,7):\n",
    "        if i==j:\n",
    "            continue\n",
    "        aux2[\"diff_BILL_AMT{}_{}\".format(i,j)]=aux2[\"BILL_AMT{}\".format(i)]-aux2[\"BILL_AMT{}\".format(j)]\n",
    "        aux2[\"diff_PAY_AMT{}_{}\".format(i,j)]=aux2[\"PAY_AMT{}\".format(i)]-aux2[\"PAY_AMT{}\".format(j)]\n",
    "        aux2[\"diff_PAY_BILL{}_{}\".format(i,j)]=aux2[\"BILL_AMT{}\".format(i)]-aux2[\"PAY_AMT{}\".format(j)]\n",
    "    aux2[\"LIMBAL*BILL_AMT_{}\".format(i)]=aux2[\"BILL_AMT{}\".format(i)]*aux2[\"LIMIT_BAL\"]\n",
    "    aux2[\"BILL_AMT_{}**2\".format(i)]=aux2[\"BILL_AMT{}\".format(i)]**2\n",
    "\n",
    "\n",
    "#aux2[\"mean_pay\"]=aux2[pay].mean(axis=1)\n",
    "#aux2[\"mean_bill\"]=aux2[bill].mean(axis=1)\n",
    "payarr=['PAY_AMT2']\n",
    "for i in range(3,7):\n",
    "    payarr.append(\"PAY_AMT{}\".format(i))\n",
    "    aux2[\"maxpay_2_{}\".format(i)]=aux2[payarr].max(axis=1)\n",
    "    aux2[\"minpay_2_{}\".format(i)]=aux2[payarr].min(axis=1)\n",
    "    aux2[\"meanpay_2_{}\".format(i)]=aux2[payarr].mean(axis=1)"
   ]
  },
  {
   "cell_type": "code",
   "execution_count": 1197,
   "metadata": {},
   "outputs": [],
   "source": [
    "escalar=StandardScaler()"
   ]
  },
  {
   "cell_type": "code",
   "execution_count": 1198,
   "metadata": {},
   "outputs": [],
   "source": [
    "tgt = \"default.payment.next.month\"\n",
    "ls_pred = [x for x in aux2.columns if x not in [tgt]]"
   ]
  },
  {
   "cell_type": "code",
   "execution_count": 1199,
   "metadata": {},
   "outputs": [],
   "source": [
    "X_train, X_test, y_train, y_test = train_test_split(aux2[ls_disc+ls_cont], aux2[tgt], test_size=0.33, random_state=42)"
   ]
  },
  {
   "cell_type": "code",
   "execution_count": 1200,
   "metadata": {},
   "outputs": [],
   "source": [
    "X_train=escalar.fit_transform(X_train)\n",
    "X_test=escalar.transform(X_test)"
   ]
  },
  {
   "cell_type": "code",
   "execution_count": 1201,
   "metadata": {},
   "outputs": [],
   "source": [
    "regLog=LogisticRegression()"
   ]
  },
  {
   "cell_type": "code",
   "execution_count": 1202,
   "metadata": {},
   "outputs": [
    {
     "name": "stderr",
     "output_type": "stream",
     "text": [
      "/home/arturo/env/lib/python3.7/site-packages/sklearn/linear_model/logistic.py:432: FutureWarning: Default solver will be changed to 'lbfgs' in 0.22. Specify a solver to silence this warning.\n",
      "  FutureWarning)\n"
     ]
    },
    {
     "data": {
      "text/plain": [
       "LogisticRegression(C=1.0, class_weight=None, dual=False, fit_intercept=True,\n",
       "                   intercept_scaling=1, l1_ratio=None, max_iter=100,\n",
       "                   multi_class='warn', n_jobs=None, penalty='l2',\n",
       "                   random_state=None, solver='warn', tol=0.0001, verbose=0,\n",
       "                   warm_start=False)"
      ]
     },
     "execution_count": 1202,
     "metadata": {},
     "output_type": "execute_result"
    }
   ],
   "source": [
    "regLog.fit(X_train,y_train)"
   ]
  },
  {
   "cell_type": "code",
   "execution_count": 1203,
   "metadata": {},
   "outputs": [],
   "source": [
    "y_pred = regLog.predict(X_test)"
   ]
  },
  {
   "cell_type": "code",
   "execution_count": 1204,
   "metadata": {},
   "outputs": [],
   "source": [
    "from sklearn.metrics import  confusion_matrix\n",
    "from sklearn.metrics import  precision_score"
   ]
  },
  {
   "cell_type": "code",
   "execution_count": 1205,
   "metadata": {},
   "outputs": [],
   "source": [
    "matriz=confusion_matrix(y_test,y_pred)"
   ]
  },
  {
   "cell_type": "code",
   "execution_count": 1206,
   "metadata": {},
   "outputs": [
    {
     "data": {
      "text/plain": [
       "array([[4730,  157],\n",
       "       [1070,  349]])"
      ]
     },
     "execution_count": 1206,
     "metadata": {},
     "output_type": "execute_result"
    }
   ],
   "source": [
    "matriz"
   ]
  },
  {
   "cell_type": "code",
   "execution_count": 1207,
   "metadata": {},
   "outputs": [],
   "source": [
    "precision=precision_score(y_test,y_pred)"
   ]
  },
  {
   "cell_type": "code",
   "execution_count": 1208,
   "metadata": {},
   "outputs": [
    {
     "data": {
      "text/plain": [
       "0.6897233201581028"
      ]
     },
     "execution_count": 1208,
     "metadata": {},
     "output_type": "execute_result"
    }
   ],
   "source": [
    "precision"
   ]
  },
  {
   "cell_type": "markdown",
   "metadata": {},
   "source": [
    "# CREDIT SCORING"
   ]
  },
  {
   "cell_type": "code",
   "execution_count": 1209,
   "metadata": {},
   "outputs": [],
   "source": [
    "def IV(df, var, tgt):\n",
    "    aux = df[[var, tgt]].groupby(var).agg([\"count\", \"sum\"])\n",
    "    aux[\"evento\"] = aux[tgt, \"sum\"]\n",
    "    aux[\"no_evento\"] = aux[tgt, \"count\"] - aux[tgt, \"sum\"]\n",
    "    aux[\"%evento\"] = aux[\"evento\"] / aux[\"evento\"].sum()\n",
    "    aux[\"%no_evento\"] = aux[\"no_evento\"] / aux[\"no_evento\"].sum()\n",
    "    aux[\"WOE\"] = np.log(aux[\"%no_evento\"] / aux[\"%evento\"])\n",
    "    aux[\"IV\"] = (aux[\"%no_evento\"] - aux[\"%evento\"])*aux[\"WOE\"]\n",
    "    return aux[\"IV\"].sum()"
   ]
  },
  {
   "cell_type": "code",
   "execution_count": 1210,
   "metadata": {},
   "outputs": [],
   "source": [
    "ls_disc = [\"SEX\", \"EDUCATION\", \"MARRIAGE\", \"PAY_0\", \"PAY_2\", \"PAY_3\",\n",
    "           \"PAY_4\", \"PAY_5\", \"PAY_6\"]\n",
    "ls_cont = [\"LIMIT_BAL\", \"AGE\", \"BILL_AMT1\", \"BILL_AMT2\", \"BILL_AMT3\",\n",
    "           \"BILL_AMT4\", \"BILL_AMT5\", \"BILL_AMT6\", \"PAY_AMT1\", \n",
    "           \"PAY_AMT2\", \"PAY_AMT3\", \"PAY_AMT4\", \"PAY_AMT5\", \"PAY_AMT6\"]\n",
    "tgt = \"default.payment.next.month\""
   ]
  },
  {
   "cell_type": "code",
   "execution_count": 1211,
   "metadata": {},
   "outputs": [],
   "source": [
    "for var in ls_cont:\n",
    "    aux2[f\"C_{var}\"] = pd.cut(aux2[var], bins=5).astype(str)"
   ]
  },
  {
   "cell_type": "code",
   "execution_count": 1212,
   "metadata": {},
   "outputs": [],
   "source": [
    "new_disc = [x for x in df.columns if x.startswith(\"C_\")] + ls_disc\n",
    "for col in new_disc:\n",
    "    df[col] = df[col].fillna(\"Missing\")"
   ]
  },
  {
   "cell_type": "code",
   "execution_count": 1213,
   "metadata": {},
   "outputs": [
    {
     "name": "stderr",
     "output_type": "stream",
     "text": [
      "/home/arturo/env/lib/python3.7/site-packages/pandas/core/series.py:853: RuntimeWarning: divide by zero encountered in log\n",
      "  result = getattr(ufunc, method)(*inputs, **kwargs)\n"
     ]
    }
   ],
   "source": [
    "df_iv = pd.DataFrame(columns=[\"iv\"])\n",
    "for var in new_disc:\n",
    "    df_iv.loc[var, \"iv\"] = IV(df = df, var = var, tgt = tgt)"
   ]
  },
  {
   "cell_type": "code",
   "execution_count": 1214,
   "metadata": {},
   "outputs": [
    {
     "data": {
      "text/html": [
       "<div>\n",
       "<style scoped>\n",
       "    .dataframe tbody tr th:only-of-type {\n",
       "        vertical-align: middle;\n",
       "    }\n",
       "\n",
       "    .dataframe tbody tr th {\n",
       "        vertical-align: top;\n",
       "    }\n",
       "\n",
       "    .dataframe thead th {\n",
       "        text-align: right;\n",
       "    }\n",
       "</style>\n",
       "<table border=\"1\" class=\"dataframe\">\n",
       "  <thead>\n",
       "    <tr style=\"text-align: right;\">\n",
       "      <th></th>\n",
       "      <th>iv</th>\n",
       "    </tr>\n",
       "  </thead>\n",
       "  <tbody>\n",
       "    <tr>\n",
       "      <td>PAY_6</td>\n",
       "      <td>inf</td>\n",
       "    </tr>\n",
       "    <tr>\n",
       "      <td>C_PAY_AMT1</td>\n",
       "      <td>inf</td>\n",
       "    </tr>\n",
       "    <tr>\n",
       "      <td>C_PAY_AMT6</td>\n",
       "      <td>inf</td>\n",
       "    </tr>\n",
       "    <tr>\n",
       "      <td>PAY_4</td>\n",
       "      <td>inf</td>\n",
       "    </tr>\n",
       "    <tr>\n",
       "      <td>PAY_3</td>\n",
       "      <td>inf</td>\n",
       "    </tr>\n",
       "    <tr>\n",
       "      <td>PAY_2</td>\n",
       "      <td>inf</td>\n",
       "    </tr>\n",
       "    <tr>\n",
       "      <td>PAY_5</td>\n",
       "      <td>inf</td>\n",
       "    </tr>\n",
       "    <tr>\n",
       "      <td>C_BILL_AMT1</td>\n",
       "      <td>inf</td>\n",
       "    </tr>\n",
       "    <tr>\n",
       "      <td>PAY_0</td>\n",
       "      <td>0.859789</td>\n",
       "    </tr>\n",
       "    <tr>\n",
       "      <td>EDUCATION</td>\n",
       "      <td>0.0355072</td>\n",
       "    </tr>\n",
       "    <tr>\n",
       "      <td>SEX</td>\n",
       "      <td>0.0103666</td>\n",
       "    </tr>\n",
       "    <tr>\n",
       "      <td>MARRIAGE</td>\n",
       "      <td>0.00716248</td>\n",
       "    </tr>\n",
       "    <tr>\n",
       "      <td>C_PAY_AMT3</td>\n",
       "      <td>0.00237101</td>\n",
       "    </tr>\n",
       "    <tr>\n",
       "      <td>C_AGE</td>\n",
       "      <td>0.00156705</td>\n",
       "    </tr>\n",
       "    <tr>\n",
       "      <td>C_BILL_AMT2</td>\n",
       "      <td>0.00135765</td>\n",
       "    </tr>\n",
       "    <tr>\n",
       "      <td>C_BILL_AMT5</td>\n",
       "      <td>0.00134457</td>\n",
       "    </tr>\n",
       "    <tr>\n",
       "      <td>C_PAY_AMT2</td>\n",
       "      <td>0.00130481</td>\n",
       "    </tr>\n",
       "    <tr>\n",
       "      <td>C_BILL_AMT6</td>\n",
       "      <td>0.00125606</td>\n",
       "    </tr>\n",
       "    <tr>\n",
       "      <td>C_BILL_AMT3</td>\n",
       "      <td>0.00118166</td>\n",
       "    </tr>\n",
       "    <tr>\n",
       "      <td>C_PAY_AMT4</td>\n",
       "      <td>0.00117371</td>\n",
       "    </tr>\n",
       "    <tr>\n",
       "      <td>C_BILL_AMT4</td>\n",
       "      <td>0.00109294</td>\n",
       "    </tr>\n",
       "    <tr>\n",
       "      <td>C_PAY_AMT5</td>\n",
       "      <td>0.000746932</td>\n",
       "    </tr>\n",
       "    <tr>\n",
       "      <td>C_LIMIT_BAL</td>\n",
       "      <td>0.000627841</td>\n",
       "    </tr>\n",
       "  </tbody>\n",
       "</table>\n",
       "</div>"
      ],
      "text/plain": [
       "                      iv\n",
       "PAY_6                inf\n",
       "C_PAY_AMT1           inf\n",
       "C_PAY_AMT6           inf\n",
       "PAY_4                inf\n",
       "PAY_3                inf\n",
       "PAY_2                inf\n",
       "PAY_5                inf\n",
       "C_BILL_AMT1          inf\n",
       "PAY_0           0.859789\n",
       "EDUCATION      0.0355072\n",
       "SEX            0.0103666\n",
       "MARRIAGE      0.00716248\n",
       "C_PAY_AMT3    0.00237101\n",
       "C_AGE         0.00156705\n",
       "C_BILL_AMT2   0.00135765\n",
       "C_BILL_AMT5   0.00134457\n",
       "C_PAY_AMT2    0.00130481\n",
       "C_BILL_AMT6   0.00125606\n",
       "C_BILL_AMT3   0.00118166\n",
       "C_PAY_AMT4    0.00117371\n",
       "C_BILL_AMT4   0.00109294\n",
       "C_PAY_AMT5   0.000746932\n",
       "C_LIMIT_BAL  0.000627841"
      ]
     },
     "execution_count": 1214,
     "metadata": {},
     "output_type": "execute_result"
    }
   ],
   "source": [
    "df_iv.sort_values(by = \"iv\", ascending=False)"
   ]
  },
  {
   "cell_type": "code",
   "execution_count": 1215,
   "metadata": {},
   "outputs": [],
   "source": [
    "ls_best = df_iv[df_iv[\"iv\"] != np.inf].index.tolist()"
   ]
  },
  {
   "cell_type": "code",
   "execution_count": 1216,
   "metadata": {},
   "outputs": [
    {
     "data": {
      "text/plain": [
       "['C_LIMIT_BAL',\n",
       " 'C_AGE',\n",
       " 'C_BILL_AMT2',\n",
       " 'C_BILL_AMT3',\n",
       " 'C_BILL_AMT4',\n",
       " 'C_BILL_AMT5',\n",
       " 'C_BILL_AMT6',\n",
       " 'C_PAY_AMT2',\n",
       " 'C_PAY_AMT3',\n",
       " 'C_PAY_AMT4',\n",
       " 'C_PAY_AMT5',\n",
       " 'SEX',\n",
       " 'EDUCATION',\n",
       " 'MARRIAGE',\n",
       " 'PAY_0']"
      ]
     },
     "execution_count": 1216,
     "metadata": {},
     "output_type": "execute_result"
    }
   ],
   "source": [
    "ls_best"
   ]
  },
  {
   "cell_type": "code",
   "execution_count": 1217,
   "metadata": {},
   "outputs": [],
   "source": [
    "def WOE(df, var, tgt):\n",
    "    aux = df[[var, tgt]].groupby(var).agg([\"count\", \"sum\"])\n",
    "    aux[\"evento\"] = aux[tgt, \"sum\"]\n",
    "    aux[\"no_evento\"] = aux[tgt, \"count\"] - aux[tgt, \"sum\"]\n",
    "    aux[\"%evento\"] = aux[\"evento\"] / aux[\"evento\"].sum()\n",
    "    aux[\"%no_evento\"] = aux[\"no_evento\"] / aux[\"no_evento\"].sum()\n",
    "    aux[\"WOE\"] = np.log(aux[\"%no_evento\"] / aux[\"%evento\"])\n",
    "    aux.columns = aux.columns.droplevel(1)\n",
    "    aux = aux[[\"WOE\"]].reset_index().rename(columns={\"WOE\": f\"W_{var}\"})\n",
    "    df = df.merge(aux, on = var, how = \"left\")\n",
    "    display(aux)\n",
    "    return df"
   ]
  },
  {
   "cell_type": "code",
   "execution_count": 1218,
   "metadata": {},
   "outputs": [
    {
     "data": {
      "text/plain": [
       "Index(['ID', 'LIMIT_BAL', 'SEX', 'EDUCATION', 'MARRIAGE', 'AGE', 'PAY_0',\n",
       "       'PAY_2', 'PAY_3', 'PAY_4', 'PAY_5', 'PAY_6', 'BILL_AMT1', 'BILL_AMT2',\n",
       "       'BILL_AMT3', 'BILL_AMT4', 'BILL_AMT5', 'BILL_AMT6', 'PAY_AMT1',\n",
       "       'PAY_AMT2', 'PAY_AMT3', 'PAY_AMT4', 'PAY_AMT5', 'PAY_AMT6',\n",
       "       'default.payment.next.month', 'diff_BILL_AMT2_3', 'diff_PAY_AMT2_3',\n",
       "       'diff_PAY_BILL2_3', 'diff_BILL_AMT2_4', 'diff_PAY_AMT2_4',\n",
       "       'diff_PAY_BILL2_4', 'diff_BILL_AMT2_5', 'diff_PAY_AMT2_5',\n",
       "       'diff_PAY_BILL2_5', 'diff_BILL_AMT2_6', 'diff_PAY_AMT2_6',\n",
       "       'diff_PAY_BILL2_6', 'LIMBAL*BILL_AMT_2', 'BILL_AMT_2**2',\n",
       "       'diff_BILL_AMT3_4', 'diff_PAY_AMT3_4', 'diff_PAY_BILL3_4',\n",
       "       'diff_BILL_AMT3_5', 'diff_PAY_AMT3_5', 'diff_PAY_BILL3_5',\n",
       "       'diff_BILL_AMT3_6', 'diff_PAY_AMT3_6', 'diff_PAY_BILL3_6',\n",
       "       'LIMBAL*BILL_AMT_3', 'BILL_AMT_3**2', 'diff_BILL_AMT4_5',\n",
       "       'diff_PAY_AMT4_5', 'diff_PAY_BILL4_5', 'diff_BILL_AMT4_6',\n",
       "       'diff_PAY_AMT4_6', 'diff_PAY_BILL4_6', 'LIMBAL*BILL_AMT_4',\n",
       "       'BILL_AMT_4**2', 'diff_BILL_AMT5_6', 'diff_PAY_AMT5_6',\n",
       "       'diff_PAY_BILL5_6', 'LIMBAL*BILL_AMT_5', 'BILL_AMT_5**2',\n",
       "       'LIMBAL*BILL_AMT_6', 'BILL_AMT_6**2', 'maxpay_2_3', 'minpay_2_3',\n",
       "       'meanpay_2_3', 'maxpay_2_4', 'minpay_2_4', 'meanpay_2_4', 'maxpay_2_5',\n",
       "       'minpay_2_5', 'meanpay_2_5', 'maxpay_2_6', 'minpay_2_6', 'meanpay_2_6',\n",
       "       'C_LIMIT_BAL', 'C_AGE', 'C_BILL_AMT1', 'C_BILL_AMT2', 'C_BILL_AMT3',\n",
       "       'C_BILL_AMT4', 'C_BILL_AMT5', 'C_BILL_AMT6', 'C_PAY_AMT1', 'C_PAY_AMT2',\n",
       "       'C_PAY_AMT3', 'C_PAY_AMT4', 'C_PAY_AMT5', 'C_PAY_AMT6'],\n",
       "      dtype='object')"
      ]
     },
     "execution_count": 1218,
     "metadata": {},
     "output_type": "execute_result"
    }
   ],
   "source": [
    "aux2.columns"
   ]
  },
  {
   "cell_type": "code",
   "execution_count": 1219,
   "metadata": {},
   "outputs": [
    {
     "data": {
      "text/html": [
       "<div>\n",
       "<style scoped>\n",
       "    .dataframe tbody tr th:only-of-type {\n",
       "        vertical-align: middle;\n",
       "    }\n",
       "\n",
       "    .dataframe tbody tr th {\n",
       "        vertical-align: top;\n",
       "    }\n",
       "\n",
       "    .dataframe thead th {\n",
       "        text-align: right;\n",
       "    }\n",
       "</style>\n",
       "<table border=\"1\" class=\"dataframe\">\n",
       "  <thead>\n",
       "    <tr style=\"text-align: right;\">\n",
       "      <th></th>\n",
       "      <th>C_LIMIT_BAL</th>\n",
       "      <th>W_C_LIMIT_BAL</th>\n",
       "    </tr>\n",
       "  </thead>\n",
       "  <tbody>\n",
       "    <tr>\n",
       "      <td>0</td>\n",
       "      <td>(158000.0, 306000.0]</td>\n",
       "      <td>0.405812</td>\n",
       "    </tr>\n",
       "    <tr>\n",
       "      <td>1</td>\n",
       "      <td>(306000.0, 454000.0]</td>\n",
       "      <td>0.626402</td>\n",
       "    </tr>\n",
       "    <tr>\n",
       "      <td>2</td>\n",
       "      <td>(454000.0, 602000.0]</td>\n",
       "      <td>0.780805</td>\n",
       "    </tr>\n",
       "    <tr>\n",
       "      <td>3</td>\n",
       "      <td>(602000.0, 750000.0]</td>\n",
       "      <td>0.935858</td>\n",
       "    </tr>\n",
       "    <tr>\n",
       "      <td>4</td>\n",
       "      <td>(9260.0, 158000.0]</td>\n",
       "      <td>-0.270941</td>\n",
       "    </tr>\n",
       "  </tbody>\n",
       "</table>\n",
       "</div>"
      ],
      "text/plain": [
       "            C_LIMIT_BAL  W_C_LIMIT_BAL\n",
       "0  (158000.0, 306000.0]       0.405812\n",
       "1  (306000.0, 454000.0]       0.626402\n",
       "2  (454000.0, 602000.0]       0.780805\n",
       "3  (602000.0, 750000.0]       0.935858\n",
       "4    (9260.0, 158000.0]      -0.270941"
      ]
     },
     "metadata": {},
     "output_type": "display_data"
    },
    {
     "data": {
      "text/html": [
       "<div>\n",
       "<style scoped>\n",
       "    .dataframe tbody tr th:only-of-type {\n",
       "        vertical-align: middle;\n",
       "    }\n",
       "\n",
       "    .dataframe tbody tr th {\n",
       "        vertical-align: top;\n",
       "    }\n",
       "\n",
       "    .dataframe thead th {\n",
       "        text-align: right;\n",
       "    }\n",
       "</style>\n",
       "<table border=\"1\" class=\"dataframe\">\n",
       "  <thead>\n",
       "    <tr style=\"text-align: right;\">\n",
       "      <th></th>\n",
       "      <th>C_AGE</th>\n",
       "      <th>W_C_AGE</th>\n",
       "    </tr>\n",
       "  </thead>\n",
       "  <tbody>\n",
       "    <tr>\n",
       "      <td>0</td>\n",
       "      <td>(20.946, 31.8]</td>\n",
       "      <td>-0.007478</td>\n",
       "    </tr>\n",
       "    <tr>\n",
       "      <td>1</td>\n",
       "      <td>(31.8, 42.6]</td>\n",
       "      <td>0.095282</td>\n",
       "    </tr>\n",
       "    <tr>\n",
       "      <td>2</td>\n",
       "      <td>(42.6, 53.4]</td>\n",
       "      <td>-0.112802</td>\n",
       "    </tr>\n",
       "    <tr>\n",
       "      <td>3</td>\n",
       "      <td>(53.4, 64.2]</td>\n",
       "      <td>-0.233088</td>\n",
       "    </tr>\n",
       "    <tr>\n",
       "      <td>4</td>\n",
       "      <td>(64.2, 75.0]</td>\n",
       "      <td>-0.125014</td>\n",
       "    </tr>\n",
       "  </tbody>\n",
       "</table>\n",
       "</div>"
      ],
      "text/plain": [
       "            C_AGE   W_C_AGE\n",
       "0  (20.946, 31.8] -0.007478\n",
       "1    (31.8, 42.6]  0.095282\n",
       "2    (42.6, 53.4] -0.112802\n",
       "3    (53.4, 64.2] -0.233088\n",
       "4    (64.2, 75.0] -0.125014"
      ]
     },
     "metadata": {},
     "output_type": "display_data"
    },
    {
     "data": {
      "text/html": [
       "<div>\n",
       "<style scoped>\n",
       "    .dataframe tbody tr th:only-of-type {\n",
       "        vertical-align: middle;\n",
       "    }\n",
       "\n",
       "    .dataframe tbody tr th {\n",
       "        vertical-align: top;\n",
       "    }\n",
       "\n",
       "    .dataframe thead th {\n",
       "        text-align: right;\n",
       "    }\n",
       "</style>\n",
       "<table border=\"1\" class=\"dataframe\">\n",
       "  <thead>\n",
       "    <tr style=\"text-align: right;\">\n",
       "      <th></th>\n",
       "      <th>C_BILL_AMT2</th>\n",
       "      <th>W_C_BILL_AMT2</th>\n",
       "    </tr>\n",
       "  </thead>\n",
       "  <tbody>\n",
       "    <tr>\n",
       "      <td>0</td>\n",
       "      <td>(-30276.283, 25256.6]</td>\n",
       "      <td>-0.044636</td>\n",
       "    </tr>\n",
       "    <tr>\n",
       "      <td>1</td>\n",
       "      <td>(135769.8, 191026.4]</td>\n",
       "      <td>0.338218</td>\n",
       "    </tr>\n",
       "    <tr>\n",
       "      <td>2</td>\n",
       "      <td>(191026.4, 246283.0]</td>\n",
       "      <td>0.385811</td>\n",
       "    </tr>\n",
       "    <tr>\n",
       "      <td>3</td>\n",
       "      <td>(25256.6, 80513.2]</td>\n",
       "      <td>-0.015687</td>\n",
       "    </tr>\n",
       "    <tr>\n",
       "      <td>4</td>\n",
       "      <td>(80513.2, 135769.8]</td>\n",
       "      <td>0.139501</td>\n",
       "    </tr>\n",
       "  </tbody>\n",
       "</table>\n",
       "</div>"
      ],
      "text/plain": [
       "             C_BILL_AMT2  W_C_BILL_AMT2\n",
       "0  (-30276.283, 25256.6]      -0.044636\n",
       "1   (135769.8, 191026.4]       0.338218\n",
       "2   (191026.4, 246283.0]       0.385811\n",
       "3     (25256.6, 80513.2]      -0.015687\n",
       "4    (80513.2, 135769.8]       0.139501"
      ]
     },
     "metadata": {},
     "output_type": "display_data"
    },
    {
     "data": {
      "text/html": [
       "<div>\n",
       "<style scoped>\n",
       "    .dataframe tbody tr th:only-of-type {\n",
       "        vertical-align: middle;\n",
       "    }\n",
       "\n",
       "    .dataframe tbody tr th {\n",
       "        vertical-align: top;\n",
       "    }\n",
       "\n",
       "    .dataframe thead th {\n",
       "        text-align: right;\n",
       "    }\n",
       "</style>\n",
       "<table border=\"1\" class=\"dataframe\">\n",
       "  <thead>\n",
       "    <tr style=\"text-align: right;\">\n",
       "      <th></th>\n",
       "      <th>C_BILL_AMT3</th>\n",
       "      <th>W_C_BILL_AMT3</th>\n",
       "    </tr>\n",
       "  </thead>\n",
       "  <tbody>\n",
       "    <tr>\n",
       "      <td>0</td>\n",
       "      <td>(-46384.86, 5445.0]</td>\n",
       "      <td>-0.000692</td>\n",
       "    </tr>\n",
       "    <tr>\n",
       "      <td>1</td>\n",
       "      <td>(108589.0, 160161.0]</td>\n",
       "      <td>0.200408</td>\n",
       "    </tr>\n",
       "    <tr>\n",
       "      <td>2</td>\n",
       "      <td>(160161.0, 211733.0]</td>\n",
       "      <td>0.307407</td>\n",
       "    </tr>\n",
       "    <tr>\n",
       "      <td>3</td>\n",
       "      <td>(5445.0, 57017.0]</td>\n",
       "      <td>-0.048165</td>\n",
       "    </tr>\n",
       "    <tr>\n",
       "      <td>4</td>\n",
       "      <td>(57017.0, 108589.0]</td>\n",
       "      <td>0.045909</td>\n",
       "    </tr>\n",
       "  </tbody>\n",
       "</table>\n",
       "</div>"
      ],
      "text/plain": [
       "            C_BILL_AMT3  W_C_BILL_AMT3\n",
       "0   (-46384.86, 5445.0]      -0.000692\n",
       "1  (108589.0, 160161.0]       0.200408\n",
       "2  (160161.0, 211733.0]       0.307407\n",
       "3     (5445.0, 57017.0]      -0.048165\n",
       "4   (57017.0, 108589.0]       0.045909"
      ]
     },
     "metadata": {},
     "output_type": "display_data"
    },
    {
     "data": {
      "text/html": [
       "<div>\n",
       "<style scoped>\n",
       "    .dataframe tbody tr th:only-of-type {\n",
       "        vertical-align: middle;\n",
       "    }\n",
       "\n",
       "    .dataframe tbody tr th {\n",
       "        vertical-align: top;\n",
       "    }\n",
       "\n",
       "    .dataframe thead th {\n",
       "        text-align: right;\n",
       "    }\n",
       "</style>\n",
       "<table border=\"1\" class=\"dataframe\">\n",
       "  <thead>\n",
       "    <tr style=\"text-align: right;\">\n",
       "      <th></th>\n",
       "      <th>C_BILL_AMT4</th>\n",
       "      <th>W_C_BILL_AMT4</th>\n",
       "    </tr>\n",
       "  </thead>\n",
       "  <tbody>\n",
       "    <tr>\n",
       "      <td>0</td>\n",
       "      <td>(-50942.463, 14676.6]</td>\n",
       "      <td>0.033378</td>\n",
       "    </tr>\n",
       "    <tr>\n",
       "      <td>1</td>\n",
       "      <td>(145261.8, 210554.4]</td>\n",
       "      <td>0.197759</td>\n",
       "    </tr>\n",
       "    <tr>\n",
       "      <td>2</td>\n",
       "      <td>(14676.6, 79969.2]</td>\n",
       "      <td>-0.078374</td>\n",
       "    </tr>\n",
       "    <tr>\n",
       "      <td>3</td>\n",
       "      <td>(210554.4, 275847.0]</td>\n",
       "      <td>0.385811</td>\n",
       "    </tr>\n",
       "    <tr>\n",
       "      <td>4</td>\n",
       "      <td>(79969.2, 145261.8]</td>\n",
       "      <td>0.142225</td>\n",
       "    </tr>\n",
       "  </tbody>\n",
       "</table>\n",
       "</div>"
      ],
      "text/plain": [
       "             C_BILL_AMT4  W_C_BILL_AMT4\n",
       "0  (-50942.463, 14676.6]       0.033378\n",
       "1   (145261.8, 210554.4]       0.197759\n",
       "2     (14676.6, 79969.2]      -0.078374\n",
       "3   (210554.4, 275847.0]       0.385811\n",
       "4    (79969.2, 145261.8]       0.142225"
      ]
     },
     "metadata": {},
     "output_type": "display_data"
    },
    {
     "data": {
      "text/html": [
       "<div>\n",
       "<style scoped>\n",
       "    .dataframe tbody tr th:only-of-type {\n",
       "        vertical-align: middle;\n",
       "    }\n",
       "\n",
       "    .dataframe tbody tr th {\n",
       "        vertical-align: top;\n",
       "    }\n",
       "\n",
       "    .dataframe thead th {\n",
       "        text-align: right;\n",
       "    }\n",
       "</style>\n",
       "<table border=\"1\" class=\"dataframe\">\n",
       "  <thead>\n",
       "    <tr style=\"text-align: right;\">\n",
       "      <th></th>\n",
       "      <th>C_BILL_AMT5</th>\n",
       "      <th>W_C_BILL_AMT5</th>\n",
       "    </tr>\n",
       "  </thead>\n",
       "  <tbody>\n",
       "    <tr>\n",
       "      <td>0</td>\n",
       "      <td>(-13154.2, 35063.6]</td>\n",
       "      <td>-0.016592</td>\n",
       "    </tr>\n",
       "    <tr>\n",
       "      <td>1</td>\n",
       "      <td>(-61613.089, -13154.2]</td>\n",
       "      <td>-0.530479</td>\n",
       "    </tr>\n",
       "    <tr>\n",
       "      <td>2</td>\n",
       "      <td>(131499.2, 179717.0]</td>\n",
       "      <td>0.075657</td>\n",
       "    </tr>\n",
       "    <tr>\n",
       "      <td>3</td>\n",
       "      <td>(35063.6, 83281.4]</td>\n",
       "      <td>0.012835</td>\n",
       "    </tr>\n",
       "    <tr>\n",
       "      <td>4</td>\n",
       "      <td>(83281.4, 131499.2]</td>\n",
       "      <td>0.119163</td>\n",
       "    </tr>\n",
       "  </tbody>\n",
       "</table>\n",
       "</div>"
      ],
      "text/plain": [
       "              C_BILL_AMT5  W_C_BILL_AMT5\n",
       "0     (-13154.2, 35063.6]      -0.016592\n",
       "1  (-61613.089, -13154.2]      -0.530479\n",
       "2    (131499.2, 179717.0]       0.075657\n",
       "3      (35063.6, 83281.4]       0.012835\n",
       "4     (83281.4, 131499.2]       0.119163"
      ]
     },
     "metadata": {},
     "output_type": "display_data"
    },
    {
     "data": {
      "text/html": [
       "<div>\n",
       "<style scoped>\n",
       "    .dataframe tbody tr th:only-of-type {\n",
       "        vertical-align: middle;\n",
       "    }\n",
       "\n",
       "    .dataframe tbody tr th {\n",
       "        vertical-align: top;\n",
       "    }\n",
       "\n",
       "    .dataframe thead th {\n",
       "        text-align: right;\n",
       "    }\n",
       "</style>\n",
       "<table border=\"1\" class=\"dataframe\">\n",
       "  <thead>\n",
       "    <tr style=\"text-align: right;\">\n",
       "      <th></th>\n",
       "      <th>C_BILL_AMT6</th>\n",
       "      <th>W_C_BILL_AMT6</th>\n",
       "    </tr>\n",
       "  </thead>\n",
       "  <tbody>\n",
       "    <tr>\n",
       "      <td>0</td>\n",
       "      <td>(-42348.6, 9927.8]</td>\n",
       "      <td>0.055043</td>\n",
       "    </tr>\n",
       "    <tr>\n",
       "      <td>1</td>\n",
       "      <td>(-94886.382, -42348.6]</td>\n",
       "      <td>-1.223626</td>\n",
       "    </tr>\n",
       "    <tr>\n",
       "      <td>2</td>\n",
       "      <td>(114480.6, 166757.0]</td>\n",
       "      <td>0.234435</td>\n",
       "    </tr>\n",
       "    <tr>\n",
       "      <td>3</td>\n",
       "      <td>(62204.2, 114480.6]</td>\n",
       "      <td>0.014179</td>\n",
       "    </tr>\n",
       "    <tr>\n",
       "      <td>4</td>\n",
       "      <td>(9927.8, 62204.2]</td>\n",
       "      <td>-0.085903</td>\n",
       "    </tr>\n",
       "  </tbody>\n",
       "</table>\n",
       "</div>"
      ],
      "text/plain": [
       "              C_BILL_AMT6  W_C_BILL_AMT6\n",
       "0      (-42348.6, 9927.8]       0.055043\n",
       "1  (-94886.382, -42348.6]      -1.223626\n",
       "2    (114480.6, 166757.0]       0.234435\n",
       "3     (62204.2, 114480.6]       0.014179\n",
       "4       (9927.8, 62204.2]      -0.085903"
      ]
     },
     "metadata": {},
     "output_type": "display_data"
    },
    {
     "data": {
      "text/html": [
       "<div>\n",
       "<style scoped>\n",
       "    .dataframe tbody tr th:only-of-type {\n",
       "        vertical-align: middle;\n",
       "    }\n",
       "\n",
       "    .dataframe tbody tr th {\n",
       "        vertical-align: top;\n",
       "    }\n",
       "\n",
       "    .dataframe thead th {\n",
       "        text-align: right;\n",
       "    }\n",
       "</style>\n",
       "<table border=\"1\" class=\"dataframe\">\n",
       "  <thead>\n",
       "    <tr style=\"text-align: right;\">\n",
       "      <th></th>\n",
       "      <th>C_PAY_AMT2</th>\n",
       "      <th>W_C_PAY_AMT2</th>\n",
       "    </tr>\n",
       "  </thead>\n",
       "  <tbody>\n",
       "    <tr>\n",
       "      <td>0</td>\n",
       "      <td>(-61.816, 12363.2]</td>\n",
       "      <td>-0.048769</td>\n",
       "    </tr>\n",
       "    <tr>\n",
       "      <td>1</td>\n",
       "      <td>(12363.2, 24726.4]</td>\n",
       "      <td>1.244805</td>\n",
       "    </tr>\n",
       "    <tr>\n",
       "      <td>2</td>\n",
       "      <td>(24726.4, 37089.6]</td>\n",
       "      <td>1.040119</td>\n",
       "    </tr>\n",
       "    <tr>\n",
       "      <td>3</td>\n",
       "      <td>(37089.6, 49452.8]</td>\n",
       "      <td>1.666745</td>\n",
       "    </tr>\n",
       "    <tr>\n",
       "      <td>4</td>\n",
       "      <td>(49452.8, 61816.0]</td>\n",
       "      <td>1.652759</td>\n",
       "    </tr>\n",
       "  </tbody>\n",
       "</table>\n",
       "</div>"
      ],
      "text/plain": [
       "           C_PAY_AMT2  W_C_PAY_AMT2\n",
       "0  (-61.816, 12363.2]     -0.048769\n",
       "1  (12363.2, 24726.4]      1.244805\n",
       "2  (24726.4, 37089.6]      1.040119\n",
       "3  (37089.6, 49452.8]      1.666745\n",
       "4  (49452.8, 61816.0]      1.652759"
      ]
     },
     "metadata": {},
     "output_type": "display_data"
    },
    {
     "data": {
      "text/html": [
       "<div>\n",
       "<style scoped>\n",
       "    .dataframe tbody tr th:only-of-type {\n",
       "        vertical-align: middle;\n",
       "    }\n",
       "\n",
       "    .dataframe tbody tr th {\n",
       "        vertical-align: top;\n",
       "    }\n",
       "\n",
       "    .dataframe thead th {\n",
       "        text-align: right;\n",
       "    }\n",
       "</style>\n",
       "<table border=\"1\" class=\"dataframe\">\n",
       "  <thead>\n",
       "    <tr style=\"text-align: right;\">\n",
       "      <th></th>\n",
       "      <th>C_PAY_AMT3</th>\n",
       "      <th>W_C_PAY_AMT3</th>\n",
       "    </tr>\n",
       "  </thead>\n",
       "  <tbody>\n",
       "    <tr>\n",
       "      <td>0</td>\n",
       "      <td>(-55.176, 11035.2]</td>\n",
       "      <td>-0.044135</td>\n",
       "    </tr>\n",
       "    <tr>\n",
       "      <td>1</td>\n",
       "      <td>(11035.2, 22070.4]</td>\n",
       "      <td>0.918028</td>\n",
       "    </tr>\n",
       "    <tr>\n",
       "      <td>2</td>\n",
       "      <td>(22070.4, 33105.6]</td>\n",
       "      <td>0.988636</td>\n",
       "    </tr>\n",
       "    <tr>\n",
       "      <td>3</td>\n",
       "      <td>(33105.6, 44140.8]</td>\n",
       "      <td>1.213878</td>\n",
       "    </tr>\n",
       "    <tr>\n",
       "      <td>4</td>\n",
       "      <td>(44140.8, 55176.0]</td>\n",
       "      <td>0.959612</td>\n",
       "    </tr>\n",
       "  </tbody>\n",
       "</table>\n",
       "</div>"
      ],
      "text/plain": [
       "           C_PAY_AMT3  W_C_PAY_AMT3\n",
       "0  (-55.176, 11035.2]     -0.044135\n",
       "1  (11035.2, 22070.4]      0.918028\n",
       "2  (22070.4, 33105.6]      0.988636\n",
       "3  (33105.6, 44140.8]      1.213878\n",
       "4  (44140.8, 55176.0]      0.959612"
      ]
     },
     "metadata": {},
     "output_type": "display_data"
    },
    {
     "data": {
      "text/html": [
       "<div>\n",
       "<style scoped>\n",
       "    .dataframe tbody tr th:only-of-type {\n",
       "        vertical-align: middle;\n",
       "    }\n",
       "\n",
       "    .dataframe tbody tr th {\n",
       "        vertical-align: top;\n",
       "    }\n",
       "\n",
       "    .dataframe thead th {\n",
       "        text-align: right;\n",
       "    }\n",
       "</style>\n",
       "<table border=\"1\" class=\"dataframe\">\n",
       "  <thead>\n",
       "    <tr style=\"text-align: right;\">\n",
       "      <th></th>\n",
       "      <th>C_PAY_AMT4</th>\n",
       "      <th>W_C_PAY_AMT4</th>\n",
       "    </tr>\n",
       "  </thead>\n",
       "  <tbody>\n",
       "    <tr>\n",
       "      <td>0</td>\n",
       "      <td>(-50.72, 10144.0]</td>\n",
       "      <td>-0.033887</td>\n",
       "    </tr>\n",
       "    <tr>\n",
       "      <td>1</td>\n",
       "      <td>(10144.0, 20288.0]</td>\n",
       "      <td>0.677753</td>\n",
       "    </tr>\n",
       "    <tr>\n",
       "      <td>2</td>\n",
       "      <td>(20288.0, 30432.0]</td>\n",
       "      <td>0.760936</td>\n",
       "    </tr>\n",
       "    <tr>\n",
       "      <td>3</td>\n",
       "      <td>(30432.0, 40576.0]</td>\n",
       "      <td>0.892629</td>\n",
       "    </tr>\n",
       "    <tr>\n",
       "      <td>4</td>\n",
       "      <td>(40576.0, 50720.0]</td>\n",
       "      <td>0.745814</td>\n",
       "    </tr>\n",
       "  </tbody>\n",
       "</table>\n",
       "</div>"
      ],
      "text/plain": [
       "           C_PAY_AMT4  W_C_PAY_AMT4\n",
       "0   (-50.72, 10144.0]     -0.033887\n",
       "1  (10144.0, 20288.0]      0.677753\n",
       "2  (20288.0, 30432.0]      0.760936\n",
       "3  (30432.0, 40576.0]      0.892629\n",
       "4  (40576.0, 50720.0]      0.745814"
      ]
     },
     "metadata": {},
     "output_type": "display_data"
    },
    {
     "data": {
      "text/html": [
       "<div>\n",
       "<style scoped>\n",
       "    .dataframe tbody tr th:only-of-type {\n",
       "        vertical-align: middle;\n",
       "    }\n",
       "\n",
       "    .dataframe tbody tr th {\n",
       "        vertical-align: top;\n",
       "    }\n",
       "\n",
       "    .dataframe thead th {\n",
       "        text-align: right;\n",
       "    }\n",
       "</style>\n",
       "<table border=\"1\" class=\"dataframe\">\n",
       "  <thead>\n",
       "    <tr style=\"text-align: right;\">\n",
       "      <th></th>\n",
       "      <th>C_PAY_AMT5</th>\n",
       "      <th>W_C_PAY_AMT5</th>\n",
       "    </tr>\n",
       "  </thead>\n",
       "  <tbody>\n",
       "    <tr>\n",
       "      <td>0</td>\n",
       "      <td>(-166.0, 33200.0]</td>\n",
       "      <td>-0.011307</td>\n",
       "    </tr>\n",
       "    <tr>\n",
       "      <td>1</td>\n",
       "      <td>(132800.0, 166000.0]</td>\n",
       "      <td>1.415431</td>\n",
       "    </tr>\n",
       "    <tr>\n",
       "      <td>2</td>\n",
       "      <td>(33200.0, 66400.0]</td>\n",
       "      <td>1.174269</td>\n",
       "    </tr>\n",
       "    <tr>\n",
       "      <td>3</td>\n",
       "      <td>(66400.0, 99600.0]</td>\n",
       "      <td>0.120108</td>\n",
       "    </tr>\n",
       "    <tr>\n",
       "      <td>4</td>\n",
       "      <td>(99600.0, 132800.0]</td>\n",
       "      <td>0.673494</td>\n",
       "    </tr>\n",
       "  </tbody>\n",
       "</table>\n",
       "</div>"
      ],
      "text/plain": [
       "             C_PAY_AMT5  W_C_PAY_AMT5\n",
       "0     (-166.0, 33200.0]     -0.011307\n",
       "1  (132800.0, 166000.0]      1.415431\n",
       "2    (33200.0, 66400.0]      1.174269\n",
       "3    (66400.0, 99600.0]      0.120108\n",
       "4   (99600.0, 132800.0]      0.673494"
      ]
     },
     "metadata": {},
     "output_type": "display_data"
    },
    {
     "data": {
      "text/html": [
       "<div>\n",
       "<style scoped>\n",
       "    .dataframe tbody tr th:only-of-type {\n",
       "        vertical-align: middle;\n",
       "    }\n",
       "\n",
       "    .dataframe tbody tr th {\n",
       "        vertical-align: top;\n",
       "    }\n",
       "\n",
       "    .dataframe thead th {\n",
       "        text-align: right;\n",
       "    }\n",
       "</style>\n",
       "<table border=\"1\" class=\"dataframe\">\n",
       "  <thead>\n",
       "    <tr style=\"text-align: right;\">\n",
       "      <th></th>\n",
       "      <th>SEX</th>\n",
       "      <th>W_SEX</th>\n",
       "    </tr>\n",
       "  </thead>\n",
       "  <tbody>\n",
       "    <tr>\n",
       "      <td>0</td>\n",
       "      <td>1</td>\n",
       "      <td>-0.123762</td>\n",
       "    </tr>\n",
       "    <tr>\n",
       "      <td>1</td>\n",
       "      <td>2</td>\n",
       "      <td>0.083834</td>\n",
       "    </tr>\n",
       "  </tbody>\n",
       "</table>\n",
       "</div>"
      ],
      "text/plain": [
       "   SEX     W_SEX\n",
       "0    1 -0.123762\n",
       "1    2  0.083834"
      ]
     },
     "metadata": {},
     "output_type": "display_data"
    },
    {
     "data": {
      "text/html": [
       "<div>\n",
       "<style scoped>\n",
       "    .dataframe tbody tr th:only-of-type {\n",
       "        vertical-align: middle;\n",
       "    }\n",
       "\n",
       "    .dataframe tbody tr th {\n",
       "        vertical-align: top;\n",
       "    }\n",
       "\n",
       "    .dataframe thead th {\n",
       "        text-align: right;\n",
       "    }\n",
       "</style>\n",
       "<table border=\"1\" class=\"dataframe\">\n",
       "  <thead>\n",
       "    <tr style=\"text-align: right;\">\n",
       "      <th></th>\n",
       "      <th>EDUCATION</th>\n",
       "      <th>W_EDUCATION</th>\n",
       "    </tr>\n",
       "  </thead>\n",
       "  <tbody>\n",
       "    <tr>\n",
       "      <td>0</td>\n",
       "      <td>1</td>\n",
       "      <td>0.172040</td>\n",
       "    </tr>\n",
       "    <tr>\n",
       "      <td>1</td>\n",
       "      <td>2</td>\n",
       "      <td>-0.082569</td>\n",
       "    </tr>\n",
       "    <tr>\n",
       "      <td>2</td>\n",
       "      <td>3</td>\n",
       "      <td>-0.158624</td>\n",
       "    </tr>\n",
       "    <tr>\n",
       "      <td>3</td>\n",
       "      <td>4</td>\n",
       "      <td>1.457395</td>\n",
       "    </tr>\n",
       "    <tr>\n",
       "      <td>4</td>\n",
       "      <td>5</td>\n",
       "      <td>1.466075</td>\n",
       "    </tr>\n",
       "    <tr>\n",
       "      <td>5</td>\n",
       "      <td>6</td>\n",
       "      <td>-0.358629</td>\n",
       "    </tr>\n",
       "  </tbody>\n",
       "</table>\n",
       "</div>"
      ],
      "text/plain": [
       "   EDUCATION  W_EDUCATION\n",
       "0          1     0.172040\n",
       "1          2    -0.082569\n",
       "2          3    -0.158624\n",
       "3          4     1.457395\n",
       "4          5     1.466075\n",
       "5          6    -0.358629"
      ]
     },
     "metadata": {},
     "output_type": "display_data"
    },
    {
     "data": {
      "text/html": [
       "<div>\n",
       "<style scoped>\n",
       "    .dataframe tbody tr th:only-of-type {\n",
       "        vertical-align: middle;\n",
       "    }\n",
       "\n",
       "    .dataframe tbody tr th {\n",
       "        vertical-align: top;\n",
       "    }\n",
       "\n",
       "    .dataframe thead th {\n",
       "        text-align: right;\n",
       "    }\n",
       "</style>\n",
       "<table border=\"1\" class=\"dataframe\">\n",
       "  <thead>\n",
       "    <tr style=\"text-align: right;\">\n",
       "      <th></th>\n",
       "      <th>MARRIAGE</th>\n",
       "      <th>W_MARRIAGE</th>\n",
       "    </tr>\n",
       "  </thead>\n",
       "  <tbody>\n",
       "    <tr>\n",
       "      <td>0</td>\n",
       "      <td>1</td>\n",
       "      <td>-0.084458</td>\n",
       "    </tr>\n",
       "    <tr>\n",
       "      <td>1</td>\n",
       "      <td>2</td>\n",
       "      <td>0.080075</td>\n",
       "    </tr>\n",
       "    <tr>\n",
       "      <td>2</td>\n",
       "      <td>3</td>\n",
       "      <td>-0.204083</td>\n",
       "    </tr>\n",
       "  </tbody>\n",
       "</table>\n",
       "</div>"
      ],
      "text/plain": [
       "   MARRIAGE  W_MARRIAGE\n",
       "0         1   -0.084458\n",
       "1         2    0.080075\n",
       "2         3   -0.204083"
      ]
     },
     "metadata": {},
     "output_type": "display_data"
    },
    {
     "data": {
      "text/html": [
       "<div>\n",
       "<style scoped>\n",
       "    .dataframe tbody tr th:only-of-type {\n",
       "        vertical-align: middle;\n",
       "    }\n",
       "\n",
       "    .dataframe tbody tr th {\n",
       "        vertical-align: top;\n",
       "    }\n",
       "\n",
       "    .dataframe thead th {\n",
       "        text-align: right;\n",
       "    }\n",
       "</style>\n",
       "<table border=\"1\" class=\"dataframe\">\n",
       "  <thead>\n",
       "    <tr style=\"text-align: right;\">\n",
       "      <th></th>\n",
       "      <th>PAY_0</th>\n",
       "      <th>W_PAY_0</th>\n",
       "    </tr>\n",
       "  </thead>\n",
       "  <tbody>\n",
       "    <tr>\n",
       "      <td>0</td>\n",
       "      <td>-2</td>\n",
       "      <td>0.606676</td>\n",
       "    </tr>\n",
       "    <tr>\n",
       "      <td>1</td>\n",
       "      <td>-1</td>\n",
       "      <td>0.325397</td>\n",
       "    </tr>\n",
       "    <tr>\n",
       "      <td>2</td>\n",
       "      <td>0</td>\n",
       "      <td>0.663443</td>\n",
       "    </tr>\n",
       "    <tr>\n",
       "      <td>3</td>\n",
       "      <td>1</td>\n",
       "      <td>-0.580398</td>\n",
       "    </tr>\n",
       "    <tr>\n",
       "      <td>4</td>\n",
       "      <td>2</td>\n",
       "      <td>-2.072329</td>\n",
       "    </tr>\n",
       "    <tr>\n",
       "      <td>5</td>\n",
       "      <td>3</td>\n",
       "      <td>-2.359979</td>\n",
       "    </tr>\n",
       "    <tr>\n",
       "      <td>6</td>\n",
       "      <td>4</td>\n",
       "      <td>-1.916774</td>\n",
       "    </tr>\n",
       "    <tr>\n",
       "      <td>7</td>\n",
       "      <td>5</td>\n",
       "      <td>-1.357158</td>\n",
       "    </tr>\n",
       "    <tr>\n",
       "      <td>8</td>\n",
       "      <td>6</td>\n",
       "      <td>-0.530479</td>\n",
       "    </tr>\n",
       "    <tr>\n",
       "      <td>9</td>\n",
       "      <td>7</td>\n",
       "      <td>-1.916774</td>\n",
       "    </tr>\n",
       "    <tr>\n",
       "      <td>10</td>\n",
       "      <td>8</td>\n",
       "      <td>-1.000483</td>\n",
       "    </tr>\n",
       "  </tbody>\n",
       "</table>\n",
       "</div>"
      ],
      "text/plain": [
       "    PAY_0   W_PAY_0\n",
       "0      -2  0.606676\n",
       "1      -1  0.325397\n",
       "2       0  0.663443\n",
       "3       1 -0.580398\n",
       "4       2 -2.072329\n",
       "5       3 -2.359979\n",
       "6       4 -1.916774\n",
       "7       5 -1.357158\n",
       "8       6 -0.530479\n",
       "9       7 -1.916774\n",
       "10      8 -1.000483"
      ]
     },
     "metadata": {},
     "output_type": "display_data"
    }
   ],
   "source": [
    "for col in ls_best:\n",
    "    df = WOE(df = aux2, var = col, tgt = tgt)"
   ]
  },
  {
   "cell_type": "code",
   "execution_count": null,
   "metadata": {},
   "outputs": [],
   "source": []
  },
  {
   "cell_type": "code",
   "execution_count": null,
   "metadata": {},
   "outputs": [],
   "source": []
  }
 ],
 "metadata": {
  "kernelspec": {
   "display_name": "unam",
   "language": "python",
   "name": "unam"
  },
  "language_info": {
   "codemirror_mode": {
    "name": "ipython",
    "version": 3
   },
   "file_extension": ".py",
   "mimetype": "text/x-python",
   "name": "python",
   "nbconvert_exporter": "python",
   "pygments_lexer": "ipython3",
   "version": "3.7.4"
  }
 },
 "nbformat": 4,
 "nbformat_minor": 2
}
