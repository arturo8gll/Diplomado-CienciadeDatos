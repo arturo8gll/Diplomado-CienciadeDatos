{
 "cells": [
  {
   "cell_type": "code",
   "execution_count": 1,
   "metadata": {},
   "outputs": [],
   "source": [
    "import pandas as pd\n",
    "from sklearn.model_selection import cross_val_score\n",
    "from sklearn.linear_model import LinearRegression, Lars, ElasticNet, Lasso, Ridge, BayesianRidge\n",
    "\n",
    "%matplotlib inline\n",
    "import pygal\n",
    "import math\n",
    "import numpy as np\n",
    "from IPython.display import display, HTML\n",
    "base_html = \"\"\"\n",
    "<!DOCTYPE html>\n",
    "<html>\n",
    "  <head>\n",
    "  <script type=\"text/javascript\" src=\"http://kozea.github.com/pygal.js/javascripts/svg.jquery.js\"></script>\n",
    "  <script type=\"text/javascript\" src=\"https://kozea.github.io/pygal.js/2.0.x/pygal-tooltips.min.js\"\"></script>\n",
    "  </head>\n",
    "  <body>\n",
    "    <figure>\n",
    "      {rendered_chart}\n",
    "    </figure>\n",
    "  </body>\n",
    "</html>\n",
    "\"\"\""
   ]
  },
  {
   "cell_type": "code",
   "execution_count": 2,
   "metadata": {},
   "outputs": [],
   "source": [
    "amt1_train=pd.read_csv('./Datos/train_PAY_AMT1.csv')\n",
    "amt1_val=pd.read_csv('./Datos/val_PAY_AMT1.csv')"
   ]
  },
  {
   "cell_type": "code",
   "execution_count": 3,
   "metadata": {},
   "outputs": [
    {
     "data": {
      "text/html": [
       "<div>\n",
       "<style scoped>\n",
       "    .dataframe tbody tr th:only-of-type {\n",
       "        vertical-align: middle;\n",
       "    }\n",
       "\n",
       "    .dataframe tbody tr th {\n",
       "        vertical-align: top;\n",
       "    }\n",
       "\n",
       "    .dataframe thead th {\n",
       "        text-align: right;\n",
       "    }\n",
       "</style>\n",
       "<table border=\"1\" class=\"dataframe\">\n",
       "  <thead>\n",
       "    <tr style=\"text-align: right;\">\n",
       "      <th></th>\n",
       "      <th>0</th>\n",
       "      <th>1</th>\n",
       "      <th>2</th>\n",
       "      <th>3</th>\n",
       "      <th>4</th>\n",
       "      <th>5</th>\n",
       "      <th>6</th>\n",
       "      <th>7</th>\n",
       "      <th>8</th>\n",
       "      <th>9</th>\n",
       "      <th>...</th>\n",
       "      <th>20990</th>\n",
       "      <th>20991</th>\n",
       "      <th>20992</th>\n",
       "      <th>20993</th>\n",
       "      <th>20994</th>\n",
       "      <th>20995</th>\n",
       "      <th>20996</th>\n",
       "      <th>20997</th>\n",
       "      <th>20998</th>\n",
       "      <th>20999</th>\n",
       "    </tr>\n",
       "  </thead>\n",
       "  <tbody>\n",
       "    <tr>\n",
       "      <td>ID</td>\n",
       "      <td>27942.0</td>\n",
       "      <td>4342.0</td>\n",
       "      <td>17333.0</td>\n",
       "      <td>27601.0</td>\n",
       "      <td>23311.0</td>\n",
       "      <td>24791.0</td>\n",
       "      <td>12205.0</td>\n",
       "      <td>27136.0</td>\n",
       "      <td>29742.0</td>\n",
       "      <td>3407.0</td>\n",
       "      <td>...</td>\n",
       "      <td>14721.0</td>\n",
       "      <td>4989.0</td>\n",
       "      <td>19051.0</td>\n",
       "      <td>404.0</td>\n",
       "      <td>29246.0</td>\n",
       "      <td>5907.0</td>\n",
       "      <td>24224.0</td>\n",
       "      <td>21561.0</td>\n",
       "      <td>20874.0</td>\n",
       "      <td>25408.0</td>\n",
       "    </tr>\n",
       "    <tr>\n",
       "      <td>LIMIT_BAL</td>\n",
       "      <td>200000.0</td>\n",
       "      <td>50000.0</td>\n",
       "      <td>50000.0</td>\n",
       "      <td>100000.0</td>\n",
       "      <td>20000.0</td>\n",
       "      <td>320000.0</td>\n",
       "      <td>500000.0</td>\n",
       "      <td>500000.0</td>\n",
       "      <td>100000.0</td>\n",
       "      <td>170000.0</td>\n",
       "      <td>...</td>\n",
       "      <td>360000.0</td>\n",
       "      <td>130000.0</td>\n",
       "      <td>20000.0</td>\n",
       "      <td>30000.0</td>\n",
       "      <td>50000.0</td>\n",
       "      <td>50000.0</td>\n",
       "      <td>580000.0</td>\n",
       "      <td>50000.0</td>\n",
       "      <td>200000.0</td>\n",
       "      <td>150000.0</td>\n",
       "    </tr>\n",
       "    <tr>\n",
       "      <td>SEX</td>\n",
       "      <td>2.0</td>\n",
       "      <td>1.0</td>\n",
       "      <td>2.0</td>\n",
       "      <td>2.0</td>\n",
       "      <td>2.0</td>\n",
       "      <td>1.0</td>\n",
       "      <td>1.0</td>\n",
       "      <td>1.0</td>\n",
       "      <td>1.0</td>\n",
       "      <td>2.0</td>\n",
       "      <td>...</td>\n",
       "      <td>1.0</td>\n",
       "      <td>2.0</td>\n",
       "      <td>2.0</td>\n",
       "      <td>1.0</td>\n",
       "      <td>1.0</td>\n",
       "      <td>2.0</td>\n",
       "      <td>1.0</td>\n",
       "      <td>2.0</td>\n",
       "      <td>1.0</td>\n",
       "      <td>2.0</td>\n",
       "    </tr>\n",
       "    <tr>\n",
       "      <td>EDUCATION</td>\n",
       "      <td>2.0</td>\n",
       "      <td>2.0</td>\n",
       "      <td>2.0</td>\n",
       "      <td>1.0</td>\n",
       "      <td>2.0</td>\n",
       "      <td>2.0</td>\n",
       "      <td>1.0</td>\n",
       "      <td>2.0</td>\n",
       "      <td>2.0</td>\n",
       "      <td>1.0</td>\n",
       "      <td>...</td>\n",
       "      <td>1.0</td>\n",
       "      <td>2.0</td>\n",
       "      <td>2.0</td>\n",
       "      <td>2.0</td>\n",
       "      <td>1.0</td>\n",
       "      <td>2.0</td>\n",
       "      <td>1.0</td>\n",
       "      <td>2.0</td>\n",
       "      <td>1.0</td>\n",
       "      <td>2.0</td>\n",
       "    </tr>\n",
       "    <tr>\n",
       "      <td>MARRIAGE</td>\n",
       "      <td>2.0</td>\n",
       "      <td>1.0</td>\n",
       "      <td>1.0</td>\n",
       "      <td>2.0</td>\n",
       "      <td>1.0</td>\n",
       "      <td>1.0</td>\n",
       "      <td>1.0</td>\n",
       "      <td>1.0</td>\n",
       "      <td>1.0</td>\n",
       "      <td>2.0</td>\n",
       "      <td>...</td>\n",
       "      <td>2.0</td>\n",
       "      <td>1.0</td>\n",
       "      <td>2.0</td>\n",
       "      <td>1.0</td>\n",
       "      <td>1.0</td>\n",
       "      <td>1.0</td>\n",
       "      <td>2.0</td>\n",
       "      <td>2.0</td>\n",
       "      <td>2.0</td>\n",
       "      <td>1.0</td>\n",
       "    </tr>\n",
       "    <tr>\n",
       "      <td>AGE</td>\n",
       "      <td>27.0</td>\n",
       "      <td>32.0</td>\n",
       "      <td>29.0</td>\n",
       "      <td>28.0</td>\n",
       "      <td>46.0</td>\n",
       "      <td>35.0</td>\n",
       "      <td>43.0</td>\n",
       "      <td>47.0</td>\n",
       "      <td>32.0</td>\n",
       "      <td>26.0</td>\n",
       "      <td>...</td>\n",
       "      <td>29.0</td>\n",
       "      <td>32.0</td>\n",
       "      <td>30.0</td>\n",
       "      <td>48.0</td>\n",
       "      <td>25.0</td>\n",
       "      <td>46.0</td>\n",
       "      <td>32.0</td>\n",
       "      <td>23.0</td>\n",
       "      <td>33.0</td>\n",
       "      <td>24.0</td>\n",
       "    </tr>\n",
       "    <tr>\n",
       "      <td>PAY_0</td>\n",
       "      <td>0.0</td>\n",
       "      <td>0.0</td>\n",
       "      <td>0.0</td>\n",
       "      <td>0.0</td>\n",
       "      <td>1.0</td>\n",
       "      <td>0.0</td>\n",
       "      <td>-1.0</td>\n",
       "      <td>-1.0</td>\n",
       "      <td>0.0</td>\n",
       "      <td>0.0</td>\n",
       "      <td>...</td>\n",
       "      <td>-1.0</td>\n",
       "      <td>1.0</td>\n",
       "      <td>3.0</td>\n",
       "      <td>0.0</td>\n",
       "      <td>0.0</td>\n",
       "      <td>0.0</td>\n",
       "      <td>-1.0</td>\n",
       "      <td>1.0</td>\n",
       "      <td>0.0</td>\n",
       "      <td>1.0</td>\n",
       "    </tr>\n",
       "    <tr>\n",
       "      <td>PAY_2</td>\n",
       "      <td>0.0</td>\n",
       "      <td>0.0</td>\n",
       "      <td>0.0</td>\n",
       "      <td>0.0</td>\n",
       "      <td>2.0</td>\n",
       "      <td>0.0</td>\n",
       "      <td>-1.0</td>\n",
       "      <td>-1.0</td>\n",
       "      <td>0.0</td>\n",
       "      <td>0.0</td>\n",
       "      <td>...</td>\n",
       "      <td>2.0</td>\n",
       "      <td>2.0</td>\n",
       "      <td>2.0</td>\n",
       "      <td>0.0</td>\n",
       "      <td>0.0</td>\n",
       "      <td>0.0</td>\n",
       "      <td>0.0</td>\n",
       "      <td>-1.0</td>\n",
       "      <td>0.0</td>\n",
       "      <td>-1.0</td>\n",
       "    </tr>\n",
       "    <tr>\n",
       "      <td>PAY_3</td>\n",
       "      <td>-1.0</td>\n",
       "      <td>0.0</td>\n",
       "      <td>0.0</td>\n",
       "      <td>0.0</td>\n",
       "      <td>0.0</td>\n",
       "      <td>0.0</td>\n",
       "      <td>-1.0</td>\n",
       "      <td>-1.0</td>\n",
       "      <td>0.0</td>\n",
       "      <td>0.0</td>\n",
       "      <td>...</td>\n",
       "      <td>-1.0</td>\n",
       "      <td>0.0</td>\n",
       "      <td>0.0</td>\n",
       "      <td>0.0</td>\n",
       "      <td>0.0</td>\n",
       "      <td>0.0</td>\n",
       "      <td>0.0</td>\n",
       "      <td>0.0</td>\n",
       "      <td>0.0</td>\n",
       "      <td>-1.0</td>\n",
       "    </tr>\n",
       "    <tr>\n",
       "      <td>PAY_4</td>\n",
       "      <td>-1.0</td>\n",
       "      <td>0.0</td>\n",
       "      <td>0.0</td>\n",
       "      <td>0.0</td>\n",
       "      <td>0.0</td>\n",
       "      <td>0.0</td>\n",
       "      <td>-1.0</td>\n",
       "      <td>-1.0</td>\n",
       "      <td>0.0</td>\n",
       "      <td>0.0</td>\n",
       "      <td>...</td>\n",
       "      <td>0.0</td>\n",
       "      <td>0.0</td>\n",
       "      <td>0.0</td>\n",
       "      <td>0.0</td>\n",
       "      <td>2.0</td>\n",
       "      <td>0.0</td>\n",
       "      <td>0.0</td>\n",
       "      <td>0.0</td>\n",
       "      <td>2.0</td>\n",
       "      <td>-1.0</td>\n",
       "    </tr>\n",
       "    <tr>\n",
       "      <td>PAY_5</td>\n",
       "      <td>-2.0</td>\n",
       "      <td>0.0</td>\n",
       "      <td>0.0</td>\n",
       "      <td>-1.0</td>\n",
       "      <td>-2.0</td>\n",
       "      <td>0.0</td>\n",
       "      <td>0.0</td>\n",
       "      <td>-1.0</td>\n",
       "      <td>0.0</td>\n",
       "      <td>0.0</td>\n",
       "      <td>...</td>\n",
       "      <td>0.0</td>\n",
       "      <td>0.0</td>\n",
       "      <td>0.0</td>\n",
       "      <td>0.0</td>\n",
       "      <td>0.0</td>\n",
       "      <td>0.0</td>\n",
       "      <td>0.0</td>\n",
       "      <td>0.0</td>\n",
       "      <td>0.0</td>\n",
       "      <td>-1.0</td>\n",
       "    </tr>\n",
       "    <tr>\n",
       "      <td>PAY_6</td>\n",
       "      <td>-2.0</td>\n",
       "      <td>0.0</td>\n",
       "      <td>0.0</td>\n",
       "      <td>0.0</td>\n",
       "      <td>-2.0</td>\n",
       "      <td>0.0</td>\n",
       "      <td>-1.0</td>\n",
       "      <td>-1.0</td>\n",
       "      <td>0.0</td>\n",
       "      <td>0.0</td>\n",
       "      <td>...</td>\n",
       "      <td>-1.0</td>\n",
       "      <td>2.0</td>\n",
       "      <td>0.0</td>\n",
       "      <td>0.0</td>\n",
       "      <td>0.0</td>\n",
       "      <td>0.0</td>\n",
       "      <td>0.0</td>\n",
       "      <td>0.0</td>\n",
       "      <td>0.0</td>\n",
       "      <td>-1.0</td>\n",
       "    </tr>\n",
       "    <tr>\n",
       "      <td>BILL_AMT2</td>\n",
       "      <td>18382.0</td>\n",
       "      <td>46117.0</td>\n",
       "      <td>21466.0</td>\n",
       "      <td>9089.0</td>\n",
       "      <td>2901.0</td>\n",
       "      <td>11475.0</td>\n",
       "      <td>5840.0</td>\n",
       "      <td>17849.0</td>\n",
       "      <td>61575.0</td>\n",
       "      <td>40779.0</td>\n",
       "      <td>...</td>\n",
       "      <td>3506.0</td>\n",
       "      <td>50465.0</td>\n",
       "      <td>18702.0</td>\n",
       "      <td>28870.0</td>\n",
       "      <td>5472.0</td>\n",
       "      <td>49160.0</td>\n",
       "      <td>46367.0</td>\n",
       "      <td>5896.0</td>\n",
       "      <td>58184.0</td>\n",
       "      <td>16711.0</td>\n",
       "    </tr>\n",
       "    <tr>\n",
       "      <td>BILL_AMT3</td>\n",
       "      <td>18834.0</td>\n",
       "      <td>46919.0</td>\n",
       "      <td>23122.0</td>\n",
       "      <td>13534.0</td>\n",
       "      <td>3800.0</td>\n",
       "      <td>12549.0</td>\n",
       "      <td>4464.0</td>\n",
       "      <td>12818.0</td>\n",
       "      <td>63028.0</td>\n",
       "      <td>34570.0</td>\n",
       "      <td>...</td>\n",
       "      <td>10845.0</td>\n",
       "      <td>51531.0</td>\n",
       "      <td>18331.0</td>\n",
       "      <td>27806.0</td>\n",
       "      <td>5891.0</td>\n",
       "      <td>49222.0</td>\n",
       "      <td>38111.0</td>\n",
       "      <td>6175.0</td>\n",
       "      <td>62286.0</td>\n",
       "      <td>8004.0</td>\n",
       "    </tr>\n",
       "    <tr>\n",
       "      <td>BILL_AMT4</td>\n",
       "      <td>0.0</td>\n",
       "      <td>17459.0</td>\n",
       "      <td>24654.0</td>\n",
       "      <td>16158.0</td>\n",
       "      <td>0.0</td>\n",
       "      <td>10853.0</td>\n",
       "      <td>8722.0</td>\n",
       "      <td>5674.0</td>\n",
       "      <td>43360.0</td>\n",
       "      <td>33153.0</td>\n",
       "      <td>...</td>\n",
       "      <td>8336.0</td>\n",
       "      <td>52076.0</td>\n",
       "      <td>19111.0</td>\n",
       "      <td>25142.0</td>\n",
       "      <td>6595.0</td>\n",
       "      <td>29291.0</td>\n",
       "      <td>33497.0</td>\n",
       "      <td>10000.0</td>\n",
       "      <td>61305.0</td>\n",
       "      <td>521.0</td>\n",
       "    </tr>\n",
       "    <tr>\n",
       "      <td>BILL_AMT5</td>\n",
       "      <td>0.0</td>\n",
       "      <td>17825.0</td>\n",
       "      <td>26365.0</td>\n",
       "      <td>6700.0</td>\n",
       "      <td>0.0</td>\n",
       "      <td>11755.0</td>\n",
       "      <td>4137.0</td>\n",
       "      <td>11416.0</td>\n",
       "      <td>41906.0</td>\n",
       "      <td>24969.0</td>\n",
       "      <td>...</td>\n",
       "      <td>5878.0</td>\n",
       "      <td>55432.0</td>\n",
       "      <td>15211.0</td>\n",
       "      <td>25667.0</td>\n",
       "      <td>8400.0</td>\n",
       "      <td>29391.0</td>\n",
       "      <td>26800.0</td>\n",
       "      <td>1952.0</td>\n",
       "      <td>62846.0</td>\n",
       "      <td>3776.0</td>\n",
       "    </tr>\n",
       "    <tr>\n",
       "      <td>BILL_AMT6</td>\n",
       "      <td>0.0</td>\n",
       "      <td>18193.0</td>\n",
       "      <td>25844.0</td>\n",
       "      <td>7730.0</td>\n",
       "      <td>0.0</td>\n",
       "      <td>7559.0</td>\n",
       "      <td>4123.0</td>\n",
       "      <td>36000.0</td>\n",
       "      <td>42831.0</td>\n",
       "      <td>22893.0</td>\n",
       "      <td>...</td>\n",
       "      <td>12903.0</td>\n",
       "      <td>56571.0</td>\n",
       "      <td>13562.0</td>\n",
       "      <td>26179.0</td>\n",
       "      <td>4041.0</td>\n",
       "      <td>29826.0</td>\n",
       "      <td>22202.0</td>\n",
       "      <td>406.0</td>\n",
       "      <td>42634.0</td>\n",
       "      <td>165.0</td>\n",
       "    </tr>\n",
       "    <tr>\n",
       "      <td>PAY_AMT1</td>\n",
       "      <td>5000.0</td>\n",
       "      <td>1998.0</td>\n",
       "      <td>2000.0</td>\n",
       "      <td>5800.0</td>\n",
       "      <td>0.0</td>\n",
       "      <td>1526.0</td>\n",
       "      <td>5864.0</td>\n",
       "      <td>18011.0</td>\n",
       "      <td>2454.0</td>\n",
       "      <td>4000.0</td>\n",
       "      <td>...</td>\n",
       "      <td>17.0</td>\n",
       "      <td>0.0</td>\n",
       "      <td>0.0</td>\n",
       "      <td>1774.0</td>\n",
       "      <td>2000.0</td>\n",
       "      <td>2438.0</td>\n",
       "      <td>11686.0</td>\n",
       "      <td>5896.0</td>\n",
       "      <td>5000.0</td>\n",
       "      <td>16924.0</td>\n",
       "    </tr>\n",
       "    <tr>\n",
       "      <td>PAY_AMT2</td>\n",
       "      <td>18834.0</td>\n",
       "      <td>3000.0</td>\n",
       "      <td>2000.0</td>\n",
       "      <td>6000.0</td>\n",
       "      <td>1000.0</td>\n",
       "      <td>1600.0</td>\n",
       "      <td>4465.0</td>\n",
       "      <td>12818.0</td>\n",
       "      <td>2700.0</td>\n",
       "      <td>2006.0</td>\n",
       "      <td>...</td>\n",
       "      <td>10859.0</td>\n",
       "      <td>2500.0</td>\n",
       "      <td>2346.0</td>\n",
       "      <td>1710.0</td>\n",
       "      <td>1500.0</td>\n",
       "      <td>2200.0</td>\n",
       "      <td>8348.0</td>\n",
       "      <td>2006.0</td>\n",
       "      <td>5700.0</td>\n",
       "      <td>8004.0</td>\n",
       "    </tr>\n",
       "    <tr>\n",
       "      <td>PAY_AMT3</td>\n",
       "      <td>60000.0</td>\n",
       "      <td>625.0</td>\n",
       "      <td>2000.0</td>\n",
       "      <td>4375.0</td>\n",
       "      <td>0.0</td>\n",
       "      <td>1098.0</td>\n",
       "      <td>8724.0</td>\n",
       "      <td>5674.0</td>\n",
       "      <td>1712.0</td>\n",
       "      <td>1000.0</td>\n",
       "      <td>...</td>\n",
       "      <td>380.0</td>\n",
       "      <td>2000.0</td>\n",
       "      <td>1400.0</td>\n",
       "      <td>1046.0</td>\n",
       "      <td>1000.0</td>\n",
       "      <td>1187.0</td>\n",
       "      <td>6593.0</td>\n",
       "      <td>5074.0</td>\n",
       "      <td>2000.0</td>\n",
       "      <td>521.0</td>\n",
       "    </tr>\n",
       "    <tr>\n",
       "      <td>PAY_AMT4</td>\n",
       "      <td>0.0</td>\n",
       "      <td>647.0</td>\n",
       "      <td>2000.0</td>\n",
       "      <td>6700.0</td>\n",
       "      <td>0.0</td>\n",
       "      <td>1000.0</td>\n",
       "      <td>0.0</td>\n",
       "      <td>11416.0</td>\n",
       "      <td>1500.0</td>\n",
       "      <td>1000.0</td>\n",
       "      <td>...</td>\n",
       "      <td>187.0</td>\n",
       "      <td>4200.0</td>\n",
       "      <td>304.0</td>\n",
       "      <td>1079.0</td>\n",
       "      <td>2000.0</td>\n",
       "      <td>1213.0</td>\n",
       "      <td>7197.0</td>\n",
       "      <td>1300.0</td>\n",
       "      <td>3000.0</td>\n",
       "      <td>3776.0</td>\n",
       "    </tr>\n",
       "    <tr>\n",
       "      <td>PAY_AMT5</td>\n",
       "      <td>0.0</td>\n",
       "      <td>664.0</td>\n",
       "      <td>2000.0</td>\n",
       "      <td>3000.0</td>\n",
       "      <td>0.0</td>\n",
       "      <td>272.0</td>\n",
       "      <td>4123.0</td>\n",
       "      <td>36018.0</td>\n",
       "      <td>1600.0</td>\n",
       "      <td>1000.0</td>\n",
       "      <td>...</td>\n",
       "      <td>12966.0</td>\n",
       "      <td>2200.0</td>\n",
       "      <td>271.0</td>\n",
       "      <td>1089.0</td>\n",
       "      <td>1000.0</td>\n",
       "      <td>1073.0</td>\n",
       "      <td>10097.0</td>\n",
       "      <td>406.0</td>\n",
       "      <td>2000.0</td>\n",
       "      <td>165.0</td>\n",
       "    </tr>\n",
       "    <tr>\n",
       "      <td>PAY_AMT6</td>\n",
       "      <td>0.0</td>\n",
       "      <td>649.0</td>\n",
       "      <td>2000.0</td>\n",
       "      <td>0.0</td>\n",
       "      <td>0.0</td>\n",
       "      <td>300.0</td>\n",
       "      <td>7124.0</td>\n",
       "      <td>14537.0</td>\n",
       "      <td>1600.0</td>\n",
       "      <td>1000.0</td>\n",
       "      <td>...</td>\n",
       "      <td>1038.0</td>\n",
       "      <td>0.0</td>\n",
       "      <td>0.0</td>\n",
       "      <td>2244.0</td>\n",
       "      <td>1000.0</td>\n",
       "      <td>1066.0</td>\n",
       "      <td>133081.0</td>\n",
       "      <td>0.0</td>\n",
       "      <td>1000.0</td>\n",
       "      <td>356.0</td>\n",
       "    </tr>\n",
       "  </tbody>\n",
       "</table>\n",
       "<p>23 rows × 21000 columns</p>\n",
       "</div>"
      ],
      "text/plain": [
       "              0        1        2         3        4         5         6      \\\n",
       "ID          27942.0   4342.0  17333.0   27601.0  23311.0   24791.0   12205.0   \n",
       "LIMIT_BAL  200000.0  50000.0  50000.0  100000.0  20000.0  320000.0  500000.0   \n",
       "SEX             2.0      1.0      2.0       2.0      2.0       1.0       1.0   \n",
       "EDUCATION       2.0      2.0      2.0       1.0      2.0       2.0       1.0   \n",
       "MARRIAGE        2.0      1.0      1.0       2.0      1.0       1.0       1.0   \n",
       "AGE            27.0     32.0     29.0      28.0     46.0      35.0      43.0   \n",
       "PAY_0           0.0      0.0      0.0       0.0      1.0       0.0      -1.0   \n",
       "PAY_2           0.0      0.0      0.0       0.0      2.0       0.0      -1.0   \n",
       "PAY_3          -1.0      0.0      0.0       0.0      0.0       0.0      -1.0   \n",
       "PAY_4          -1.0      0.0      0.0       0.0      0.0       0.0      -1.0   \n",
       "PAY_5          -2.0      0.0      0.0      -1.0     -2.0       0.0       0.0   \n",
       "PAY_6          -2.0      0.0      0.0       0.0     -2.0       0.0      -1.0   \n",
       "BILL_AMT2   18382.0  46117.0  21466.0    9089.0   2901.0   11475.0    5840.0   \n",
       "BILL_AMT3   18834.0  46919.0  23122.0   13534.0   3800.0   12549.0    4464.0   \n",
       "BILL_AMT4       0.0  17459.0  24654.0   16158.0      0.0   10853.0    8722.0   \n",
       "BILL_AMT5       0.0  17825.0  26365.0    6700.0      0.0   11755.0    4137.0   \n",
       "BILL_AMT6       0.0  18193.0  25844.0    7730.0      0.0    7559.0    4123.0   \n",
       "PAY_AMT1     5000.0   1998.0   2000.0    5800.0      0.0    1526.0    5864.0   \n",
       "PAY_AMT2    18834.0   3000.0   2000.0    6000.0   1000.0    1600.0    4465.0   \n",
       "PAY_AMT3    60000.0    625.0   2000.0    4375.0      0.0    1098.0    8724.0   \n",
       "PAY_AMT4        0.0    647.0   2000.0    6700.0      0.0    1000.0       0.0   \n",
       "PAY_AMT5        0.0    664.0   2000.0    3000.0      0.0     272.0    4123.0   \n",
       "PAY_AMT6        0.0    649.0   2000.0       0.0      0.0     300.0    7124.0   \n",
       "\n",
       "              7         8         9      ...     20990     20991    20992  \\\n",
       "ID          27136.0   29742.0    3407.0  ...   14721.0    4989.0  19051.0   \n",
       "LIMIT_BAL  500000.0  100000.0  170000.0  ...  360000.0  130000.0  20000.0   \n",
       "SEX             1.0       1.0       2.0  ...       1.0       2.0      2.0   \n",
       "EDUCATION       2.0       2.0       1.0  ...       1.0       2.0      2.0   \n",
       "MARRIAGE        1.0       1.0       2.0  ...       2.0       1.0      2.0   \n",
       "AGE            47.0      32.0      26.0  ...      29.0      32.0     30.0   \n",
       "PAY_0          -1.0       0.0       0.0  ...      -1.0       1.0      3.0   \n",
       "PAY_2          -1.0       0.0       0.0  ...       2.0       2.0      2.0   \n",
       "PAY_3          -1.0       0.0       0.0  ...      -1.0       0.0      0.0   \n",
       "PAY_4          -1.0       0.0       0.0  ...       0.0       0.0      0.0   \n",
       "PAY_5          -1.0       0.0       0.0  ...       0.0       0.0      0.0   \n",
       "PAY_6          -1.0       0.0       0.0  ...      -1.0       2.0      0.0   \n",
       "BILL_AMT2   17849.0   61575.0   40779.0  ...    3506.0   50465.0  18702.0   \n",
       "BILL_AMT3   12818.0   63028.0   34570.0  ...   10845.0   51531.0  18331.0   \n",
       "BILL_AMT4    5674.0   43360.0   33153.0  ...    8336.0   52076.0  19111.0   \n",
       "BILL_AMT5   11416.0   41906.0   24969.0  ...    5878.0   55432.0  15211.0   \n",
       "BILL_AMT6   36000.0   42831.0   22893.0  ...   12903.0   56571.0  13562.0   \n",
       "PAY_AMT1    18011.0    2454.0    4000.0  ...      17.0       0.0      0.0   \n",
       "PAY_AMT2    12818.0    2700.0    2006.0  ...   10859.0    2500.0   2346.0   \n",
       "PAY_AMT3     5674.0    1712.0    1000.0  ...     380.0    2000.0   1400.0   \n",
       "PAY_AMT4    11416.0    1500.0    1000.0  ...     187.0    4200.0    304.0   \n",
       "PAY_AMT5    36018.0    1600.0    1000.0  ...   12966.0    2200.0    271.0   \n",
       "PAY_AMT6    14537.0    1600.0    1000.0  ...    1038.0       0.0      0.0   \n",
       "\n",
       "             20993    20994    20995     20996    20997     20998     20999  \n",
       "ID           404.0  29246.0   5907.0   24224.0  21561.0   20874.0   25408.0  \n",
       "LIMIT_BAL  30000.0  50000.0  50000.0  580000.0  50000.0  200000.0  150000.0  \n",
       "SEX            1.0      1.0      2.0       1.0      2.0       1.0       2.0  \n",
       "EDUCATION      2.0      1.0      2.0       1.0      2.0       1.0       2.0  \n",
       "MARRIAGE       1.0      1.0      1.0       2.0      2.0       2.0       1.0  \n",
       "AGE           48.0     25.0     46.0      32.0     23.0      33.0      24.0  \n",
       "PAY_0          0.0      0.0      0.0      -1.0      1.0       0.0       1.0  \n",
       "PAY_2          0.0      0.0      0.0       0.0     -1.0       0.0      -1.0  \n",
       "PAY_3          0.0      0.0      0.0       0.0      0.0       0.0      -1.0  \n",
       "PAY_4          0.0      2.0      0.0       0.0      0.0       2.0      -1.0  \n",
       "PAY_5          0.0      0.0      0.0       0.0      0.0       0.0      -1.0  \n",
       "PAY_6          0.0      0.0      0.0       0.0      0.0       0.0      -1.0  \n",
       "BILL_AMT2  28870.0   5472.0  49160.0   46367.0   5896.0   58184.0   16711.0  \n",
       "BILL_AMT3  27806.0   5891.0  49222.0   38111.0   6175.0   62286.0    8004.0  \n",
       "BILL_AMT4  25142.0   6595.0  29291.0   33497.0  10000.0   61305.0     521.0  \n",
       "BILL_AMT5  25667.0   8400.0  29391.0   26800.0   1952.0   62846.0    3776.0  \n",
       "BILL_AMT6  26179.0   4041.0  29826.0   22202.0    406.0   42634.0     165.0  \n",
       "PAY_AMT1    1774.0   2000.0   2438.0   11686.0   5896.0    5000.0   16924.0  \n",
       "PAY_AMT2    1710.0   1500.0   2200.0    8348.0   2006.0    5700.0    8004.0  \n",
       "PAY_AMT3    1046.0   1000.0   1187.0    6593.0   5074.0    2000.0     521.0  \n",
       "PAY_AMT4    1079.0   2000.0   1213.0    7197.0   1300.0    3000.0    3776.0  \n",
       "PAY_AMT5    1089.0   1000.0   1073.0   10097.0    406.0    2000.0     165.0  \n",
       "PAY_AMT6    2244.0   1000.0   1066.0  133081.0      0.0    1000.0     356.0  \n",
       "\n",
       "[23 rows x 21000 columns]"
      ]
     },
     "execution_count": 3,
     "metadata": {},
     "output_type": "execute_result"
    }
   ],
   "source": [
    "amt1_train.T"
   ]
  },
  {
   "cell_type": "code",
   "execution_count": 4,
   "metadata": {},
   "outputs": [
    {
     "data": {
      "text/plain": [
       "Index(['ID', 'LIMIT_BAL', 'SEX', 'EDUCATION', 'MARRIAGE', 'AGE', 'PAY_0',\n",
       "       'PAY_2', 'PAY_3', 'PAY_4', 'PAY_5', 'PAY_6', 'BILL_AMT2', 'BILL_AMT3',\n",
       "       'BILL_AMT4', 'BILL_AMT5', 'BILL_AMT6', 'PAY_AMT1', 'PAY_AMT2',\n",
       "       'PAY_AMT3', 'PAY_AMT4', 'PAY_AMT5', 'PAY_AMT6'],\n",
       "      dtype='object')"
      ]
     },
     "execution_count": 4,
     "metadata": {},
     "output_type": "execute_result"
    }
   ],
   "source": [
    "amt1_train.columns"
   ]
  },
  {
   "cell_type": "markdown",
   "metadata": {},
   "source": [
    "educacion tiene 0\n",
    "\n",
    "marriage tiene 0\n",
    "\n",
    "pay_0 -2 y 0"
   ]
  },
  {
   "cell_type": "code",
   "execution_count": 5,
   "metadata": {},
   "outputs": [],
   "source": [
    "def plot_hist(df,value,route=\"\"):\n",
    "    info=df[value].describe()\n",
    "    r=info[\"max\"]-info[\"min\"]\n",
    "    k=math.ceil(1+3.322*math.log10(info[\"count\"]))\n",
    "    a=int(round(r/k))\n",
    "    ranges=[]\n",
    "    for i in range(int(info[\"min\"]),int(info[\"max\"]+2),a):\n",
    "        ranges.append(i)\n",
    "    aux=np.histogram(df[value], bins=ranges)\n",
    "    histograma=[]\n",
    "    for i in range(len(aux[0])):\n",
    "        histograma.append([aux[0][i],aux[1][i],aux[1][i+1]])\n",
    "    hist = pygal.Histogram()\n",
    "    hist.add(value,histograma)\n",
    "    if route!='':\n",
    "        return hist.render_to_png(route)\n",
    "    display(HTML(base_html.format(rendered_chart=hist.render(is_unicode=True))))"
   ]
  },
  {
   "cell_type": "code",
   "execution_count": 6,
   "metadata": {},
   "outputs": [],
   "source": [
    "aux=amt1_train[amt1_train[\"MARRIAGE\"]>0]\n",
    "aux=aux[aux[\"EDUCATION\"]>0]\n",
    "#aux=aux[(aux[\"BILL_AMT2\"]>=0) & (aux[\"BILL_AMT2\"]<331476)]\n",
    "#aux=aux[(aux[\"BILL_AMT4\"]>=-200) & (aux[\"BILL_AMT4\"]<300875)]\n",
    "#aux=aux[aux[\"BILL_AMT4\"]<283546]\n",
    "#aux=aux[(aux[\"BILL_AMT6\"]>=-304) & (aux[\"BILL_AMT6\"]<273144)]\n",
    "#aux=aux[aux[\"PAY_AMT3\"]<=18346.250000]\n",
    "#aux=aux[aux[\"PAY_AMT4\"]<=69246.190000]\n",
    "#aux=aux[aux[\"PAY_AMT5\"]<=70000.270000]\n",
    "#aux=aux[aux[\"PAY_AMT6\"]<=85750.700000]"
   ]
  },
  {
   "cell_type": "code",
   "execution_count": 7,
   "metadata": {},
   "outputs": [
    {
     "data": {
      "text/plain": [
       "0.9976666666666667"
      ]
     },
     "execution_count": 7,
     "metadata": {},
     "output_type": "execute_result"
    }
   ],
   "source": [
    "aux.shape[0]/amt1_train.shape[0]"
   ]
  },
  {
   "cell_type": "code",
   "execution_count": 41,
   "metadata": {},
   "outputs": [
    {
     "data": {
      "text/plain": [
       "count     21000.000000\n",
       "mean       5363.605524\n",
       "std       17893.663134\n",
       "min           0.000000\n",
       "0%            0.000000\n",
       "1%            0.000000\n",
       "5%            0.000000\n",
       "10%           0.000000\n",
       "20%           5.000000\n",
       "30%         780.000000\n",
       "40%        1230.000000\n",
       "50%        1855.000000\n",
       "60%        2500.000000\n",
       "70%        3628.100000\n",
       "80%        5372.200000\n",
       "90%       10000.000000\n",
       "95%       18346.250000\n",
       "99%       74864.700000\n",
       "max      896040.000000\n",
       "Name: PAY_AMT3, dtype: float64"
      ]
     },
     "execution_count": 41,
     "metadata": {},
     "output_type": "execute_result"
    }
   ],
   "source": [
    "amt1_train[\"PAY_AMT3\"].describe(percentiles = [x/10 for x in range(10)] + [0.01, 0.05, 0.95, 0.99])"
   ]
  },
  {
   "cell_type": "code",
   "execution_count": 39,
   "metadata": {},
   "outputs": [
    {
     "data": {
      "text/html": [
       "\n",
       "<!DOCTYPE html>\n",
       "<html>\n",
       "  <head>\n",
       "  <script type=\"text/javascript\" src=\"http://kozea.github.com/pygal.js/javascripts/svg.jquery.js\"></script>\n",
       "  <script type=\"text/javascript\" src=\"https://kozea.github.io/pygal.js/2.0.x/pygal-tooltips.min.js\"\"></script>\n",
       "  </head>\n",
       "  <body>\n",
       "    <figure>\n",
       "      <?xml version='1.0' encoding='utf-8'?>\n",
       "<svg xmlns:xlink=\"http://www.w3.org/1999/xlink\" class=\"pygal-chart\" id=\"chart-34113d29-dc89-439f-9ecf-554250bc0886\" viewBox=\"0 0 800 600\" xmlns=\"http://www.w3.org/2000/svg\"><!--Generated with pygal 2.4.0 (etree) ©Kozea 2012-2016 on 2019-10-23--><!--http://pygal.org--><!--http://github.com/Kozea/pygal--><defs><style type=\"text/css\">#chart-34113d29-dc89-439f-9ecf-554250bc0886{-webkit-user-select:none;-webkit-font-smoothing:antialiased;font-family:Consolas,\"Liberation Mono\",Menlo,Courier,monospace}#chart-34113d29-dc89-439f-9ecf-554250bc0886 .title{font-family:Consolas,\"Liberation Mono\",Menlo,Courier,monospace;font-size:16px}#chart-34113d29-dc89-439f-9ecf-554250bc0886 .legends .legend text{font-family:Consolas,\"Liberation Mono\",Menlo,Courier,monospace;font-size:14px}#chart-34113d29-dc89-439f-9ecf-554250bc0886 .axis text{font-family:Consolas,\"Liberation Mono\",Menlo,Courier,monospace;font-size:10px}#chart-34113d29-dc89-439f-9ecf-554250bc0886 .axis text.major{font-family:Consolas,\"Liberation Mono\",Menlo,Courier,monospace;font-size:10px}#chart-34113d29-dc89-439f-9ecf-554250bc0886 .text-overlay text.value{font-family:Consolas,\"Liberation Mono\",Menlo,Courier,monospace;font-size:16px}#chart-34113d29-dc89-439f-9ecf-554250bc0886 .text-overlay text.label{font-family:Consolas,\"Liberation Mono\",Menlo,Courier,monospace;font-size:10px}#chart-34113d29-dc89-439f-9ecf-554250bc0886 .tooltip{font-family:Consolas,\"Liberation Mono\",Menlo,Courier,monospace;font-size:14px}#chart-34113d29-dc89-439f-9ecf-554250bc0886 text.no_data{font-family:Consolas,\"Liberation Mono\",Menlo,Courier,monospace;font-size:64px}\n",
       "#chart-34113d29-dc89-439f-9ecf-554250bc0886{background-color:rgba(249,249,249,1)}#chart-34113d29-dc89-439f-9ecf-554250bc0886 path,#chart-34113d29-dc89-439f-9ecf-554250bc0886 line,#chart-34113d29-dc89-439f-9ecf-554250bc0886 rect,#chart-34113d29-dc89-439f-9ecf-554250bc0886 circle{-webkit-transition:150ms;-moz-transition:150ms;transition:150ms}#chart-34113d29-dc89-439f-9ecf-554250bc0886 .graph &gt; .background{fill:rgba(249,249,249,1)}#chart-34113d29-dc89-439f-9ecf-554250bc0886 .plot &gt; .background{fill:rgba(255,255,255,1)}#chart-34113d29-dc89-439f-9ecf-554250bc0886 .graph{fill:rgba(0,0,0,.87)}#chart-34113d29-dc89-439f-9ecf-554250bc0886 text.no_data{fill:rgba(0,0,0,1)}#chart-34113d29-dc89-439f-9ecf-554250bc0886 .title{fill:rgba(0,0,0,1)}#chart-34113d29-dc89-439f-9ecf-554250bc0886 .legends .legend text{fill:rgba(0,0,0,.87)}#chart-34113d29-dc89-439f-9ecf-554250bc0886 .legends .legend:hover text{fill:rgba(0,0,0,1)}#chart-34113d29-dc89-439f-9ecf-554250bc0886 .axis .line{stroke:rgba(0,0,0,1)}#chart-34113d29-dc89-439f-9ecf-554250bc0886 .axis .guide.line{stroke:rgba(0,0,0,.54)}#chart-34113d29-dc89-439f-9ecf-554250bc0886 .axis .major.line{stroke:rgba(0,0,0,.87)}#chart-34113d29-dc89-439f-9ecf-554250bc0886 .axis text.major{fill:rgba(0,0,0,1)}#chart-34113d29-dc89-439f-9ecf-554250bc0886 .axis.y .guides:hover .guide.line,#chart-34113d29-dc89-439f-9ecf-554250bc0886 .line-graph .axis.x .guides:hover .guide.line,#chart-34113d29-dc89-439f-9ecf-554250bc0886 .stackedline-graph .axis.x .guides:hover .guide.line,#chart-34113d29-dc89-439f-9ecf-554250bc0886 .xy-graph .axis.x .guides:hover .guide.line{stroke:rgba(0,0,0,1)}#chart-34113d29-dc89-439f-9ecf-554250bc0886 .axis .guides:hover text{fill:rgba(0,0,0,1)}#chart-34113d29-dc89-439f-9ecf-554250bc0886 .reactive{fill-opacity:.7;stroke-opacity:.8}#chart-34113d29-dc89-439f-9ecf-554250bc0886 .ci{stroke:rgba(0,0,0,.87)}#chart-34113d29-dc89-439f-9ecf-554250bc0886 .reactive.active,#chart-34113d29-dc89-439f-9ecf-554250bc0886 .active .reactive{fill-opacity:.8;stroke-opacity:.9;stroke-width:4}#chart-34113d29-dc89-439f-9ecf-554250bc0886 .ci .reactive.active{stroke-width:1.5}#chart-34113d29-dc89-439f-9ecf-554250bc0886 .series text{fill:rgba(0,0,0,1)}#chart-34113d29-dc89-439f-9ecf-554250bc0886 .tooltip rect{fill:rgba(255,255,255,1);stroke:rgba(0,0,0,1);-webkit-transition:opacity 150ms;-moz-transition:opacity 150ms;transition:opacity 150ms}#chart-34113d29-dc89-439f-9ecf-554250bc0886 .tooltip .label{fill:rgba(0,0,0,.87)}#chart-34113d29-dc89-439f-9ecf-554250bc0886 .tooltip .label{fill:rgba(0,0,0,.87)}#chart-34113d29-dc89-439f-9ecf-554250bc0886 .tooltip .legend{font-size:.8em;fill:rgba(0,0,0,.54)}#chart-34113d29-dc89-439f-9ecf-554250bc0886 .tooltip .x_label{font-size:.6em;fill:rgba(0,0,0,1)}#chart-34113d29-dc89-439f-9ecf-554250bc0886 .tooltip .xlink{font-size:.5em;text-decoration:underline}#chart-34113d29-dc89-439f-9ecf-554250bc0886 .tooltip .value{font-size:1.5em}#chart-34113d29-dc89-439f-9ecf-554250bc0886 .bound{font-size:.5em}#chart-34113d29-dc89-439f-9ecf-554250bc0886 .max-value{font-size:.75em;fill:rgba(0,0,0,.54)}#chart-34113d29-dc89-439f-9ecf-554250bc0886 .map-element{fill:rgba(255,255,255,1);stroke:rgba(0,0,0,.54) !important}#chart-34113d29-dc89-439f-9ecf-554250bc0886 .map-element .reactive{fill-opacity:inherit;stroke-opacity:inherit}#chart-34113d29-dc89-439f-9ecf-554250bc0886 .color-0,#chart-34113d29-dc89-439f-9ecf-554250bc0886 .color-0 a:visited{stroke:#F44336;fill:#F44336}#chart-34113d29-dc89-439f-9ecf-554250bc0886 .text-overlay .color-0 text{fill:black}\n",
       "#chart-34113d29-dc89-439f-9ecf-554250bc0886 text.no_data{text-anchor:middle}#chart-34113d29-dc89-439f-9ecf-554250bc0886 .guide.line{fill:none}#chart-34113d29-dc89-439f-9ecf-554250bc0886 .centered{text-anchor:middle}#chart-34113d29-dc89-439f-9ecf-554250bc0886 .title{text-anchor:middle}#chart-34113d29-dc89-439f-9ecf-554250bc0886 .legends .legend text{fill-opacity:1}#chart-34113d29-dc89-439f-9ecf-554250bc0886 .axis.x text{text-anchor:middle}#chart-34113d29-dc89-439f-9ecf-554250bc0886 .axis.x:not(.web) text[transform]{text-anchor:start}#chart-34113d29-dc89-439f-9ecf-554250bc0886 .axis.x:not(.web) text[transform].backwards{text-anchor:end}#chart-34113d29-dc89-439f-9ecf-554250bc0886 .axis.y text{text-anchor:end}#chart-34113d29-dc89-439f-9ecf-554250bc0886 .axis.y text[transform].backwards{text-anchor:start}#chart-34113d29-dc89-439f-9ecf-554250bc0886 .axis.y2 text{text-anchor:start}#chart-34113d29-dc89-439f-9ecf-554250bc0886 .axis.y2 text[transform].backwards{text-anchor:end}#chart-34113d29-dc89-439f-9ecf-554250bc0886 .axis .guide.line{stroke-dasharray:4,4}#chart-34113d29-dc89-439f-9ecf-554250bc0886 .axis .major.guide.line{stroke-dasharray:6,6}#chart-34113d29-dc89-439f-9ecf-554250bc0886 .horizontal .axis.y .guide.line,#chart-34113d29-dc89-439f-9ecf-554250bc0886 .horizontal .axis.y2 .guide.line,#chart-34113d29-dc89-439f-9ecf-554250bc0886 .vertical .axis.x .guide.line{opacity:0}#chart-34113d29-dc89-439f-9ecf-554250bc0886 .horizontal .axis.always_show .guide.line,#chart-34113d29-dc89-439f-9ecf-554250bc0886 .vertical .axis.always_show .guide.line{opacity:1 !important}#chart-34113d29-dc89-439f-9ecf-554250bc0886 .axis.y .guides:hover .guide.line,#chart-34113d29-dc89-439f-9ecf-554250bc0886 .axis.y2 .guides:hover .guide.line,#chart-34113d29-dc89-439f-9ecf-554250bc0886 .axis.x .guides:hover .guide.line{opacity:1}#chart-34113d29-dc89-439f-9ecf-554250bc0886 .axis .guides:hover text{opacity:1}#chart-34113d29-dc89-439f-9ecf-554250bc0886 .nofill{fill:none}#chart-34113d29-dc89-439f-9ecf-554250bc0886 .subtle-fill{fill-opacity:.2}#chart-34113d29-dc89-439f-9ecf-554250bc0886 .dot{stroke-width:1px;fill-opacity:1}#chart-34113d29-dc89-439f-9ecf-554250bc0886 .dot.active{stroke-width:5px}#chart-34113d29-dc89-439f-9ecf-554250bc0886 .dot.negative{fill:transparent}#chart-34113d29-dc89-439f-9ecf-554250bc0886 text,#chart-34113d29-dc89-439f-9ecf-554250bc0886 tspan{stroke:none !important}#chart-34113d29-dc89-439f-9ecf-554250bc0886 .series text.active{opacity:1}#chart-34113d29-dc89-439f-9ecf-554250bc0886 .tooltip rect{fill-opacity:.95;stroke-width:.5}#chart-34113d29-dc89-439f-9ecf-554250bc0886 .tooltip text{fill-opacity:1}#chart-34113d29-dc89-439f-9ecf-554250bc0886 .showable{visibility:hidden}#chart-34113d29-dc89-439f-9ecf-554250bc0886 .showable.shown{visibility:visible}#chart-34113d29-dc89-439f-9ecf-554250bc0886 .gauge-background{fill:rgba(229,229,229,1);stroke:none}#chart-34113d29-dc89-439f-9ecf-554250bc0886 .bg-lines{stroke:rgba(249,249,249,1);stroke-width:2px}</style><script type=\"text/javascript\">window.pygal = window.pygal || {};window.pygal.config = window.pygal.config || {};window.pygal.config['34113d29-dc89-439f-9ecf-554250bc0886'] = {\"allow_interruptions\": false, \"box_mode\": \"extremes\", \"classes\": [\"pygal-chart\"], \"css\": [\"file://style.css\", \"file://graph.css\"], \"defs\": [], \"disable_xml_declaration\": false, \"dots_size\": 2.5, \"dynamic_print_values\": false, \"explicit_size\": false, \"fill\": false, \"force_uri_protocol\": \"https\", \"formatter\": null, \"half_pie\": false, \"height\": 600, \"include_x_axis\": false, \"inner_radius\": 0, \"interpolate\": null, \"interpolation_parameters\": {}, \"interpolation_precision\": 250, \"inverse_y_axis\": false, \"js\": [\"//kozea.github.io/pygal.js/2.0.x/pygal-tooltips.min.js\"], \"legend_at_bottom\": false, \"legend_at_bottom_columns\": null, \"legend_box_size\": 12, \"logarithmic\": false, \"margin\": 20, \"margin_bottom\": null, \"margin_left\": null, \"margin_right\": null, \"margin_top\": null, \"max_scale\": 16, \"min_scale\": 4, \"missing_value_fill_truncation\": \"x\", \"no_data_text\": \"No data\", \"no_prefix\": false, \"order_min\": null, \"pretty_print\": false, \"print_labels\": false, \"print_values\": false, \"print_values_position\": \"center\", \"print_zeroes\": true, \"range\": null, \"rounded_bars\": null, \"secondary_range\": null, \"show_dots\": true, \"show_legend\": true, \"show_minor_x_labels\": true, \"show_minor_y_labels\": true, \"show_only_major_dots\": false, \"show_x_guides\": false, \"show_x_labels\": true, \"show_y_guides\": true, \"show_y_labels\": true, \"spacing\": 10, \"stack_from_top\": false, \"strict\": false, \"stroke\": true, \"stroke_style\": null, \"style\": {\"background\": \"rgba(249, 249, 249, 1)\", \"ci_colors\": [], \"colors\": [\"#F44336\", \"#3F51B5\", \"#009688\", \"#FFC107\", \"#FF5722\", \"#9C27B0\", \"#03A9F4\", \"#8BC34A\", \"#FF9800\", \"#E91E63\", \"#2196F3\", \"#4CAF50\", \"#FFEB3B\", \"#673AB7\", \"#00BCD4\", \"#CDDC39\", \"#9E9E9E\", \"#607D8B\"], \"font_family\": \"Consolas, \\\"Liberation Mono\\\", Menlo, Courier, monospace\", \"foreground\": \"rgba(0, 0, 0, .87)\", \"foreground_strong\": \"rgba(0, 0, 0, 1)\", \"foreground_subtle\": \"rgba(0, 0, 0, .54)\", \"guide_stroke_dasharray\": \"4,4\", \"label_font_family\": \"Consolas, \\\"Liberation Mono\\\", Menlo, Courier, monospace\", \"label_font_size\": 10, \"legend_font_family\": \"Consolas, \\\"Liberation Mono\\\", Menlo, Courier, monospace\", \"legend_font_size\": 14, \"major_guide_stroke_dasharray\": \"6,6\", \"major_label_font_family\": \"Consolas, \\\"Liberation Mono\\\", Menlo, Courier, monospace\", \"major_label_font_size\": 10, \"no_data_font_family\": \"Consolas, \\\"Liberation Mono\\\", Menlo, Courier, monospace\", \"no_data_font_size\": 64, \"opacity\": \".7\", \"opacity_hover\": \".8\", \"plot_background\": \"rgba(255, 255, 255, 1)\", \"stroke_opacity\": \".8\", \"stroke_opacity_hover\": \".9\", \"title_font_family\": \"Consolas, \\\"Liberation Mono\\\", Menlo, Courier, monospace\", \"title_font_size\": 16, \"tooltip_font_family\": \"Consolas, \\\"Liberation Mono\\\", Menlo, Courier, monospace\", \"tooltip_font_size\": 14, \"transition\": \"150ms\", \"value_background\": \"rgba(229, 229, 229, 1)\", \"value_colors\": [], \"value_font_family\": \"Consolas, \\\"Liberation Mono\\\", Menlo, Courier, monospace\", \"value_font_size\": 16, \"value_label_font_family\": \"Consolas, \\\"Liberation Mono\\\", Menlo, Courier, monospace\", \"value_label_font_size\": 10}, \"title\": null, \"tooltip_border_radius\": 0, \"tooltip_fancy_mode\": true, \"truncate_label\": null, \"truncate_legend\": null, \"width\": 800, \"x_label_rotation\": 0, \"x_labels\": null, \"x_labels_major\": null, \"x_labels_major_count\": null, \"x_labels_major_every\": null, \"x_title\": null, \"xrange\": null, \"y_label_rotation\": 0, \"y_labels\": null, \"y_labels_major\": null, \"y_labels_major_count\": null, \"y_labels_major_every\": null, \"y_title\": null, \"zero\": 0, \"legends\": [\"PAY_5\"]}</script><script type=\"text/javascript\" xlink:href=\"https://kozea.github.io/pygal.js/2.0.x/pygal-tooltips.min.js\" /></defs><title>Pygal</title><g class=\"graph histogram-graph vertical\"><rect class=\"background\" height=\"600\" width=\"800\" x=\"0\" y=\"0\" /><g class=\"plot\" transform=\"translate(124, 20)\"><rect class=\"background\" height=\"540\" width=\"656.0\" x=\"0\" y=\"0\" /><g class=\"axis y always_show\"><g class=\"guides\"><path class=\"axis major line\" d=\"M0.000000 529.615385 h656.000000\" /><text class=\"major\" x=\"-5\" y=\"533.1153846153846\">0</text><title>0</title></g><g class=\"guides\"><path class=\"guide line\" d=\"M0.000000 485.824310 h656.000000\" /><text class=\"\" x=\"-5\" y=\"489.32431020948354\">1000</text><title>1000</title></g><g class=\"guides\"><path class=\"guide line\" d=\"M0.000000 442.033236 h656.000000\" /><text class=\"\" x=\"-5\" y=\"445.53323580358244\">2000</text><title>2000</title></g><g class=\"guides\"><path class=\"guide line\" d=\"M0.000000 398.242161 h656.000000\" /><text class=\"\" x=\"-5\" y=\"401.74216139768134\">3000</text><title>3000</title></g><g class=\"guides\"><path class=\"guide line\" d=\"M0.000000 354.451087 h656.000000\" /><text class=\"\" x=\"-5\" y=\"357.95108699178024\">4000</text><title>4000</title></g><g class=\"guides\"><path class=\"major guide line\" d=\"M0.000000 310.660013 h656.000000\" /><text class=\"major\" x=\"-5\" y=\"314.16001258587914\">5000</text><title>5000</title></g><g class=\"guides\"><path class=\"guide line\" d=\"M0.000000 266.868938 h656.000000\" /><text class=\"\" x=\"-5\" y=\"270.36893817997804\">6000</text><title>6000</title></g><g class=\"guides\"><path class=\"guide line\" d=\"M0.000000 223.077864 h656.000000\" /><text class=\"\" x=\"-5\" y=\"226.57786377407695\">7000</text><title>7000</title></g><g class=\"guides\"><path class=\"guide line\" d=\"M0.000000 179.286789 h656.000000\" /><text class=\"\" x=\"-5\" y=\"182.7867893681759\">8000</text><title>8000</title></g><g class=\"guides\"><path class=\"guide line\" d=\"M0.000000 135.495715 h656.000000\" /><text class=\"\" x=\"-5\" y=\"138.9957149622748\">9000</text><title>9000</title></g><g class=\"guides\"><path class=\"major guide line\" d=\"M0.000000 91.704641 h656.000000\" /><text class=\"major\" x=\"-5\" y=\"95.2046405563737\">10000</text><title>10000</title></g><g class=\"guides\"><path class=\"guide line\" d=\"M0.000000 47.913566 h656.000000\" /><text class=\"\" x=\"-5\" y=\"51.413566150472604\">11000</text><title>11000</title></g></g><g class=\"axis x\"><g class=\"guides\"><path class=\"guide line\" d=\"M12.615385 0.000000 v540.000000\" /><text class=\"\" x=\"12.615384615384626\" y=\"555.0\">-2</text><title>-2</title></g><g class=\"guides\"><path class=\"guide line\" d=\"M69.958042 0.000000 v540.000000\" /><text class=\"\" x=\"69.95804195804196\" y=\"555.0\">-1</text><title>-1</title></g><g class=\"guides\"><path class=\"axis line\" d=\"M127.300699 0.000000 v540.000000\" /><text class=\"\" x=\"127.3006993006993\" y=\"555.0\">0</text><title>0</title></g><g class=\"guides\"><path class=\"guide line\" d=\"M184.643357 0.000000 v540.000000\" /><text class=\"\" x=\"184.64335664335664\" y=\"555.0\">1</text><title>1</title></g><g class=\"guides\"><path class=\"guide line\" d=\"M241.986014 0.000000 v540.000000\" /><text class=\"\" x=\"241.986013986014\" y=\"555.0\">2</text><title>2</title></g><g class=\"guides\"><path class=\"guide line\" d=\"M299.328671 0.000000 v540.000000\" /><text class=\"\" x=\"299.32867132867136\" y=\"555.0\">3</text><title>3</title></g><g class=\"guides\"><path class=\"guide line\" d=\"M356.671329 0.000000 v540.000000\" /><text class=\"\" x=\"356.6713286713287\" y=\"555.0\">4</text><title>4</title></g><g class=\"guides\"><path class=\"guide line\" d=\"M414.013986 0.000000 v540.000000\" /><text class=\"\" x=\"414.013986013986\" y=\"555.0\">5</text><title>5</title></g><g class=\"guides\"><path class=\"guide line\" d=\"M471.356643 0.000000 v540.000000\" /><text class=\"\" x=\"471.35664335664336\" y=\"555.0\">6</text><title>6</title></g><g class=\"guides\"><path class=\"guide line\" d=\"M528.699301 0.000000 v540.000000\" /><text class=\"\" x=\"528.6993006993007\" y=\"555.0\">7</text><title>7</title></g><g class=\"guides\"><path class=\"guide line\" d=\"M586.041958 0.000000 v540.000000\" /><text class=\"\" x=\"586.0419580419581\" y=\"555.0\">8</text><title>8</title></g><g class=\"guides\"><path class=\"guide line\" d=\"M643.384615 0.000000 v540.000000\" /><text class=\"\" x=\"643.3846153846154\" y=\"555.0\">9</text><title>9</title></g></g><g class=\"series serie-0 color-0\"><g class=\"histbars\"><g class=\"histbar\"><rect class=\"rect reactive tooltip-trigger\" height=\"139.2994076851714\" rx=\"0\" ry=\"0\" width=\"57.34265734265733\" x=\"12.615384615384626\" y=\"390.31597693021325\" /><desc class=\"value\">3181: -2</desc><desc class=\"x centered\">41.286713286713294</desc><desc class=\"y centered\">459.9656807727989</desc></g><g class=\"histbar\"><rect class=\"rect reactive tooltip-trigger\" height=\"169.82178654608447\" rx=\"0\" ry=\"0\" width=\"57.34265734265735\" x=\"69.95804195804196\" y=\"359.7935980693002\" /><desc class=\"value\">3878: -1</desc><desc class=\"x centered\">98.62937062937064</desc><desc class=\"y centered\">444.7044913423424</desc></g><g class=\"histbar\"><rect class=\"rect reactive tooltip-trigger\" height=\"519.2307692307693\" rx=\"0\" ry=\"0\" width=\"57.34265734265733\" x=\"127.3006993006993\" y=\"10.384615384615358\" /><desc class=\"value\">11857: 0</desc><desc class=\"x centered\">155.97202797202797</desc><desc class=\"y centered\">270.0</desc></g><g class=\"histbar\"><rect class=\"rect reactive tooltip-trigger\" height=\"0.0\" rx=\"0\" ry=\"0\" width=\"57.34265734265736\" x=\"184.64335664335664\" y=\"529.6153846153846\" /><desc class=\"value\">0: 1</desc><desc class=\"x centered\">213.31468531468533</desc><desc class=\"y centered\">529.6153846153846</desc></g><g class=\"histbar\"><rect class=\"rect reactive tooltip-trigger\" height=\"81.53898054378783\" rx=\"0\" ry=\"0\" width=\"57.34265734265736\" x=\"241.986013986014\" y=\"448.0764040715968\" /><desc class=\"value\">1862: 2</desc><desc class=\"x centered\">270.65734265734267</desc><desc class=\"y centered\">488.8458943434907</desc></g><g class=\"histbar\"><rect class=\"rect reactive tooltip-trigger\" height=\"5.298720003114113\" rx=\"0\" ry=\"0\" width=\"57.34265734265733\" x=\"299.32867132867136\" y=\"524.3166646122705\" /><desc class=\"value\">121: 3</desc><desc class=\"x centered\">328.0</desc><desc class=\"y centered\">526.9660246138276</desc></g><g class=\"histbar\"><rect class=\"rect reactive tooltip-trigger\" height=\"2.539882315542286\" rx=\"0\" ry=\"0\" width=\"57.34265734265733\" x=\"356.6713286713287\" y=\"527.0755022998424\" /><desc class=\"value\">58: 4</desc><desc class=\"x centered\">385.3426573426574</desc><desc class=\"y centered\">528.3454434576136</desc></g><g class=\"histbar\"><rect class=\"rect reactive tooltip-trigger\" height=\"0.4817018184648987\" rx=\"0\" ry=\"0\" width=\"57.34265734265733\" x=\"414.013986013986\" y=\"529.1336827969197\" /><desc class=\"value\">11: 5</desc><desc class=\"x centered\">442.68531468531467</desc><desc class=\"y centered\">529.3745337061522</desc></g><g class=\"histbar\"><rect class=\"rect reactive tooltip-trigger\" height=\"0.08758214881186177\" rx=\"0\" ry=\"0\" width=\"57.34265734265733\" x=\"471.35664335664336\" y=\"529.5278024665728\" /><desc class=\"value\">2: 6</desc><desc class=\"x centered\">500.02797202797206</desc><desc class=\"y centered\">529.5715935409787</desc></g><g class=\"histbar\"><rect class=\"rect reactive tooltip-trigger\" height=\"1.2699411577711999\" rx=\"0\" ry=\"0\" width=\"57.34265734265739\" x=\"528.6993006993007\" y=\"528.3454434576134\" /><desc class=\"value\">29: 7</desc><desc class=\"x centered\">557.3706293706293</desc><desc class=\"y centered\">528.980414036499</desc></g><g class=\"histbar\"><rect class=\"rect reactive tooltip-trigger\" height=\"0.043791074405930885\" rx=\"0\" ry=\"0\" width=\"57.342657342657276\" x=\"586.0419580419581\" y=\"529.5715935409787\" /><desc class=\"value\">1: 8</desc><desc class=\"x centered\">614.7132867132867</desc><desc class=\"y centered\">529.5934890781816</desc></g></g></g></g><g class=\"titles\" /><g class=\"plot overlay\" transform=\"translate(124, 20)\"><g class=\"series serie-0 color-0\" /></g><g class=\"plot text-overlay\" transform=\"translate(124, 20)\"><g class=\"series serie-0 color-0\" /></g><g class=\"plot tooltip-overlay\" transform=\"translate(124, 20)\"><g class=\"tooltip\" style=\"opacity: 0\" transform=\"translate(0 0)\"><rect class=\"tooltip-box\" height=\"0\" rx=\"0\" ry=\"0\" width=\"0\" /><g class=\"text\" /></g></g><g class=\"legends\" transform=\"translate(10, 30)\"><g class=\"legend reactive activate-serie\" id=\"activate-serie-0\"><rect class=\"color-0 reactive\" height=\"12\" width=\"12\" x=\"0.0\" y=\"1.0\" /><text x=\"17.0\" y=\"11.2\">PAY_5</text></g></g><g class=\"legends\" transform=\"translate(790, 30)\" /></g></svg>\n",
       "    </figure>\n",
       "  </body>\n",
       "</html>\n"
      ],
      "text/plain": [
       "<IPython.core.display.HTML object>"
      ]
     },
     "metadata": {},
     "output_type": "display_data"
    }
   ],
   "source": [
    "plot_hist(amt1_train,ls_pred[10])"
   ]
  },
  {
   "cell_type": "code",
   "execution_count": 12,
   "metadata": {},
   "outputs": [
    {
     "data": {
      "text/plain": [
       "(235, 23)"
      ]
     },
     "execution_count": 12,
     "metadata": {},
     "output_type": "execute_result"
    }
   ],
   "source": [
    "amt1_train[amt1_train[\"PAY_AMT2\"]>=70000.270000].shape"
   ]
  },
  {
   "cell_type": "code",
   "execution_count": 13,
   "metadata": {},
   "outputs": [
    {
     "data": {
      "text/plain": [
       "(210, 23)"
      ]
     },
     "execution_count": 13,
     "metadata": {},
     "output_type": "execute_result"
    }
   ],
   "source": [
    "amt1_train[amt1_train[\"BILL_AMT6\"]<=-304.030000].shape"
   ]
  },
  {
   "cell_type": "code",
   "execution_count": 14,
   "metadata": {},
   "outputs": [
    {
     "data": {
      "text/plain": [
       "(20580, 23)"
      ]
     },
     "execution_count": 14,
     "metadata": {},
     "output_type": "execute_result"
    }
   ],
   "source": [
    "amt1_train[(amt1_train[\"BILL_AMT6\"]>=-304) & (amt1_train[\"BILL_AMT6\"]<273144)].shape"
   ]
  },
  {
   "cell_type": "code",
   "execution_count": 15,
   "metadata": {},
   "outputs": [
    {
     "data": {
      "text/plain": [
       "(21000, 23)"
      ]
     },
     "execution_count": 15,
     "metadata": {},
     "output_type": "execute_result"
    }
   ],
   "source": [
    "amt1_train.shape"
   ]
  },
  {
   "cell_type": "code",
   "execution_count": 16,
   "metadata": {},
   "outputs": [
    {
     "data": {
      "text/plain": [
       "0.9681904761904762"
      ]
     },
     "execution_count": 16,
     "metadata": {},
     "output_type": "execute_result"
    }
   ],
   "source": [
    "20332/21000"
   ]
  },
  {
   "cell_type": "code",
   "execution_count": 17,
   "metadata": {},
   "outputs": [],
   "source": [
    "from sklearn.model_selection import cross_val_score\n",
    "from sklearn.linear_model import LinearRegression, Lars, ElasticNet, Lasso, Ridge, BayesianRidge"
   ]
  },
  {
   "cell_type": "code",
   "execution_count": 18,
   "metadata": {},
   "outputs": [],
   "source": [
    "aux[\"diff_BILL_AMT2_3\"]=aux[\"BILL_AMT2\"]-aux[\"BILL_AMT3\"]\n",
    "aux[\"diff_BILL_AMT3_4\"]=aux[\"BILL_AMT3\"]-aux[\"BILL_AMT4\"]\n",
    "aux[\"diff_BILL_AMT4_5\"]=aux[\"BILL_AMT4\"]-aux[\"BILL_AMT5\"]\n",
    "aux[\"diff_BILL_AMT5_6\"]=aux[\"BILL_AMT5\"]-aux[\"BILL_AMT6\"]\n",
    "\n",
    "amt1_train[\"diff_BILL_AMT2_4\"]=amt1_train[\"BILL_AMT2\"]-amt1_train[\"BILL_AMT4\"]\n",
    "amt1_train[\"diff_BILL_AMT3_5\"]=amt1_train[\"BILL_AMT3\"]-amt1_train[\"BILL_AMT5\"]\n",
    "amt1_train[\"diff_BILL_AMT4_6\"]=amt1_train[\"BILL_AMT4\"]-amt1_train[\"BILL_AMT6\"]\n",
    "\n",
    "amt1_train[\"diff_PAY_AMT2_3\"]=amt1_train[\"PAY_AMT2\"]-amt1_train[\"PAY_AMT3\"]\n",
    "amt1_train[\"diff_PAY_AMT3_4\"]=amt1_train[\"PAY_AMT3\"]-amt1_train[\"PAY_AMT4\"]\n",
    "amt1_train[\"diff_PAY_AMT4_5\"]=amt1_train[\"PAY_AMT4\"]-amt1_train[\"PAY_AMT5\"]\n",
    "amt1_train[\"diff_PAY_AMT5_6\"]=amt1_train[\"PAY_AMT5\"]-amt1_train[\"PAY_AMT6\"]\n",
    "\n",
    "amt1_train[\"LIMBAL-BILL_AMT_2\"]=amt1_train[\"BILL_AMT2\"]*amt1_train[\"LIMIT_BAL\"]\n",
    "amt1_train[\"LIMBAL-BILL_AMT_3\"]=amt1_train[\"BILL_AMT3\"]*amt1_train[\"LIMIT_BAL\"]\n",
    "amt1_train[\"LIMBAL-BILL_AMT_4\"]=amt1_train[\"BILL_AMT4\"]*amt1_train[\"LIMIT_BAL\"]\n",
    "amt1_train[\"LIMBAL-BILL_AMT_5\"]=amt1_train[\"BILL_AMT5\"]*amt1_train[\"LIMIT_BAL\"]\n",
    "amt1_train[\"LIMBAL-BILL_AMT_6\"]=amt1_train[\"BILL_AMT6\"]*amt1_train[\"LIMIT_BAL\"]"
   ]
  },
  {
   "cell_type": "code",
   "execution_count": 26,
   "metadata": {},
   "outputs": [],
   "source": [
    "tgt = \"PAY_AMT1\"\n",
    "ls_pred = [x for x in aux.columns if x not in [tgt]]"
   ]
  },
  {
   "cell_type": "code",
   "execution_count": 27,
   "metadata": {},
   "outputs": [],
   "source": [
    "x = aux[ls_pred]\n",
    "y = aux[tgt]"
   ]
  },
  {
   "cell_type": "code",
   "execution_count": 28,
   "metadata": {},
   "outputs": [],
   "source": [
    "linReg = LinearRegression()"
   ]
  },
  {
   "cell_type": "code",
   "execution_count": 29,
   "metadata": {},
   "outputs": [
    {
     "data": {
      "text/plain": [
       "LinearRegression(copy_X=True, fit_intercept=True, n_jobs=None, normalize=False)"
      ]
     },
     "execution_count": 29,
     "metadata": {},
     "output_type": "execute_result"
    }
   ],
   "source": [
    "linReg.fit(x,y)"
   ]
  },
  {
   "cell_type": "code",
   "execution_count": 30,
   "metadata": {},
   "outputs": [],
   "source": [
    "ls_res = cross_val_score(estimator = linReg, X=x, y=y, cv=4, n_jobs=-1, scoring=\"r2\")"
   ]
  },
  {
   "cell_type": "code",
   "execution_count": 31,
   "metadata": {},
   "outputs": [
    {
     "data": {
      "text/plain": [
       "0.20085297215636255"
      ]
     },
     "execution_count": 31,
     "metadata": {},
     "output_type": "execute_result"
    }
   ],
   "source": [
    "ls_res.mean()"
   ]
  },
  {
   "cell_type": "markdown",
   "metadata": {},
   "source": [
    "## Regresión Cresta"
   ]
  },
  {
   "cell_type": "code",
   "execution_count": 328,
   "metadata": {},
   "outputs": [],
   "source": [
    "ridgereg = Ridge()"
   ]
  },
  {
   "cell_type": "code",
   "execution_count": 329,
   "metadata": {},
   "outputs": [
    {
     "data": {
      "text/plain": [
       "Ridge(alpha=1.0, copy_X=True, fit_intercept=True, max_iter=None,\n",
       "      normalize=False, random_state=None, solver='auto', tol=0.001)"
      ]
     },
     "execution_count": 329,
     "metadata": {},
     "output_type": "execute_result"
    }
   ],
   "source": [
    "ridgereg.fit(x, y)"
   ]
  },
  {
   "cell_type": "code",
   "execution_count": 330,
   "metadata": {},
   "outputs": [],
   "source": [
    "ls_res = cross_val_score(estimator = ridgereg, X=x, y=y, cv=4, n_jobs=-1, scoring=\"r2\")"
   ]
  },
  {
   "cell_type": "code",
   "execution_count": 331,
   "metadata": {},
   "outputs": [
    {
     "data": {
      "text/plain": [
       "0.2008534606105867"
      ]
     },
     "execution_count": 331,
     "metadata": {},
     "output_type": "execute_result"
    }
   ],
   "source": [
    "ls_res.mean()"
   ]
  },
  {
   "cell_type": "code",
   "execution_count": 332,
   "metadata": {},
   "outputs": [
    {
     "data": {
      "text/plain": [
       "array([0.1590365 , 0.16657979, 0.19993341, 0.27786415])"
      ]
     },
     "execution_count": 332,
     "metadata": {},
     "output_type": "execute_result"
    }
   ],
   "source": [
    "ls_res"
   ]
  },
  {
   "cell_type": "code",
   "execution_count": 333,
   "metadata": {},
   "outputs": [
    {
     "name": "stdout",
     "output_type": "stream",
     "text": [
      "0.2008534606105867\n",
      "0.20085394754017513\n",
      "0.20085443294705982\n",
      "0.20085491683321893\n",
      "0.20085539920062845\n",
      "0.2008558800512603\n",
      "0.20085635938708482\n",
      "0.20085683721006847\n",
      "0.20085731352217545\n",
      "0.2008577883253664\n",
      "0.20085826162159998\n",
      "0.2008587334128309\n",
      "0.2008592037010118\n",
      "0.20085967248809197\n",
      "0.2008601397760183\n",
      "0.2008606055667344\n",
      "0.20086106986218108\n",
      "0.20086153266429665\n",
      "0.200861993975016\n"
     ]
    }
   ],
   "source": [
    "ridgereg = Ridge()\n",
    "ridgereg.fit(x, y)\n",
    "ls_res = cross_val_score(estimator = ridgereg, X=x, y=y, cv=4, n_jobs=-1, scoring=\"r2\")\n",
    "print(np.mean(ls_res))\n",
    "ident=1\n",
    "val=np.mean(ls_res)\n",
    "for i in range(2,20):\n",
    "    ridgereg = Ridge(alpha=i)\n",
    "    ridgereg.fit(x, y)\n",
    "    ls_res = cross_val_score(estimator = ridgereg, X=x, y=y, cv=4, n_jobs=-1, scoring=\"r2\")\n",
    "    print(np.mean(ls_res))\n",
    "    if(val<np.mean(ls_res)):\n",
    "        ident=i\n",
    "        val=np.mean(ls_res)"
   ]
  },
  {
   "cell_type": "markdown",
   "metadata": {},
   "source": [
    "## Regresión Lasso"
   ]
  },
  {
   "cell_type": "code",
   "execution_count": 334,
   "metadata": {},
   "outputs": [],
   "source": [
    "lassreg = Lasso()"
   ]
  },
  {
   "cell_type": "code",
   "execution_count": 335,
   "metadata": {},
   "outputs": [
    {
     "data": {
      "text/plain": [
       "Lasso(alpha=1.0, copy_X=True, fit_intercept=True, max_iter=1000,\n",
       "      normalize=False, positive=False, precompute=False, random_state=None,\n",
       "      selection='cyclic', tol=0.0001, warm_start=False)"
      ]
     },
     "execution_count": 335,
     "metadata": {},
     "output_type": "execute_result"
    }
   ],
   "source": [
    "lassreg.fit(x, y)"
   ]
  },
  {
   "cell_type": "code",
   "execution_count": 336,
   "metadata": {},
   "outputs": [],
   "source": [
    "ls_res = cross_val_score(estimator = lassreg, X=x, y=y, cv=4, n_jobs=-1, scoring=\"r2\")"
   ]
  },
  {
   "cell_type": "code",
   "execution_count": 337,
   "metadata": {},
   "outputs": [
    {
     "data": {
      "text/plain": [
       "0.20086646710975317"
      ]
     },
     "execution_count": 337,
     "metadata": {},
     "output_type": "execute_result"
    }
   ],
   "source": [
    "ls_res.mean()"
   ]
  },
  {
   "cell_type": "code",
   "execution_count": 338,
   "metadata": {},
   "outputs": [
    {
     "name": "stdout",
     "output_type": "stream",
     "text": [
      "0.20086646710975317\n",
      "0.200879740201998\n",
      "0.20089279145947073\n",
      "0.2009056208581332\n",
      "0.20091822842192847\n",
      "0.20093039776323793\n",
      "0.2009415253597199\n",
      "0.2009524372559955\n",
      "0.20096313344126665\n",
      "0.2009736138936539\n",
      "0.20098387867188441\n",
      "0.20099392770156232\n",
      "0.20100376102104917\n",
      "0.2010136046309459\n",
      "0.2010241303139842\n",
      "0.20103440675075418\n",
      "0.20104449581406839\n",
      "0.20105439751273868\n",
      "0.20106401554515033\n"
     ]
    }
   ],
   "source": [
    "lassreg = Lasso()\n",
    "lassreg.fit(x, y)\n",
    "ls_res = cross_val_score(estimator = lassreg, X=x, y=y, cv=4, n_jobs=-1, scoring=\"r2\")\n",
    "print(np.mean(ls_res))\n",
    "ident=1\n",
    "val=np.mean(ls_res)\n",
    "for i in range(2,20):\n",
    "    lassreg = Lasso(alpha=i)\n",
    "    lassreg.fit(x, y)\n",
    "    ls_res = cross_val_score(estimator = lassreg, X=x, y=y, cv=4, n_jobs=-1, scoring=\"r2\")\n",
    "    print(np.mean(ls_res))\n",
    "    if(val<np.mean(ls_res)):\n",
    "        ident=i\n",
    "        val=np.mean(ls_res)"
   ]
  },
  {
   "cell_type": "markdown",
   "metadata": {},
   "source": [
    "## Red elástica"
   ]
  },
  {
   "cell_type": "code",
   "execution_count": 339,
   "metadata": {},
   "outputs": [],
   "source": [
    "elasnet = ElasticNet()"
   ]
  },
  {
   "cell_type": "code",
   "execution_count": 340,
   "metadata": {},
   "outputs": [
    {
     "data": {
      "text/plain": [
       "ElasticNet(alpha=1.0, copy_X=True, fit_intercept=True, l1_ratio=0.5,\n",
       "           max_iter=1000, normalize=False, positive=False, precompute=False,\n",
       "           random_state=None, selection='cyclic', tol=0.0001, warm_start=False)"
      ]
     },
     "execution_count": 340,
     "metadata": {},
     "output_type": "execute_result"
    }
   ],
   "source": [
    "elasnet.fit(x, y)"
   ]
  },
  {
   "cell_type": "code",
   "execution_count": 341,
   "metadata": {},
   "outputs": [],
   "source": [
    "ls_res = cross_val_score(estimator = elasnet, X=x, y=y, cv=4, n_jobs=-1, scoring=\"r2\")"
   ]
  },
  {
   "cell_type": "code",
   "execution_count": 342,
   "metadata": {},
   "outputs": [
    {
     "data": {
      "text/plain": [
       "0.1964841480166057"
      ]
     },
     "execution_count": 342,
     "metadata": {},
     "output_type": "execute_result"
    }
   ],
   "source": [
    "ls_res.mean()"
   ]
  },
  {
   "cell_type": "code",
   "execution_count": null,
   "metadata": {},
   "outputs": [],
   "source": []
  }
 ],
 "metadata": {
  "kernelspec": {
   "display_name": "unam",
   "language": "python",
   "name": "unam"
  },
  "language_info": {
   "codemirror_mode": {
    "name": "ipython",
    "version": 3
   },
   "file_extension": ".py",
   "mimetype": "text/x-python",
   "name": "python",
   "nbconvert_exporter": "python",
   "pygments_lexer": "ipython3",
   "version": "3.7.4"
  }
 },
 "nbformat": 4,
 "nbformat_minor": 2
}
